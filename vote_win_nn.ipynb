{
 "cells": [
  {
   "cell_type": "code",
   "execution_count": 1,
   "metadata": {
    "collapsed": true
   },
   "outputs": [],
   "source": [
    "import requests\n",
    "from bs4 import BeautifulSoup # XML\n",
    "import re\n",
    "import pandas as pd"
   ]
  },
  {
   "cell_type": "code",
   "execution_count": 2,
   "metadata": {
    "collapsed": true
   },
   "outputs": [],
   "source": [
    "def scrap_page(cityCode, sggCityCode = '-1'):\n",
    "    print \"fetching \" , cityCode, sggCityCode\n",
    "        \n",
    "    target_url = 'http://info.nec.go.kr/electioninfo/electionInfo_report.xhtml?electionId=0020160413&requestURI=%2FWEB-INF%2Fjsp%2Felectioninfo%2F0020160413%2Fvc%2Fvccp09.jsp&topMenuId=VC&secondMenuId=VCCP09&menuId=VCCP09&statementId=VCCP09_%232&electionCode=2&cityCode='+ cityCode + '&sggCityCode='+ sggCityCode +'&proportionalRepresentationCode=-1&townCode=-1&sggTownCode=-1'\n",
    "    r = requests.get(target_url)# your code here. Get requests for the given URL.\n",
    "    \n",
    "    return r.text"
   ]
  },
  {
   "cell_type": "code",
   "execution_count": 3,
   "metadata": {
    "collapsed": true
   },
   "outputs": [],
   "source": [
    "def str2number(number_str):\n",
    "        if number_str is None:\n",
    "            return None\n",
    "        else:\n",
    "            number_str = re.sub(\"[^0-9]\", \"\", number_str) \n",
    "            # return int(number_str)\n",
    "            if(number_str == \"\") : \n",
    "                number_str = '1';\n",
    "            return int(float(number_str))"
   ]
  },
  {
   "cell_type": "code",
   "execution_count": 4,
   "metadata": {
    "collapsed": true
   },
   "outputs": [],
   "source": [
    "column_index = ['city', 'sggCity', 'sggCityName', 'party', 'sex', 'age', 'school', 'percent', 'rank','win']"
   ]
  },
  {
   "cell_type": "code",
   "execution_count": 18,
   "metadata": {
    "collapsed": true
   },
   "outputs": [],
   "source": [
    "def parsing(cityCode):\n",
    "    html = scrap_page(cityCode)\n",
    "    soup = BeautifulSoup(html)\n",
    "    \n",
    "\n",
    "    table = soup.find('table')\n",
    "    rows = table.findAll('tr')\n",
    "\n",
    "    df = pd.DataFrame([], columns=column_index)\n",
    "    nameRows = []\n",
    "    for i in range(1,len(rows)):\n",
    "        if not rows[i].find('td').text == '':\n",
    "            nameRows.append(i)\n",
    "\n",
    "    for i in nameRows :\n",
    "        rowOfName = rows[i].findAll('td')\n",
    "        rowOfPercent = rows[i+1].findAll('td')\n",
    "\n",
    "        for j in range(4,14):\n",
    "            try:\n",
    "                name = str(rowOfName[j]).split('<br/>')[1].split('</strong></td>')[0]\n",
    "                if not name == '':\n",
    "                    party = str(rowOfName[j]).split('<br/>')[0].split('<strong>')[1]\n",
    "                    \n",
    "                    if party =='새누리당' :\n",
    "                        party = 1\n",
    "                    elif party =='더불어민주당' :\n",
    "                        party = 2\n",
    "                    elif party =='국민의당' :\n",
    "                        party = 3\n",
    "                    elif party =='정의당' :\n",
    "                        party = 4\n",
    "                    elif party =='무소속' :\n",
    "                        party = 5\n",
    "                    elif party == '노동당' :\n",
    "                        party = 14\n",
    "                    elif party == '녹색당' :\n",
    "                        party = 15\n",
    "                    elif party == '민중연합당' :\n",
    "                        party = 16\n",
    "                    elif party == '친반통일당' :\n",
    "                        party = 18\n",
    "                    else : party = 9\n",
    "                    \n",
    "                    percent = float(rowOfPercent[j].text.split('(')[1].split(')')[0])\n",
    "                    sggCityName = rowOfName[0].text\n",
    "                    sggCity = int(cityCodes[cityCode][sggCityName.encode('utf-8')])\n",
    "                    \n",
    "                    newRow = pd.DataFrame([[int(cityCode) ,sggCity, sggCityName, int(party), -1, 0.0, -1,float(percent), -1]], columns=column_index, index=[name])\n",
    "                    df = df.append(newRow)\n",
    "            except:\n",
    "                pass\n",
    "    return df"
   ]
  },
  {
   "cell_type": "code",
   "execution_count": 19,
   "metadata": {
    "collapsed": true
   },
   "outputs": [],
   "source": [
    "cityCodes={}\n",
    "cityCodes['1100']={'종로구' : 2110101,'중구성동구갑' : 2110402,'중구성동구을' : 2110201,'용산구' : 2110301,'광진구갑' : 2110501,'광진구을' : 2110502,'동대문구갑' : 2110601,'동대문구을' : 2110602,'중랑구갑' : 2110701,'중랑구을' : 2110702,'성북구갑' : 2110801,'성북구을' : 2110802,'강북구갑' : 2110901,'강북구을' : 2110902,'도봉구갑' : 2111001,'도봉구을' : 2111002,'노원구갑' : 2111101,'노원구을' : 2111102,'노원구병' : 2111103,'은평구갑' : 2111201,'은평구을' : 2111202,'서대문구갑' : 2111301,'서대문구을' : 2111302,'마포구갑' : 2111401,'마포구을' : 2111402,'양천구갑' : 2111501,'양천구을' : 2111502,'강서구갑' : 2111601,'강서구을' : 2111602,'강서구병' : 2111603,'구로구갑' : 2111701,'구로구을' : 2111702,'금천구' : 2111801,'영등포구갑' : 2111901,'영등포구을' : 2111902,'동작구갑' : 2112001,'동작구을' : 2112002,'관악구갑' : 2112101,'관악구을' : 2112102,'서초구갑' : 2112201,'서초구을' : 2112202,'강남구갑' : 2112301,'강남구을' : 2112302,'강남구병' : 2112303,'송파구갑' : 2112401,'송파구을' : 2112402,'송파구병' : 2112403,'강동구갑' : 2112501,'강동구을' : 2112502}\n",
    "cityCodes['2600']={'중구영도구' : 2260401,'서구동구' : 2260201,'부산진구갑' : 2260501,'부산진구을' : 2260502,'동래구' : 2260601,'남구갑' : 2260701,'남구을' : 2260702,'북구강서구갑' : 2260801,'북구강서구을' : 2261301,'해운대구갑' : 2260902,'해운대구을' : 2260903,'사하구갑' : 2261101,'사하구을' : 2261102,'금정구' : 2261201,'연제구' : 2261401,'수영구' : 2261501,'사상구' : 2261601,'기장군' : 2261002}\n",
    "cityCodes['2700']={'중구남구' : 2270101,'동구갑' : 2270201,'동구을' : 2270202,'서구' : 2270301,'북구갑' : 2270501,'북구을' : 2270502,'수성구갑' : 2270601,'수성구을' : 2270602,'달서구갑' : 2270701,'달서구을' : 2270702,'달서구병' : 2270703,'달성군' : 2270801}\n",
    "cityCodes['2800']={'중구동구강화군옹진군' : 2280101,'남구갑' : 2280301,'남구을' : 2280302,'연수구갑' : 2280402,'연수구을' : 2280403,'남동구갑' : 2280501,'남동구을' : 2280502,'부평구갑' : 2280601,'부평구을' : 2280602,'계양구갑' : 2280701,'계양구을' : 2280702,'서구갑' : 2280802,'서구을' : 2280803}\n",
    "cityCodes['2900']={'동구남구갑' : 2290302,'동구남구을' : 2290101,'서구갑' : 2290201,'서구을' : 2290202,'북구갑' : 2290401,'북구을' : 2290402,'광산구갑' : 2290501,'광산구을' : 2290502}\n",
    "cityCodes['3000']={'동구' : 2300101,'중구' : 2300201,'서구갑' : 2300301,'서구을' : 2300302,'유성구갑' : 2300402,'유성구을' : 2300403,'대덕구' : 2300501}\n",
    "cityCodes['3100']={'중구' : 2310101,'남구갑' : 2310201,'남구을' : 2310202,'동구' : 2310301,'북구' : 2310401,'울주군' : 2310501}\n",
    "cityCodes['5100']={'세종특별자치시' : 2510101}\n",
    "cityCodes['4100']={'수원시갑' : 2410101,'수원시을' : 2410201,'수원시병' : 2410301,'수원시정' : 2410401,'수원시무' : 2410202,'성남시수정구' : 2410501,'성남시중원구' : 2410601,'성남시분당구갑' : 2410701,'성남시분당구을' : 2410702,'의정부시갑' : 2410801,'의정부시을' : 2410802,'안양시만안구' : 2410901,'안양시동안구갑' : 2411001,'안양시동안구을' : 2411002,'부천시원미구갑' : 2411101,'부천시원미구을' : 2411102,'부천시소사구' : 2411201,'부천시오정구' : 2411301,'광명시갑' : 2411401,'광명시을' : 2411402,'평택시갑' : 2411501,'평택시을' : 2411502,'동두천시연천군' : 2411701,'안산시상록구갑' : 2411801,'안산시상록구을' : 2411802,'안산시단원구갑' : 2411901,'안산시단원구을' : 2411902,'고양시갑' : 2412001,'고양시을' : 2412002,'고양시병' : 2412101,'고양시정' : 2412201,'의왕시과천시' : 2412301,'구리시' : 2412501,'남양주시갑' : 2412601,'남양주시을' : 2412602,'남양주시병' : 2412603,'오산시' : 2412701,'시흥시갑' : 2412901,'시흥시을' : 2412902,'군포시갑' : 2413002,'군포시을' : 2413003,'하남시' : 2413101,'용인시갑' : 2413501,'용인시을' : 2413701,'용인시병' : 2413602,'용인시정' : 2413702,'파주시갑' : 2413202,'파주시을' : 2413203,'이천시' : 2413401,'안성시' : 2413801,'김포시갑' : 2413902,'김포시을' : 2413903,'화성시갑' : 2412801,'화성시을' : 2412802,'화성시병' : 2412803,'광주시갑' : 2414002,'광주시을' : 2414003,'양주시' : 2411602,'포천시가평군' : 2414102,'여주시양평군' : 2413301}\n",
    "cityCodes['4200']={'춘천시' : 2420101,'원주시갑' : 2420202,'원주시을' : 2420203,'강릉시' : 2420301,'동해시삼척시' : 2420401,'태백시횡성군영월군평창군정선군' : 2421401,'속초시고성군양양군' : 2420801,'홍천군철원군화천군양구군인제군' : 2421601}\n",
    "cityCodes['4300']={'청주시상당구' : 2430101,'청주시서원구' : 2430201,'청주시흥덕구' : 2430202,'청주시청원구' : 2430601,'충주시' : 2430301,'제천시단양군' : 2430401,'보은군옥천군영동군괴산군' : 2430701,'증평군진천군음성군' : 2431002}\n",
    "cityCodes['4400']={'천안시갑' : 2440101,'천안시을' : 2440102,'천안시병' : 2440103,'공주시부여군청양군' : 2440202,'보령시서천군' : 2440301,'아산시갑' : 2440402,'아산시을' : 2440403,'서산시태안군' : 2440501,'논산시계룡시금산군' : 2440901,'당진시' : 2441601,'홍성군예산군' : 2441301}\n",
    "cityCodes['4500']={'전주시갑' : 2450101,'전주시을' : 2450102,'전주시병' : 2450201,'군산시' : 2450301,'익산시갑' : 2450501,'익산시을' : 2450502,'정읍시고창군' : 2450701,'남원시임실군순창군' : 2450801,'김제시부안군' : 2450902,'완주군진안군무주군장수군' : 2451001}\n",
    "cityCodes['4600']={'목포시' : 2460101,'여수시갑' : 2460201,'여수시을' : 2460202,'순천시' : 2460403,'나주시화순군' : 2460601,'광양시곡성군구례군' : 2460702,'담양군함평군영광군장성군' : 2462202,'고흥군보성군장흥군강진군' : 2461201,'해남군완도군진도군' : 2461801,'영암군무안군신안군' : 2462101}\n",
    "cityCodes['4700']={'포항시북구' : 2470101,'포항시남구울릉군' : 2470201,'경주시' : 2470401,'김천시' : 2470501,'안동시' : 2470601,'구미시갑' : 2470701,'구미시을' : 2470702,'영주시문경시예천군' : 2470801,'영천시청도군' : 2470901,'상주시군위군의성군청송군' : 2471001,'경산시' : 2471302,'영양군영덕군봉화군울진군' : 2472201,'고령군성주군칠곡군' : 2471701}\n",
    "cityCodes['4800']={'창원시의창구' : 2480101,'창원시성산구' : 2480102,'창원시마산합포구' : 2480201,'창원시마산회원구' : 2480202,'창원시진해구' : 2480401,'진주시갑' : 2480301,'진주시을' : 2480302,'통영시고성군' : 2480501,'사천시남해군하동군' : 2480702,'김해시갑' : 2480801,'김해시을' : 2480802,'밀양시의령군함안군창녕군' : 2480901,'거제시' : 2481001,'양산시갑' : 2481402,'양산시을' : 2481403,'산청군함양군거창군합천군' : 2481901}\n",
    "cityCodes['4900']={'제주시갑' : 2490101,'제주시을' : 2490102,'서귀포시' : 2490201}"
   ]
  },
  {
   "cell_type": "code",
   "execution_count": 20,
   "metadata": {
    "collapsed": false
   },
   "outputs": [
    {
     "name": "stdout",
     "output_type": "stream",
     "text": [
      "fetching  4800 -1\n",
      "fetching  2900 -1\n",
      "fetching  2600 -1\n",
      "fetching  4200 -1\n",
      "fetching  4700 -1\n",
      "fetching  4400 -1\n",
      "fetching  3100 -1\n",
      "fetching  2700 -1\n",
      "fetching  4100 -1\n",
      "fetching  4300 -1\n",
      "fetching  3000 -1\n",
      "fetching  1100 -1\n",
      "fetching  4900 -1\n",
      "fetching  2800 -1\n",
      "fetching  5100 -1\n",
      "fetching  4600 -1\n",
      "fetching  4500 -1\n"
     ]
    }
   ],
   "source": [
    "df = pd.DataFrame([], columns=column_index)\n",
    "for cityCode in cityCodes.keys():\n",
    "    rslt = parsing(cityCode)\n",
    "    df= df.append(rslt)"
   ]
  },
  {
   "cell_type": "code",
   "execution_count": 22,
   "metadata": {
    "collapsed": false
   },
   "outputs": [
    {
     "name": "stderr",
     "output_type": "stream",
     "text": [
      "C:\\Users\\bongwoo\\Anaconda2\\lib\\site-packages\\ipykernel\\__main__.py:7: SettingWithCopyWarning: \n",
      "A value is trying to be set on a copy of a slice from a DataFrame\n",
      "\n",
      "See the caveats in the documentation: http://pandas.pydata.org/pandas-docs/stable/indexing.html#indexing-view-versus-copy\n"
     ]
    }
   ],
   "source": [
    "# ranking add\n",
    "for cityCode in cityCodes.keys():\n",
    "    for sggCityCode in cityCodes[cityCode].values() :\n",
    "        sample=df[df.sggCity == sggCityCode]\n",
    "        sample.loc[:,'ranking'] = sample['percent'].rank(ascending=0)\n",
    "        for row in range(len(sample)):\n",
    "                df['rank'][(df.index == sample.index[row]) & (df.sggCity == sggCityCode)] = sample.ranking[row]"
   ]
  },
  {
   "cell_type": "code",
   "execution_count": 23,
   "metadata": {
    "collapsed": false
   },
   "outputs": [
    {
     "name": "stderr",
     "output_type": "stream",
     "text": [
      "C:\\Users\\bongwoo\\Anaconda2\\lib\\site-packages\\ipykernel\\__main__.py:59: SettingWithCopyWarning: \n",
      "A value is trying to be set on a copy of a slice from a DataFrame\n",
      "\n",
      "See the caveats in the documentation: http://pandas.pydata.org/pandas-docs/stable/indexing.html#indexing-view-versus-copy\n",
      "C:\\Users\\bongwoo\\Anaconda2\\lib\\site-packages\\ipykernel\\__main__.py:60: SettingWithCopyWarning: \n",
      "A value is trying to be set on a copy of a slice from a DataFrame\n",
      "\n",
      "See the caveats in the documentation: http://pandas.pydata.org/pandas-docs/stable/indexing.html#indexing-view-versus-copy\n"
     ]
    },
    {
     "name": "stdout",
     "output_type": "stream",
     "text": [
      "fetching 4800\n",
      "fetching 2900\n",
      "fetching 2600\n",
      "fetching 4200\n",
      "fetching 4700\n",
      "fetching 4400\n",
      "fetching 3100\n",
      "fetching 2700\n",
      "fetching 4100\n",
      "fetching 4300\n",
      "fetching 3000\n",
      "fetching 1100\n",
      "fetching 4900\n",
      "fetching 2800\n",
      "fetching 5100\n",
      "fetching 4600\n",
      "fetching 4500\n"
     ]
    },
    {
     "name": "stderr",
     "output_type": "stream",
     "text": [
      "C:\\Users\\bongwoo\\Anaconda2\\lib\\site-packages\\ipykernel\\__main__.py:61: SettingWithCopyWarning: \n",
      "A value is trying to be set on a copy of a slice from a DataFrame\n",
      "\n",
      "See the caveats in the documentation: http://pandas.pydata.org/pandas-docs/stable/indexing.html#indexing-view-versus-copy\n"
     ]
    }
   ],
   "source": [
    "for cityCode in cityCodes.keys():\n",
    "    print 'fetching ' +cityCode\n",
    "    url='http://info.nec.go.kr/electioninfo/electionInfo_report.xhtml?electionId=0020160413&requestURI=%2FWEB-INF%2Fjsp%2Felectioninfo%2F0020160413%2Fcp%2Fcpri03.jsp&topMenuId=CP&secondMenuId=CPRI03&menuId=CPRI03&statementId=CPRI03_%232&electionCode=2&cityCode='+cityCode+'&sggCityCode=0&proportionalRepresentationCode=-1&townCode=-1&sggTownCode=-1&dateCode=0&x=46&y=8'\n",
    "    r = requests.get(url)\n",
    "    html = r.text\n",
    "    soup = BeautifulSoup(html)\n",
    "    table = soup.findAll('table',{'class':'table01'})[0]\n",
    "    tagList = table.findAll('tr')\n",
    "    rowList = tagList[1:len(tagList)]\n",
    "    lst_tmp=[]\n",
    "    for i in range(len(rowList)):\n",
    "        lst_tmp.append(rowList[i])\n",
    "    r_area = [row.findAll('td')[6] for row in lst_tmp]\n",
    "    r_sex = [row.findAll('td')[5] for row in lst_tmp]\n",
    "    r_name = [row.findAll('td')[4] for row in lst_tmp]\n",
    "    r_loc= [row.findAll('td')[0] for row in lst_tmp]\n",
    "    r_school= [row.findAll('td')[9] for row in lst_tmp]\n",
    "    \n",
    "    for a in range(len(r_area)) :\n",
    "        tmp=str(r_area[a])\n",
    "        tmp=tmp.split('(')\n",
    "        tmp2=tmp[1]\n",
    "        tmp2=tmp2.split(')')\n",
    "        age = float(int(tmp2[0][0])*10+int(tmp2[0][1]))\n",
    "\n",
    "        tmp3=str(r_name[a])\n",
    "        tmp3=tmp3.split('<br/>')\n",
    "        name=tmp3[0].split('\\t')\n",
    "        name=name[11].split('<br />')[0]\n",
    "\n",
    "        tmp9=str(r_sex[a]).split('>')\n",
    "        sex=tmp9[1].split('<')[0].strip()\n",
    "        \n",
    "        tmp7=str(r_loc[a]).decode('utf-8').split('>')\n",
    "        sggCity=tmp7[1].split('<')[0]\n",
    "        sggCity = cityCodes[cityCode][sggCity.encode('utf-8')]\n",
    "        \n",
    "        # 학력 정보 입력\n",
    "        tmps=str(r_school[a]).split('>')\n",
    "        school=tmps[1].split('<')[0].strip()\n",
    "        \n",
    "        if school.find('대학') >=1:\n",
    "            if school.find('석사')>=1 :\n",
    "                schooln=3\n",
    "            elif school.find('박사')>=1 :\n",
    "                schooln=4\n",
    "            elif school.find('졸업') >=1 :\n",
    "                schooln=2\n",
    "            else : #대퇴 이하\n",
    "                schooln=1\n",
    "        else : #고졸 이하\n",
    "            schooln=0\n",
    "        \n",
    "        # 성별 정보 입력\n",
    "        if sex == '남' : sex = 0\n",
    "        else : sex = 1\n",
    "        \n",
    "        try : \n",
    "            df['sex'][(df.index == name) & (df.sggCity == sggCity)] = sex\n",
    "            df['age'][(df.index == name) & (df.sggCity == sggCity)] = age\n",
    "            df['school'][(df.index == name) & (df.sggCity == sggCity)] = schooln\n",
    "        except :\n",
    "            pass"
   ]
  },
  {
   "cell_type": "code",
   "execution_count": 25,
   "metadata": {
    "collapsed": true
   },
   "outputs": [],
   "source": [
    "dfPoint=pd.DataFrame.from_csv('all.csv', encoding ='euc-kr')"
   ]
  },
  {
   "cell_type": "code",
   "execution_count": 26,
   "metadata": {
    "collapsed": false
   },
   "outputs": [],
   "source": [
    "length = len(dfPoint)\n",
    "dfPoint['city'] = [-1]*length\n",
    "dfPoint['party'] = [-1]*length\n",
    "dfPoint['sex']= [-1]*length\n",
    "dfPoint['age'] = [-1.0]*length\n",
    "dfPoint['school'] = [-1]*length\n",
    "dfPoint['percent'] = [-1.0]*length\n",
    "dfPoint['rank'] = [-1]*length\n",
    "dfPoint['win'] = [-1]*length"
   ]
  },
  {
   "cell_type": "code",
   "execution_count": 27,
   "metadata": {
    "collapsed": false
   },
   "outputs": [
    {
     "data": {
      "text/html": [
       "<div>\n",
       "<table border=\"1\" class=\"dataframe\">\n",
       "  <thead>\n",
       "    <tr style=\"text-align: right;\">\n",
       "      <th></th>\n",
       "      <th>sggCity</th>\n",
       "      <th>queryPoint</th>\n",
       "      <th>city</th>\n",
       "      <th>party</th>\n",
       "      <th>sex</th>\n",
       "      <th>age</th>\n",
       "      <th>school</th>\n",
       "      <th>percent</th>\n",
       "      <th>rank</th>\n",
       "      <th>win</th>\n",
       "    </tr>\n",
       "    <tr>\n",
       "      <th>name</th>\n",
       "      <th></th>\n",
       "      <th></th>\n",
       "      <th></th>\n",
       "      <th></th>\n",
       "      <th></th>\n",
       "      <th></th>\n",
       "      <th></th>\n",
       "      <th></th>\n",
       "      <th></th>\n",
       "      <th></th>\n",
       "    </tr>\n",
       "  </thead>\n",
       "  <tbody>\n",
       "    <tr>\n",
       "      <th>박종희</th>\n",
       "      <td>2410101</td>\n",
       "      <td>58</td>\n",
       "      <td>4100</td>\n",
       "      <td>1</td>\n",
       "      <td>0</td>\n",
       "      <td>55.0</td>\n",
       "      <td>3</td>\n",
       "      <td>37.40</td>\n",
       "      <td>2</td>\n",
       "      <td>0</td>\n",
       "    </tr>\n",
       "    <tr>\n",
       "      <th>이찬열</th>\n",
       "      <td>2410101</td>\n",
       "      <td>100</td>\n",
       "      <td>4100</td>\n",
       "      <td>2</td>\n",
       "      <td>0</td>\n",
       "      <td>56.0</td>\n",
       "      <td>3</td>\n",
       "      <td>47.42</td>\n",
       "      <td>1</td>\n",
       "      <td>1</td>\n",
       "    </tr>\n",
       "    <tr>\n",
       "      <th>김재귀</th>\n",
       "      <td>2410101</td>\n",
       "      <td>21</td>\n",
       "      <td>4100</td>\n",
       "      <td>3</td>\n",
       "      <td>0</td>\n",
       "      <td>62.0</td>\n",
       "      <td>2</td>\n",
       "      <td>15.17</td>\n",
       "      <td>3</td>\n",
       "      <td>0</td>\n",
       "    </tr>\n",
       "    <tr>\n",
       "      <th>김상민</th>\n",
       "      <td>2410201</td>\n",
       "      <td>100</td>\n",
       "      <td>4100</td>\n",
       "      <td>1</td>\n",
       "      <td>0</td>\n",
       "      <td>42.0</td>\n",
       "      <td>2</td>\n",
       "      <td>36.97</td>\n",
       "      <td>2</td>\n",
       "      <td>0</td>\n",
       "    </tr>\n",
       "    <tr>\n",
       "      <th>백혜련</th>\n",
       "      <td>2410201</td>\n",
       "      <td>42</td>\n",
       "      <td>4100</td>\n",
       "      <td>2</td>\n",
       "      <td>1</td>\n",
       "      <td>49.0</td>\n",
       "      <td>2</td>\n",
       "      <td>47.14</td>\n",
       "      <td>1</td>\n",
       "      <td>1</td>\n",
       "    </tr>\n",
       "  </tbody>\n",
       "</table>\n",
       "</div>"
      ],
      "text/plain": [
       "      sggCity  queryPoint  city  party  sex   age  school  percent  rank  win\n",
       "name                                                                         \n",
       "박종희   2410101          58  4100      1    0  55.0       3    37.40     2    0\n",
       "이찬열   2410101         100  4100      2    0  56.0       3    47.42     1    1\n",
       "김재귀   2410101          21  4100      3    0  62.0       2    15.17     3    0\n",
       "김상민   2410201         100  4100      1    0  42.0       2    36.97     2    0\n",
       "백혜련   2410201          42  4100      2    1  49.0       2    47.14     1    1"
      ]
     },
     "execution_count": 27,
     "metadata": {},
     "output_type": "execute_result"
    }
   ],
   "source": [
    "errDf = pd.DataFrame([], columns=['name', 'sggCity'])\n",
    "for row in range(len(dfPoint)) :\n",
    "    sggCityName = dfPoint.ix[row]['sggCity']\n",
    "    name = dfPoint.ix[row].name\n",
    "    try:\n",
    "        index = (df.index == name.encode('utf-8')) & (df['sggCityName'] == unicode(sggCityName))\n",
    "        dfPoint.ix[row,'city'] = int(df['city'][index][0])\n",
    "        dfPoint.ix[row,'sggCity'] = int(cityCodes[str(int(dfPoint.ix[row,'city']))][sggCityName.encode('utf-8')])\n",
    "        dfPoint.ix[row,'party'] = int(df['party'][index][0])\n",
    "        dfPoint.ix[row,'sex'] = int(df['sex'][index][0])\n",
    "        dfPoint.ix[row,'age'] = float(df['age'][index][0])\n",
    "        dfPoint.ix[row,'school'] = int(df['school'][index][0])\n",
    "        dfPoint.ix[row,'queryPoint'] = int(dfPoint.ix[row,'queryPoint'])\n",
    "        dfPoint.ix[row,'percent'] = float(df['percent'][index][0])\n",
    "        dfPoint.ix[row,'rank'] = int(df['rank'][index][0])\n",
    "        if dfPoint.ix[row,'rank'] ==1 : dfPoint.ix[row,'win'] = 1\n",
    "        else :dfPoint.ix[row,'win'] = 0\n",
    "    except :\n",
    "        errDf.append([name, sggCity])\n",
    "        newRow = pd.DataFrame([[name, sggCity]], columns=['name', 'sggCity'])\n",
    "        errDf = errDf.append(newRow)\n",
    "        pass\n",
    "dfPoint.head()"
   ]
  },
  {
   "cell_type": "code",
   "execution_count": 28,
   "metadata": {
    "collapsed": false
   },
   "outputs": [],
   "source": [
    "import matplotlib.pyplot as plt\n",
    "%matplotlib inline\n",
    "def plot_2D_lr(x_data, y_data, pred=None, x_label='X', y_label='Y', title=None):\n",
    "    plt.xlabel(x_label)\n",
    "    plt.ylabel(y_label)\n",
    "    plt.scatter(x_data, y_data)\n",
    "    \n",
    "    if pred is not None:\n",
    "        plt.plot(x_data, pred, color='red', linewidth=2)\n",
    "    if title is not None:\n",
    "        plt.title(title)        \n",
    "    \n",
    "    plt.show()"
   ]
  },
  {
   "cell_type": "code",
   "execution_count": 29,
   "metadata": {
    "collapsed": false
   },
   "outputs": [
    {
     "data": {
      "image/png": "[encoded data removed]",
      "text/plain": [
       "<matplotlib.figure.Figure at 0xb050940>"
      ]
     },
     "metadata": {},
     "output_type": "display_data"
    }
   ],
   "source": [
    "plot_2D_lr(dfPoint.queryPoint, dfPoint.percent, x_label='queryPoint', y_label='percent')"
   ]
  },
  {
   "cell_type": "code",
   "execution_count": 370,
   "metadata": {
    "collapsed": false
   },
   "outputs": [
    {
     "data": {
      "image/png": "[encoded data removed]",
      "text/plain": [
       "<matplotlib.figure.Figure at 0xe211160>"
      ]
     },
     "metadata": {},
     "output_type": "display_data"
    }
   ],
   "source": [
    "plot_2D_lr(df.age, df.percent, x_label='age', y_label='percent')"
   ]
  },
  {
   "cell_type": "code",
   "execution_count": 371,
   "metadata": {
    "collapsed": false
   },
   "outputs": [
    {
     "data": {
      "text/plain": [
       "<matplotlib.axes._subplots.AxesSubplot at 0xf104400>"
      ]
     },
     "execution_count": 371,
     "metadata": {},
     "output_type": "execute_result"
    },
    {
     "data": {
      "image/png": "[encoded data removed]",
      "text/plain": [
       "<matplotlib.figure.Figure at 0x146bb5c0>"
      ]
     },
     "metadata": {},
     "output_type": "display_data"
    }
   ],
   "source": [
    "#byshool = df.groupby('school')\n",
    "#byshool['percent'].describe()\n",
    "df.boxplot(column='percent',by='school')"
   ]
  },
  {
   "cell_type": "code",
   "execution_count": 372,
   "metadata": {
    "collapsed": false
   },
   "outputs": [
    {
     "data": {
      "text/plain": [
       "<matplotlib.axes._subplots.AxesSubplot at 0x14b75048>"
      ]
     },
     "execution_count": 372,
     "metadata": {},
     "output_type": "execute_result"
    },
    {
     "data": {
      "image/png": "[encoded data removed]",
      "text/plain": [
       "<matplotlib.figure.Figure at 0xebc56a0>"
      ]
     },
     "metadata": {},
     "output_type": "display_data"
    }
   ],
   "source": [
    "#bysex = df.groupby('sex')\n",
    "#bysex['percent'].describe()\n",
    "df.boxplot(column='percent',by='sex')"
   ]
  },
  {
   "cell_type": "code",
   "execution_count": 30,
   "metadata": {
    "collapsed": false
   },
   "outputs": [],
   "source": [
    "def age_normalization (data) :\n",
    "    df_norm = pd.DataFrame.copy(data)\n",
    "    sum_age = sum(df_norm['age'])\n",
    "    age_mean = float(sum_age)/len(data)\n",
    "\n",
    "    age_range = max(df_norm['age'])- min(df_norm['age'])\n",
    "    a = 0\n",
    "    lst=[]\n",
    "    df_norm['age'].astype(float)\n",
    "    for i in range(len(df_norm)):\n",
    "        a = float(df_norm['age'][i] - age_mean)/age_range\n",
    "        df_norm['age'][i] = a\n",
    "    return df_norm"
   ]
  },
  {
   "cell_type": "code",
   "execution_count": 31,
   "metadata": {
    "collapsed": false
   },
   "outputs": [
    {
     "name": "stderr",
     "output_type": "stream",
     "text": [
      "C:\\Users\\bongwoo\\Anaconda2\\lib\\site-packages\\ipykernel\\__main__.py:12: SettingWithCopyWarning: \n",
      "A value is trying to be set on a copy of a slice from a DataFrame\n",
      "\n",
      "See the caveats in the documentation: http://pandas.pydata.org/pandas-docs/stable/indexing.html#indexing-view-versus-copy\n"
     ]
    },
    {
     "data": {
      "text/html": [
       "<div>\n",
       "<table border=\"1\" class=\"dataframe\">\n",
       "  <thead>\n",
       "    <tr style=\"text-align: right;\">\n",
       "      <th></th>\n",
       "      <th>sggCity</th>\n",
       "      <th>queryPoint</th>\n",
       "      <th>city</th>\n",
       "      <th>party</th>\n",
       "      <th>sex</th>\n",
       "      <th>age</th>\n",
       "      <th>school</th>\n",
       "      <th>percent</th>\n",
       "      <th>rank</th>\n",
       "      <th>win</th>\n",
       "    </tr>\n",
       "    <tr>\n",
       "      <th>name</th>\n",
       "      <th></th>\n",
       "      <th></th>\n",
       "      <th></th>\n",
       "      <th></th>\n",
       "      <th></th>\n",
       "      <th></th>\n",
       "      <th></th>\n",
       "      <th></th>\n",
       "      <th></th>\n",
       "      <th></th>\n",
       "    </tr>\n",
       "  </thead>\n",
       "  <tbody>\n",
       "    <tr>\n",
       "      <th>박종희</th>\n",
       "      <td>2410101</td>\n",
       "      <td>58</td>\n",
       "      <td>4100</td>\n",
       "      <td>1</td>\n",
       "      <td>0</td>\n",
       "      <td>0.006548</td>\n",
       "      <td>3</td>\n",
       "      <td>37.40</td>\n",
       "      <td>2</td>\n",
       "      <td>0</td>\n",
       "    </tr>\n",
       "    <tr>\n",
       "      <th>이찬열</th>\n",
       "      <td>2410101</td>\n",
       "      <td>100</td>\n",
       "      <td>4100</td>\n",
       "      <td>2</td>\n",
       "      <td>0</td>\n",
       "      <td>0.026956</td>\n",
       "      <td>3</td>\n",
       "      <td>47.42</td>\n",
       "      <td>1</td>\n",
       "      <td>1</td>\n",
       "    </tr>\n",
       "    <tr>\n",
       "      <th>김재귀</th>\n",
       "      <td>2410101</td>\n",
       "      <td>21</td>\n",
       "      <td>4100</td>\n",
       "      <td>3</td>\n",
       "      <td>0</td>\n",
       "      <td>0.149405</td>\n",
       "      <td>2</td>\n",
       "      <td>15.17</td>\n",
       "      <td>3</td>\n",
       "      <td>0</td>\n",
       "    </tr>\n",
       "    <tr>\n",
       "      <th>김상민</th>\n",
       "      <td>2410201</td>\n",
       "      <td>100</td>\n",
       "      <td>4100</td>\n",
       "      <td>1</td>\n",
       "      <td>0</td>\n",
       "      <td>-0.258759</td>\n",
       "      <td>2</td>\n",
       "      <td>36.97</td>\n",
       "      <td>2</td>\n",
       "      <td>0</td>\n",
       "    </tr>\n",
       "    <tr>\n",
       "      <th>백혜련</th>\n",
       "      <td>2410201</td>\n",
       "      <td>42</td>\n",
       "      <td>4100</td>\n",
       "      <td>2</td>\n",
       "      <td>1</td>\n",
       "      <td>-0.115901</td>\n",
       "      <td>2</td>\n",
       "      <td>47.14</td>\n",
       "      <td>1</td>\n",
       "      <td>1</td>\n",
       "    </tr>\n",
       "  </tbody>\n",
       "</table>\n",
       "</div>"
      ],
      "text/plain": [
       "      sggCity  queryPoint  city  party  sex       age  school  percent  rank  \\\n",
       "name                                                                           \n",
       "박종희   2410101          58  4100      1    0  0.006548       3    37.40     2   \n",
       "이찬열   2410101         100  4100      2    0  0.026956       3    47.42     1   \n",
       "김재귀   2410101          21  4100      3    0  0.149405       2    15.17     3   \n",
       "김상민   2410201         100  4100      1    0 -0.258759       2    36.97     2   \n",
       "백혜련   2410201          42  4100      2    1 -0.115901       2    47.14     1   \n",
       "\n",
       "      win  \n",
       "name       \n",
       "박종희     0  \n",
       "이찬열     1  \n",
       "김재귀     0  \n",
       "김상민     0  \n",
       "백혜련     1  "
      ]
     },
     "execution_count": 31,
     "metadata": {},
     "output_type": "execute_result"
    }
   ],
   "source": [
    "dfPoint_age_norm=age_normalization(dfPoint)\n",
    "dfPoint_age_norm.head()"
   ]
  },
  {
   "cell_type": "code",
   "execution_count": 34,
   "metadata": {
    "collapsed": true
   },
   "outputs": [],
   "source": [
    "from sklearn import cross_validation\n",
    "from sklearn import linear_model\n",
    "import numpy as np\n",
    "from sklearn import datasets"
   ]
  },
  {
   "cell_type": "markdown",
   "metadata": {},
   "source": [
    "predict percent"
   ]
  },
  {
   "cell_type": "code",
   "execution_count": 35,
   "metadata": {
    "collapsed": false
   },
   "outputs": [],
   "source": [
    "#mtx=dfPoint_age_norm.as_matrix()\n",
    "mtx = dfPoint.as_matrix()"
   ]
  },
  {
   "cell_type": "code",
   "execution_count": 36,
   "metadata": {
    "collapsed": false
   },
   "outputs": [
    {
     "data": {
      "image/png": "[encoded data removed]",
      "text/plain": [
       "<matplotlib.figure.Figure at 0xa2747f0>"
      ]
     },
     "metadata": {},
     "output_type": "display_data"
    },
    {
     "name": "stdout",
     "output_type": "stream",
     "text": [
      "Accuracy: 0.80 (+/- 0.05)\n"
     ]
    },
    {
     "data": {
      "text/html": [
       "<div>\n",
       "<table border=\"1\" class=\"dataframe\">\n",
       "  <thead>\n",
       "    <tr style=\"text-align: right;\">\n",
       "      <th></th>\n",
       "      <th>percent</th>\n",
       "      <th>predict</th>\n",
       "    </tr>\n",
       "  </thead>\n",
       "  <tbody>\n",
       "    <tr>\n",
       "      <th>0</th>\n",
       "      <td>2</td>\n",
       "      <td>1.838441</td>\n",
       "    </tr>\n",
       "    <tr>\n",
       "      <th>1</th>\n",
       "      <td>1</td>\n",
       "      <td>1.262040</td>\n",
       "    </tr>\n",
       "    <tr>\n",
       "      <th>2</th>\n",
       "      <td>3</td>\n",
       "      <td>2.866800</td>\n",
       "    </tr>\n",
       "    <tr>\n",
       "      <th>3</th>\n",
       "      <td>2</td>\n",
       "      <td>1.707479</td>\n",
       "    </tr>\n",
       "    <tr>\n",
       "      <th>4</th>\n",
       "      <td>1</td>\n",
       "      <td>1.375150</td>\n",
       "    </tr>\n",
       "  </tbody>\n",
       "</table>\n",
       "</div>"
      ],
      "text/plain": [
       "  percent   predict\n",
       "0       2  1.838441\n",
       "1       1  1.262040\n",
       "2       3  2.866800\n",
       "3       2  1.707479\n",
       "4       1  1.375150"
      ]
     },
     "execution_count": 36,
     "metadata": {},
     "output_type": "execute_result"
    }
   ],
   "source": [
    "#lr = linear_model.Lasso(alpha=0.1)\n",
    "lr = linear_model.LinearRegression()\n",
    "predicted = cross_validation.cross_val_predict(lr, mtx[:,:-2], mtx[:,-2], cv=5)\n",
    "\n",
    "fig, ax = plt.subplots()\n",
    "ax.scatter(mtx[:,-2], predicted)\n",
    "ax.plot([mtx[:,-2].min(), mtx[:,-2].max()], [mtx[:,-2].min(), mtx[:,-2].max()], 'k--', lw=4)\n",
    "ax.set_xlabel('Measured')\n",
    "ax.set_ylabel('Predicted')\n",
    "plt.show()\n",
    "scores = cross_validation.cross_val_score(lr, mtx[:,:-2], mtx[:,-2], cv=5)\n",
    "print(\"Accuracy: %0.2f (+/- %0.2f)\" % (scores.mean(), scores.std() * 2))\n",
    "pd.DataFrame({'percent': mtx[:,-2], 'predict': predicted}).head()"
   ]
  },
  {
   "cell_type": "markdown",
   "metadata": {},
   "source": [
    "predict rank"
   ]
  },
  {
   "cell_type": "code",
   "execution_count": 19,
   "metadata": {
    "collapsed": false
   },
   "outputs": [
    {
     "data": {
      "image/png": "[encoded data removed]",
      "text/plain": [
       "<matplotlib.figure.Figure at 0xb149e10>"
      ]
     },
     "metadata": {},
     "output_type": "display_data"
    },
    {
     "name": "stdout",
     "output_type": "stream",
     "text": [
      "Accuracy: 0.50 (+/- 0.15)\n"
     ]
    },
    {
     "data": {
      "text/html": [
       "<div>\n",
       "<table border=\"1\" class=\"dataframe\">\n",
       "  <thead>\n",
       "    <tr style=\"text-align: right;\">\n",
       "      <th></th>\n",
       "      <th>percent</th>\n",
       "      <th>predict</th>\n",
       "    </tr>\n",
       "  </thead>\n",
       "  <tbody>\n",
       "    <tr>\n",
       "      <th>0</th>\n",
       "      <td>2</td>\n",
       "      <td>1.766360</td>\n",
       "    </tr>\n",
       "    <tr>\n",
       "      <th>1</th>\n",
       "      <td>1</td>\n",
       "      <td>1.196061</td>\n",
       "    </tr>\n",
       "    <tr>\n",
       "      <th>2</th>\n",
       "      <td>3</td>\n",
       "      <td>2.447835</td>\n",
       "    </tr>\n",
       "    <tr>\n",
       "      <th>3</th>\n",
       "      <td>2</td>\n",
       "      <td>1.257448</td>\n",
       "    </tr>\n",
       "    <tr>\n",
       "      <th>4</th>\n",
       "      <td>1</td>\n",
       "      <td>1.911222</td>\n",
       "    </tr>\n",
       "  </tbody>\n",
       "</table>\n",
       "</div>"
      ],
      "text/plain": [
       "  percent   predict\n",
       "0       2  1.766360\n",
       "1       1  1.196061\n",
       "2       3  2.447835\n",
       "3       2  1.257448\n",
       "4       1  1.911222"
      ]
     },
     "execution_count": 19,
     "metadata": {},
     "output_type": "execute_result"
    }
   ],
   "source": [
    "#lr = linear_model.Lasso(alpha=0.1)\n",
    "lr = linear_model.LinearRegression()\n",
    "predicted = cross_validation.cross_val_predict(lr, mtx[:,:-2], mtx[:,-1], cv=5)\n",
    "\n",
    "fig, ax = plt.subplots()\n",
    "ax.scatter(mtx[:,-1], predicted)\n",
    "ax.plot([mtx[:,-1].min(), mtx[:,-1].max()], [mtx[:,-1].min(), mtx[:,-1].max()], 'k--', lw=4)\n",
    "ax.set_xlabel('Measured')\n",
    "ax.set_ylabel('Predicted')\n",
    "plt.show()\n",
    "scores = cross_validation.cross_val_score(lr, mtx[:,:-2], mtx[:,-1], cv=5)\n",
    "print(\"Accuracy: %0.2f (+/- %0.2f)\" % (scores.mean(), scores.std() * 2))\n",
    "pd.DataFrame({'percent': mtx[:,-1], 'predict': predicted}).head()"
   ]
  },
  {
   "cell_type": "markdown",
   "metadata": {},
   "source": [
    "trying dummy var"
   ]
  },
  {
   "cell_type": "code",
   "execution_count": 37,
   "metadata": {
    "collapsed": false
   },
   "outputs": [],
   "source": [
    "df_dum = pd.DataFrame.copy(dfPoint_age_norm[dfPoint_age_norm.columns[:-2]])\n",
    "df_dum = pd.concat([df_dum, pd.get_dummies(df_dum.sggCity)], axis=1)\n",
    "df_dum = pd.concat([df_dum, pd.get_dummies(df_dum.city)], axis=1)\n",
    "df_dum = pd.concat([df_dum, pd.get_dummies(df_dum.party)], axis=1)\n",
    "df_dum = pd.concat([df_dum, pd.get_dummies(df_dum.school)], axis=1)\n",
    "\n",
    "\n",
    "del df_dum['sggCity']\n",
    "del df_dum['city']\n",
    "del df_dum['party']\n",
    "del df_dum['school']\n",
    "df_dum = pd.concat([df_dum,dfPoint_age_norm[dfPoint_age_norm.columns[-2:]]], axis=1)\n"
   ]
  },
  {
   "cell_type": "code",
   "execution_count": 38,
   "metadata": {
    "collapsed": false
   },
   "outputs": [
    {
     "data": {
      "text/html": [
       "<div>\n",
       "<table border=\"1\" class=\"dataframe\">\n",
       "  <thead>\n",
       "    <tr style=\"text-align: right;\">\n",
       "      <th></th>\n",
       "      <th>queryPoint</th>\n",
       "      <th>sex</th>\n",
       "      <th>age</th>\n",
       "      <th>percent</th>\n",
       "      <th>2110101</th>\n",
       "      <th>2110201</th>\n",
       "      <th>2110301</th>\n",
       "      <th>2110402</th>\n",
       "      <th>2110501</th>\n",
       "      <th>2110502</th>\n",
       "      <th>...</th>\n",
       "      <th>15</th>\n",
       "      <th>16</th>\n",
       "      <th>18</th>\n",
       "      <th>0</th>\n",
       "      <th>1</th>\n",
       "      <th>2</th>\n",
       "      <th>3</th>\n",
       "      <th>4</th>\n",
       "      <th>rank</th>\n",
       "      <th>win</th>\n",
       "    </tr>\n",
       "    <tr>\n",
       "      <th>name</th>\n",
       "      <th></th>\n",
       "      <th></th>\n",
       "      <th></th>\n",
       "      <th></th>\n",
       "      <th></th>\n",
       "      <th></th>\n",
       "      <th></th>\n",
       "      <th></th>\n",
       "      <th></th>\n",
       "      <th></th>\n",
       "      <th></th>\n",
       "      <th></th>\n",
       "      <th></th>\n",
       "      <th></th>\n",
       "      <th></th>\n",
       "      <th></th>\n",
       "      <th></th>\n",
       "      <th></th>\n",
       "      <th></th>\n",
       "      <th></th>\n",
       "      <th></th>\n",
       "    </tr>\n",
       "  </thead>\n",
       "  <tbody>\n",
       "    <tr>\n",
       "      <th>박종희</th>\n",
       "      <td>58</td>\n",
       "      <td>0</td>\n",
       "      <td>0.006548</td>\n",
       "      <td>37.40</td>\n",
       "      <td>0.0</td>\n",
       "      <td>0.0</td>\n",
       "      <td>0.0</td>\n",
       "      <td>0.0</td>\n",
       "      <td>0.0</td>\n",
       "      <td>0.0</td>\n",
       "      <td>...</td>\n",
       "      <td>0.0</td>\n",
       "      <td>0.0</td>\n",
       "      <td>0.0</td>\n",
       "      <td>0.0</td>\n",
       "      <td>0.0</td>\n",
       "      <td>0.0</td>\n",
       "      <td>1.0</td>\n",
       "      <td>0.0</td>\n",
       "      <td>2</td>\n",
       "      <td>0</td>\n",
       "    </tr>\n",
       "    <tr>\n",
       "      <th>이찬열</th>\n",
       "      <td>100</td>\n",
       "      <td>0</td>\n",
       "      <td>0.026956</td>\n",
       "      <td>47.42</td>\n",
       "      <td>0.0</td>\n",
       "      <td>0.0</td>\n",
       "      <td>0.0</td>\n",
       "      <td>0.0</td>\n",
       "      <td>0.0</td>\n",
       "      <td>0.0</td>\n",
       "      <td>...</td>\n",
       "      <td>0.0</td>\n",
       "      <td>0.0</td>\n",
       "      <td>0.0</td>\n",
       "      <td>0.0</td>\n",
       "      <td>0.0</td>\n",
       "      <td>0.0</td>\n",
       "      <td>1.0</td>\n",
       "      <td>0.0</td>\n",
       "      <td>1</td>\n",
       "      <td>1</td>\n",
       "    </tr>\n",
       "    <tr>\n",
       "      <th>김재귀</th>\n",
       "      <td>21</td>\n",
       "      <td>0</td>\n",
       "      <td>0.149405</td>\n",
       "      <td>15.17</td>\n",
       "      <td>0.0</td>\n",
       "      <td>0.0</td>\n",
       "      <td>0.0</td>\n",
       "      <td>0.0</td>\n",
       "      <td>0.0</td>\n",
       "      <td>0.0</td>\n",
       "      <td>...</td>\n",
       "      <td>0.0</td>\n",
       "      <td>0.0</td>\n",
       "      <td>0.0</td>\n",
       "      <td>0.0</td>\n",
       "      <td>0.0</td>\n",
       "      <td>1.0</td>\n",
       "      <td>0.0</td>\n",
       "      <td>0.0</td>\n",
       "      <td>3</td>\n",
       "      <td>0</td>\n",
       "    </tr>\n",
       "    <tr>\n",
       "      <th>김상민</th>\n",
       "      <td>100</td>\n",
       "      <td>0</td>\n",
       "      <td>-0.258759</td>\n",
       "      <td>36.97</td>\n",
       "      <td>0.0</td>\n",
       "      <td>0.0</td>\n",
       "      <td>0.0</td>\n",
       "      <td>0.0</td>\n",
       "      <td>0.0</td>\n",
       "      <td>0.0</td>\n",
       "      <td>...</td>\n",
       "      <td>0.0</td>\n",
       "      <td>0.0</td>\n",
       "      <td>0.0</td>\n",
       "      <td>0.0</td>\n",
       "      <td>0.0</td>\n",
       "      <td>1.0</td>\n",
       "      <td>0.0</td>\n",
       "      <td>0.0</td>\n",
       "      <td>2</td>\n",
       "      <td>0</td>\n",
       "    </tr>\n",
       "    <tr>\n",
       "      <th>백혜련</th>\n",
       "      <td>42</td>\n",
       "      <td>1</td>\n",
       "      <td>-0.115901</td>\n",
       "      <td>47.14</td>\n",
       "      <td>0.0</td>\n",
       "      <td>0.0</td>\n",
       "      <td>0.0</td>\n",
       "      <td>0.0</td>\n",
       "      <td>0.0</td>\n",
       "      <td>0.0</td>\n",
       "      <td>...</td>\n",
       "      <td>0.0</td>\n",
       "      <td>0.0</td>\n",
       "      <td>0.0</td>\n",
       "      <td>0.0</td>\n",
       "      <td>0.0</td>\n",
       "      <td>1.0</td>\n",
       "      <td>0.0</td>\n",
       "      <td>0.0</td>\n",
       "      <td>1</td>\n",
       "      <td>1</td>\n",
       "    </tr>\n",
       "  </tbody>\n",
       "</table>\n",
       "<p>5 rows × 290 columns</p>\n",
       "</div>"
      ],
      "text/plain": [
       "      queryPoint  sex       age  percent  2110101  2110201  2110301  2110402  \\\n",
       "name                                                                           \n",
       "박종희           58    0  0.006548    37.40      0.0      0.0      0.0      0.0   \n",
       "이찬열          100    0  0.026956    47.42      0.0      0.0      0.0      0.0   \n",
       "김재귀           21    0  0.149405    15.17      0.0      0.0      0.0      0.0   \n",
       "김상민          100    0 -0.258759    36.97      0.0      0.0      0.0      0.0   \n",
       "백혜련           42    1 -0.115901    47.14      0.0      0.0      0.0      0.0   \n",
       "\n",
       "      2110501  2110502 ...    15   16   18    0    1    2    3    4  rank  win  \n",
       "name                   ...                                                      \n",
       "박종희       0.0      0.0 ...   0.0  0.0  0.0  0.0  0.0  0.0  1.0  0.0     2    0  \n",
       "이찬열       0.0      0.0 ...   0.0  0.0  0.0  0.0  0.0  0.0  1.0  0.0     1    1  \n",
       "김재귀       0.0      0.0 ...   0.0  0.0  0.0  0.0  0.0  1.0  0.0  0.0     3    0  \n",
       "김상민       0.0      0.0 ...   0.0  0.0  0.0  0.0  0.0  1.0  0.0  0.0     2    0  \n",
       "백혜련       0.0      0.0 ...   0.0  0.0  0.0  0.0  0.0  1.0  0.0  0.0     1    1  \n",
       "\n",
       "[5 rows x 290 columns]"
      ]
     },
     "execution_count": 38,
     "metadata": {},
     "output_type": "execute_result"
    }
   ],
   "source": [
    "df_dum.head()"
   ]
  },
  {
   "cell_type": "code",
   "execution_count": 39,
   "metadata": {
    "collapsed": false
   },
   "outputs": [
    {
     "data": {
      "text/plain": [
       "array([  1.00000000e+02,   0.00000000e+00,   2.69557823e-02,\n",
       "         4.74200000e+01,   0.00000000e+00,   0.00000000e+00,\n",
       "         0.00000000e+00,   0.00000000e+00,   0.00000000e+00,\n",
       "         0.00000000e+00,   0.00000000e+00,   0.00000000e+00,\n",
       "         0.00000000e+00,   0.00000000e+00,   0.00000000e+00,\n",
       "         0.00000000e+00,   0.00000000e+00,   0.00000000e+00,\n",
       "         0.00000000e+00,   0.00000000e+00,   0.00000000e+00,\n",
       "         0.00000000e+00,   0.00000000e+00,   0.00000000e+00,\n",
       "         0.00000000e+00,   0.00000000e+00,   0.00000000e+00,\n",
       "         0.00000000e+00,   0.00000000e+00,   0.00000000e+00,\n",
       "         0.00000000e+00,   0.00000000e+00,   0.00000000e+00,\n",
       "         0.00000000e+00,   0.00000000e+00,   0.00000000e+00,\n",
       "         0.00000000e+00,   0.00000000e+00,   0.00000000e+00,\n",
       "         0.00000000e+00,   0.00000000e+00,   0.00000000e+00,\n",
       "         0.00000000e+00,   0.00000000e+00,   0.00000000e+00,\n",
       "         0.00000000e+00,   0.00000000e+00,   0.00000000e+00,\n",
       "         0.00000000e+00,   0.00000000e+00,   0.00000000e+00,\n",
       "         0.00000000e+00,   0.00000000e+00,   0.00000000e+00,\n",
       "         0.00000000e+00,   0.00000000e+00,   0.00000000e+00,\n",
       "         0.00000000e+00,   0.00000000e+00,   0.00000000e+00,\n",
       "         0.00000000e+00,   0.00000000e+00,   0.00000000e+00,\n",
       "         0.00000000e+00,   0.00000000e+00,   0.00000000e+00,\n",
       "         0.00000000e+00,   0.00000000e+00,   0.00000000e+00,\n",
       "         0.00000000e+00,   0.00000000e+00,   0.00000000e+00,\n",
       "         0.00000000e+00,   0.00000000e+00,   0.00000000e+00,\n",
       "         0.00000000e+00,   0.00000000e+00,   0.00000000e+00,\n",
       "         0.00000000e+00,   0.00000000e+00,   0.00000000e+00,\n",
       "         0.00000000e+00,   0.00000000e+00,   0.00000000e+00,\n",
       "         0.00000000e+00,   0.00000000e+00,   0.00000000e+00,\n",
       "         0.00000000e+00,   0.00000000e+00,   0.00000000e+00,\n",
       "         0.00000000e+00,   0.00000000e+00,   0.00000000e+00,\n",
       "         0.00000000e+00,   0.00000000e+00,   0.00000000e+00,\n",
       "         0.00000000e+00,   0.00000000e+00,   0.00000000e+00,\n",
       "         0.00000000e+00,   0.00000000e+00,   0.00000000e+00,\n",
       "         0.00000000e+00,   0.00000000e+00,   0.00000000e+00,\n",
       "         0.00000000e+00,   0.00000000e+00,   0.00000000e+00,\n",
       "         0.00000000e+00,   0.00000000e+00,   0.00000000e+00,\n",
       "         0.00000000e+00,   0.00000000e+00,   0.00000000e+00,\n",
       "         0.00000000e+00,   0.00000000e+00,   0.00000000e+00,\n",
       "         1.00000000e+00,   0.00000000e+00,   0.00000000e+00,\n",
       "         0.00000000e+00,   0.00000000e+00,   0.00000000e+00,\n",
       "         0.00000000e+00,   0.00000000e+00,   0.00000000e+00,\n",
       "         0.00000000e+00,   0.00000000e+00,   0.00000000e+00,\n",
       "         0.00000000e+00,   0.00000000e+00,   0.00000000e+00,\n",
       "         0.00000000e+00,   0.00000000e+00,   0.00000000e+00,\n",
       "         0.00000000e+00,   0.00000000e+00,   0.00000000e+00,\n",
       "         0.00000000e+00,   0.00000000e+00,   0.00000000e+00,\n",
       "         0.00000000e+00,   0.00000000e+00,   0.00000000e+00,\n",
       "         0.00000000e+00,   0.00000000e+00,   0.00000000e+00,\n",
       "         0.00000000e+00,   0.00000000e+00,   0.00000000e+00,\n",
       "         0.00000000e+00,   0.00000000e+00,   0.00000000e+00,\n",
       "         0.00000000e+00,   0.00000000e+00,   0.00000000e+00,\n",
       "         0.00000000e+00,   0.00000000e+00,   0.00000000e+00,\n",
       "         0.00000000e+00,   0.00000000e+00,   0.00000000e+00,\n",
       "         0.00000000e+00,   0.00000000e+00,   0.00000000e+00,\n",
       "         0.00000000e+00,   0.00000000e+00,   0.00000000e+00,\n",
       "         0.00000000e+00,   0.00000000e+00,   0.00000000e+00,\n",
       "         0.00000000e+00,   0.00000000e+00,   0.00000000e+00,\n",
       "         0.00000000e+00,   0.00000000e+00,   0.00000000e+00,\n",
       "         0.00000000e+00,   0.00000000e+00,   0.00000000e+00,\n",
       "         0.00000000e+00,   0.00000000e+00,   0.00000000e+00,\n",
       "         0.00000000e+00,   0.00000000e+00,   0.00000000e+00,\n",
       "         0.00000000e+00,   0.00000000e+00,   0.00000000e+00,\n",
       "         0.00000000e+00,   0.00000000e+00,   0.00000000e+00,\n",
       "         0.00000000e+00,   0.00000000e+00,   0.00000000e+00,\n",
       "         0.00000000e+00,   0.00000000e+00,   0.00000000e+00,\n",
       "         0.00000000e+00,   0.00000000e+00,   0.00000000e+00,\n",
       "         0.00000000e+00,   0.00000000e+00,   0.00000000e+00,\n",
       "         0.00000000e+00,   0.00000000e+00,   0.00000000e+00,\n",
       "         0.00000000e+00,   0.00000000e+00,   0.00000000e+00,\n",
       "         0.00000000e+00,   0.00000000e+00,   0.00000000e+00,\n",
       "         0.00000000e+00,   0.00000000e+00,   0.00000000e+00,\n",
       "         0.00000000e+00,   0.00000000e+00,   0.00000000e+00,\n",
       "         0.00000000e+00,   0.00000000e+00,   0.00000000e+00,\n",
       "         0.00000000e+00,   0.00000000e+00,   0.00000000e+00,\n",
       "         0.00000000e+00,   0.00000000e+00,   0.00000000e+00,\n",
       "         0.00000000e+00,   0.00000000e+00,   0.00000000e+00,\n",
       "         0.00000000e+00,   0.00000000e+00,   0.00000000e+00,\n",
       "         0.00000000e+00,   0.00000000e+00,   0.00000000e+00,\n",
       "         0.00000000e+00,   0.00000000e+00,   0.00000000e+00,\n",
       "         0.00000000e+00,   0.00000000e+00,   0.00000000e+00,\n",
       "         0.00000000e+00,   0.00000000e+00,   0.00000000e+00,\n",
       "         0.00000000e+00,   0.00000000e+00,   0.00000000e+00,\n",
       "         0.00000000e+00,   0.00000000e+00,   0.00000000e+00,\n",
       "         0.00000000e+00,   0.00000000e+00,   0.00000000e+00,\n",
       "         0.00000000e+00,   0.00000000e+00,   0.00000000e+00,\n",
       "         0.00000000e+00,   0.00000000e+00,   0.00000000e+00,\n",
       "         0.00000000e+00,   0.00000000e+00,   1.00000000e+00,\n",
       "         0.00000000e+00,   0.00000000e+00,   0.00000000e+00,\n",
       "         0.00000000e+00,   0.00000000e+00,   0.00000000e+00,\n",
       "         0.00000000e+00,   0.00000000e+00,   0.00000000e+00,\n",
       "         0.00000000e+00,   1.00000000e+00,   0.00000000e+00,\n",
       "         0.00000000e+00,   0.00000000e+00,   0.00000000e+00,\n",
       "         0.00000000e+00,   0.00000000e+00,   0.00000000e+00,\n",
       "         0.00000000e+00,   0.00000000e+00,   0.00000000e+00,\n",
       "         0.00000000e+00,   1.00000000e+00,   0.00000000e+00,\n",
       "         1.00000000e+00,   1.00000000e+00])"
      ]
     },
     "execution_count": 39,
     "metadata": {},
     "output_type": "execute_result"
    }
   ],
   "source": [
    "len(df_dum)\n",
    "df_dum.ix[1].values"
   ]
  },
  {
   "cell_type": "code",
   "execution_count": 47,
   "metadata": {
    "collapsed": false
   },
   "outputs": [
    {
     "name": "stdout",
     "output_type": "stream",
     "text": [
      "100.0\n"
     ]
    }
   ],
   "source": [
    "ind_mtx=df_dum[df_dum.columns[:-2]].as_matrix()\n",
    "percent_mtx=df_dum['percent'].as_matrix()\n",
    "rank_mtx=df_dum['rank'].as_matrix()\n",
    "win_mtx=df_dum['win'].as_matrix()\n",
    "print ind_mtx[3][0]"
   ]
  },
  {
   "cell_type": "code",
   "execution_count": 41,
   "metadata": {
    "collapsed": true
   },
   "outputs": [],
   "source": [
    "from pybrain.datasets            import ClassificationDataSet\n",
    "from pybrain.utilities           import percentError\n",
    "from pybrain.tools.shortcuts     import buildNetwork\n",
    "from pybrain.supervised.trainers import BackpropTrainer\n",
    "from pybrain.structure.modules   import SoftmaxLayer\n",
    "from pybrain.tools.xml.networkwriter import NetworkWriter\n",
    "from pybrain.datasets import SupervisedDataSet\n",
    "from pybrain.tools.xml.networkreader import NetworkReader\n",
    "import matplotlib.pyplot as plt"
   ]
  },
  {
   "cell_type": "code",
   "execution_count": 44,
   "metadata": {
    "collapsed": true
   },
   "outputs": [],
   "source": [
    "def split_dataset(data, ratio=(1, 0, 0)):\n",
    "    \n",
    "    if shuffle :\n",
    "        data = data.sample(frac=1).reset_index(drop=True)\n",
    "    X = data[:,range(7)]\n",
    "    Y = data[:,8]\n",
    "    \n",
    "    return (X,Y);"
   ]
  },
  {
   "cell_type": "code",
   "execution_count": 45,
   "metadata": {
    "collapsed": false
   },
   "outputs": [
    {
     "data": {
      "text/plain": [
       "296"
      ]
     },
     "execution_count": 45,
     "metadata": {},
     "output_type": "execute_result"
    }
   ],
   "source": [
    "len(ind_mtx[0])"
   ]
  },
  {
   "cell_type": "code",
   "execution_count": 48,
   "metadata": {
    "collapsed": false
   },
   "outputs": [
    {
     "name": "stdout",
     "output_type": "stream",
     "text": [
      "Total error: 0.0418951577031\n",
      "Total error: 0.0403747373267\n",
      "Total error: 0.0387427368445\n",
      "Total error: 0.0419632152921\n",
      "Total error: 0.037321801712\n",
      "Total error: 0.039178614911\n",
      "Total error: 0.0372339595733\n",
      "Total error: 0.036773493674\n",
      "Total error: 0.0365517959582\n",
      "Total error: 0.0385783520076\n",
      "Total error: 0.0385756361783\n",
      "Total error: 0.0384217401895\n",
      "Total error: 0.0392349122238\n",
      "Total error: 0.0392542829959\n",
      "Total error: 0.0399717100121\n",
      "Total error: 0.0384149443718\n",
      "Total error: 0.0363153384685\n",
      "Total error: 0.0391812682154\n",
      "Total error: 0.0384400414049\n",
      "Total error: 0.0378583982397\n",
      "Total error: 0.0404430053105\n",
      "Total error: 0.0373612424323\n",
      "Total error: 0.0355745735173\n",
      "Total error: 0.036882678443\n",
      "Total error: 0.0369216726257\n",
      "Total error: 0.0347811203372\n",
      "Total error: 0.0360343363937\n",
      "Total error: 0.0381547323257\n",
      "Total error: 0.0362554439742\n",
      "Total error: 0.0351511641302\n",
      "Total error: 0.0334183732786\n",
      "Total error: 0.0330039755984\n",
      "Total error: 0.0324243942613\n",
      "Total error: 0.033009273538\n",
      "Total error: 0.0320200297445\n",
      "Total error: 0.0307821113458\n",
      "Total error: 0.0316609054393\n",
      "Total error: 0.0304739319643\n",
      "Total error: 0.0303139445616\n",
      "Total error: 0.0302078860515\n",
      "Total error: 0.0289582886116\n",
      "Total error: 0.0301910519914\n",
      "Total error: 0.0298553144836\n",
      "Total error: 0.0269680631175\n",
      "Total error: 0.0267923856109\n",
      "Total error: 0.0269837680403\n",
      "Total error: 0.0267619554241\n",
      "Total error: 0.0250734208163\n",
      "Total error: 0.0235369047886\n",
      "Total error: 0.0261328299897\n",
      "Total error: 0.0259835823864\n",
      "Total error: 0.023396540659\n",
      "Total error: 0.0254778856511\n",
      "Total error: 0.0247525101236\n",
      "Total error: 0.0241354515202\n",
      "Total error: 0.0246110103674\n",
      "Total error: 0.0231334095911\n",
      "Total error: 0.0243514059122\n",
      "Total error: 0.0234186236509\n",
      "Total error: 0.0230228230184\n",
      "Total error: 0.0223646492969\n",
      "Total error: 0.0219820330433\n",
      "Total error: 0.0218941939153\n",
      "Total error: 0.0235231385091\n",
      "Total error: 0.022517737412\n",
      "Total error: 0.023015047313\n",
      "Total error: 0.0223359316113\n",
      "Total error: 0.0218609430862\n",
      "Total error: 0.0230225844653\n",
      "Total error: 0.0217149063747\n",
      "Total error: 0.0224781795173\n",
      "Total error: 0.0228556993796\n",
      "Total error: 0.0215228607031\n",
      "Total error: 0.0226829364373\n",
      "Total error: 0.021386466505\n",
      "Total error: 0.0215560239218\n",
      "Total error: 0.0223631521337\n",
      "Total error: 0.021144145389\n",
      "Total error: 0.0213562361637\n",
      "Total error: 0.0224060103066\n",
      "Total error: 0.0223365918056\n",
      "Total error: 0.0217745031894\n",
      "Total error: 0.0211275440603\n",
      "Total error: 0.0218502591582\n",
      "Total error: 0.0217700923666\n",
      "Total error: 0.022060930551\n",
      "Total error: 0.0230141768307\n",
      "Total error: 0.0208781479329\n",
      "Total error: 0.0208643685338\n",
      "Total error: 0.0214790498703\n",
      "Total error: 0.0221016995713\n",
      "Total error: 0.0216825896313\n",
      "Total error: 0.0215329673873\n",
      "Total error: 0.0213233842427\n",
      "Total error: 0.0223257845123\n",
      "Total error: 0.0214786312464\n",
      "Total error: 0.021687971168\n",
      "Total error: 0.022387468135\n",
      "Total error: 0.0206994548856\n",
      "Total error: 0.0212182837775\n",
      "Total error: 0.0211298790369\n",
      "Total error: 0.0212322813473\n",
      "Total error: 0.0213524800444\n",
      "Total error: 0.0203877415569\n",
      "Total error: 0.0207601677354\n",
      "Total error: 0.0206010718722\n",
      "Total error: 0.0214518757756\n",
      "Total error: 0.02053605857\n",
      "Total error: 0.0208093181856\n",
      "Total error: 0.020337883629\n",
      "Total error: 0.0204135158797\n",
      "Total error: 0.0209424463674\n",
      "Total error: 0.0198504641163\n",
      "Total error: 0.0216267881898\n",
      "Total error: 0.0209645305188\n",
      "Total error: 0.0196412026187\n",
      "Total error: 0.0207661191784\n",
      "Total error: 0.0193122156126\n",
      "Total error: 0.0212847985963\n",
      "Total error: 0.0200765600752\n",
      "Total error: 0.0200190146195\n",
      "Total error: 0.0200794900531\n",
      "Total error: 0.0199451123602\n",
      "Total error: 0.020996644907\n",
      "Total error: 0.0211326188351\n",
      "Total error: 0.0199400508359\n",
      "Total error: 0.0204030501888\n",
      "Total error: 0.0195851845612\n",
      "Total error: 0.0194481757611\n",
      "Total error: 0.0205503970553\n",
      "Total error: 0.0201223861321\n",
      "Total error: 0.0202434766272\n",
      "Total error: 0.0204890613306\n",
      "Total error: 0.0200393992308\n",
      "Total error: 0.0191234645438\n",
      "Total error: 0.0195474327389\n",
      "Total error: 0.0209087602189\n",
      "Total error: 0.0206479676414\n",
      "Total error: 0.0205158451613\n",
      "Total error: 0.0189491245813\n",
      "Total error: 0.0204513128095\n",
      "Total error: 0.0198528209899\n",
      "Total error: 0.0188334647771\n",
      "Total error: 0.0194685438586\n",
      "Total error: 0.0196817442236\n",
      "Total error: 0.0204464592474\n",
      "Total error: 0.0199076807865\n",
      "Total error: 0.0194399906806\n",
      "Total error: 0.0197031269832\n",
      "Total error: 0.0195776912484\n",
      "Total error: 0.0198029707864\n",
      "Total error: 0.0192416092763\n",
      "Total error: 0.0200200593182\n",
      "Total error: 0.0198767679147\n",
      "Total error: 0.0201081136274\n",
      "Total error: 0.0198792396768\n",
      "Total error: 0.0200998923228\n",
      "Total error: 0.0196076869287\n",
      "Total error: 0.019927986701\n",
      "Total error: 0.019516715753\n",
      "Total error: 0.0183203810283\n",
      "Total error: 0.019822525011\n",
      "Total error: 0.0193234463149\n",
      "Total error: 0.019330043884\n",
      "Total error: 0.0202855903107\n",
      "Total error: 0.0189525884934\n",
      "Total error: 0.0187318268823\n",
      "Total error: 0.019149998357\n",
      "Total error: 0.0189517767148\n",
      "Total error: 0.0183495489458\n",
      "Total error: 0.0195553241854\n",
      "Total error: 0.018920831447\n",
      "Total error: 0.0192706817435\n",
      "Total error: 0.0190825231935\n",
      "Total error: 0.0184217922615\n",
      "Total error: 0.0198120587716\n",
      "Total error: 0.0188881960306\n",
      "Total error: 0.0187763647769\n",
      "Total error: 0.0187878051675\n",
      "Total error: 0.0189018776998\n",
      "Total error: 0.0181767079094\n",
      "Total error: 0.0189864373981\n",
      "Total error: 0.0188084511765\n",
      "Total error: 0.0195694711426\n",
      "Total error: 0.0198397335463\n",
      "Total error: 0.0193210615286\n",
      "Total error: 0.0193160893698\n",
      "Total error: 0.0191974144541\n",
      "Total error: 0.0187297953927\n",
      "Total error: 0.0184101598115\n",
      "Total error: 0.0190120887589\n",
      "Total error: 0.0190656030768\n",
      "Total error: 0.019734817771\n",
      "Total error: 0.0188142988605\n",
      "Total error: 0.0197602426217\n",
      "Total error: 0.0184658429058\n",
      "Total error: 0.0199597802228\n",
      "Total error: 0.0183442586267\n",
      "Total error: 0.0187222492289\n",
      "Total error: 0.0194161413037\n",
      "Percent Error on Test dataset:  14.8148148148\n",
      "[[ 0.]\n",
      " [ 1.]\n",
      " [ 0.]\n",
      " [ 0.]\n",
      " [ 1.]\n",
      " [ 0.]\n",
      " [ 0.]\n",
      " [ 1.]\n",
      " [ 1.]\n",
      " [ 0.]\n",
      " [ 0.]\n",
      " [ 0.]\n",
      " [ 0.]\n",
      " [ 0.]\n",
      " [ 0.]\n",
      " [ 0.]\n",
      " [ 1.]\n",
      " [ 0.]\n",
      " [ 1.]\n",
      " [ 0.]\n",
      " [ 0.]\n",
      " [ 0.]\n",
      " [ 1.]\n",
      " [ 0.]\n",
      " [ 0.]\n",
      " [ 0.]\n",
      " [ 1.]\n",
      " [ 1.]\n",
      " [ 1.]\n",
      " [ 0.]\n",
      " [ 0.]\n",
      " [ 1.]\n",
      " [ 0.]\n",
      " [ 1.]\n",
      " [ 0.]\n",
      " [ 0.]\n",
      " [ 0.]\n",
      " [ 1.]\n",
      " [ 0.]\n",
      " [ 1.]\n",
      " [ 0.]\n",
      " [ 0.]\n",
      " [ 0.]\n",
      " [ 1.]\n",
      " [ 0.]\n",
      " [ 0.]\n",
      " [ 0.]\n",
      " [ 1.]\n",
      " [ 0.]\n",
      " [ 0.]\n",
      " [ 1.]\n",
      " [ 0.]\n",
      " [ 1.]\n",
      " [ 1.]\n",
      " [ 0.]\n",
      " [ 0.]\n",
      " [ 1.]\n",
      " [ 1.]\n",
      " [ 0.]\n",
      " [ 1.]\n",
      " [ 0.]\n",
      " [ 0.]\n",
      " [ 0.]\n",
      " [ 0.]\n",
      " [ 1.]\n",
      " [ 0.]\n",
      " [ 1.]\n",
      " [ 0.]\n",
      " [ 0.]\n",
      " [ 1.]\n",
      " [ 1.]\n",
      " [ 0.]\n",
      " [ 0.]\n",
      " [ 1.]\n",
      " [ 0.]\n",
      " [ 0.]\n",
      " [ 0.]\n",
      " [ 0.]\n",
      " [ 1.]\n",
      " [ 0.]\n",
      " [ 1.]\n",
      " [ 1.]\n",
      " [ 1.]\n",
      " [ 0.]\n",
      " [ 0.]\n",
      " [ 0.]\n",
      " [ 0.]\n",
      " [ 0.]\n",
      " [ 0.]\n",
      " [ 1.]\n",
      " [ 1.]\n",
      " [ 1.]\n",
      " [ 1.]\n",
      " [ 0.]\n",
      " [ 0.]\n",
      " [ 1.]\n",
      " [ 0.]\n",
      " [ 1.]\n",
      " [ 0.]\n",
      " [ 0.]\n",
      " [ 0.]\n",
      " [ 1.]\n",
      " [ 0.]\n",
      " [ 1.]\n",
      " [ 0.]\n",
      " [ 0.]\n",
      " [ 0.]\n",
      " [ 0.]]\n"
     ]
    }
   ],
   "source": [
    "ds1=ClassificationDataSet(len(ind_mtx[0]),1,nb_classes=6)\n",
    "\n",
    "#ds1 =ClassificationDataSet(7,1,nb_classes=6)\n",
    "#ds2 =ClassificationDataSet(7,1,nb_classes=6)\n",
    "\n",
    "\n",
    "for k in range(len(ind_mtx)): \n",
    "    ds1.addSample(ind_mtx[k],win_mtx[k])\n",
    "\n",
    "    \n",
    "tstdata, trndata = ds1.splitWithProportion( 0.15 )\n",
    "\n",
    "trndata._convertToOneOfMany( )\n",
    "tstdata._convertToOneOfMany( )\n",
    "fnn = buildNetwork( trndata.indim, 200 , trndata.outdim, outclass=SoftmaxLayer )\n",
    "trainer = BackpropTrainer( fnn, dataset=trndata, momentum=0.1, learningrate=0.01 , verbose=True, weightdecay=0.01) \n",
    "\n",
    "\n",
    "trainer.trainEpochs (200)\n",
    "print 'Percent Error on Test dataset: ' , percentError( trainer.testOnClassData (dataset=tstdata ), tstdata['class'] )\n",
    "print tstdata['class']\n"
   ]
  },
  {
   "cell_type": "code",
   "execution_count": 49,
   "metadata": {
    "collapsed": false
   },
   "outputs": [
    {
     "name": "stdout",
     "output_type": "stream",
     "text": [
      "108\n",
      "0 [ 0.]\n",
      "1 [ 1.]\n",
      "0 [ 0.]\n",
      "0 [ 0.]\n",
      "1 [ 1.]\n",
      "0 [ 0.]\n",
      "0 [ 0.]\n",
      "1 [ 1.]\n",
      "1 [ 1.]\n",
      "0 [ 0.]\n",
      "0 [ 0.]\n",
      "1 [ 0.]\n",
      "0 [ 0.]\n",
      "1 [ 0.]\n",
      "0 [ 0.]\n",
      "0 [ 0.]\n",
      "1 [ 1.]\n",
      "0 [ 0.]\n",
      "1 [ 1.]\n",
      "0 [ 0.]\n",
      "1 [ 0.]\n",
      "0 [ 0.]\n",
      "1 [ 1.]\n",
      "1 [ 0.]\n",
      "0 [ 0.]\n",
      "0 [ 0.]\n",
      "1 [ 1.]\n",
      "1 [ 1.]\n",
      "1 [ 1.]\n",
      "0 [ 0.]\n",
      "0 [ 0.]\n",
      "1 [ 1.]\n",
      "1 [ 0.]\n",
      "1 [ 1.]\n",
      "0 [ 0.]\n",
      "0 [ 0.]\n",
      "0 [ 0.]\n",
      "1 [ 1.]\n",
      "1 [ 0.]\n",
      "1 [ 1.]\n",
      "0 [ 0.]\n",
      "0 [ 0.]\n",
      "0 [ 0.]\n",
      "1 [ 1.]\n",
      "0 [ 0.]\n",
      "0 [ 0.]\n",
      "1 [ 0.]\n",
      "1 [ 1.]\n",
      "0 [ 0.]\n",
      "0 [ 0.]\n",
      "1 [ 1.]\n",
      "1 [ 0.]\n",
      "1 [ 1.]\n",
      "1 [ 1.]\n",
      "0 [ 0.]\n",
      "0 [ 0.]\n",
      "1 [ 1.]\n",
      "1 [ 1.]\n",
      "0 [ 0.]\n",
      "1 [ 1.]\n",
      "0 [ 0.]\n",
      "0 [ 0.]\n",
      "0 [ 0.]\n",
      "1 [ 0.]\n",
      "1 [ 1.]\n",
      "0 [ 0.]\n",
      "1 [ 1.]\n",
      "1 [ 0.]\n",
      "0 [ 0.]\n",
      "1 [ 1.]\n",
      "1 [ 1.]\n",
      "0 [ 0.]\n",
      "0 [ 0.]\n",
      "1 [ 1.]\n",
      "0 [ 0.]\n",
      "0 [ 0.]\n",
      "0 [ 0.]\n",
      "0 [ 0.]\n",
      "1 [ 1.]\n",
      "1 [ 0.]\n",
      "1 [ 1.]\n",
      "1 [ 1.]\n",
      "1 [ 1.]\n",
      "1 [ 0.]\n",
      "0 [ 0.]\n",
      "0 [ 0.]\n",
      "0 [ 0.]\n",
      "1 [ 0.]\n",
      "1 [ 0.]\n",
      "0 [ 1.]\n",
      "1 [ 1.]\n",
      "1 [ 1.]\n",
      "1 [ 1.]\n",
      "0 [ 0.]\n",
      "0 [ 0.]\n",
      "1 [ 1.]\n",
      "0 [ 0.]\n",
      "1 [ 1.]\n",
      "0 [ 0.]\n",
      "0 [ 0.]\n",
      "0 [ 0.]\n",
      "1 [ 1.]\n",
      "0 [ 0.]\n",
      "1 [ 1.]\n",
      "0 [ 0.]\n",
      "0 [ 0.]\n",
      "1 [ 0.]\n",
      "0 [ 0.]\n",
      "16\n"
     ]
    }
   ],
   "source": [
    "cnt=0;\n",
    "print len(tstdata['class'])\n",
    "for a in range(len(tstdata['class'])) :\n",
    "    max_=0;\n",
    "    mn=0;\n",
    "    tm=[]\n",
    "    tm=fnn.activate(tstdata['input'][a])\n",
    "    for b in range(0,6) :\n",
    "                   if max_<tm[b]: \n",
    "                       max_=tm[b]\n",
    "                       mn=b\n",
    "    print mn, tstdata['class'][a]\n",
    "    if mn!=tstdata['class'][a][0] : cnt+=1;\n",
    "print cnt"
   ]
  },
  {
   "cell_type": "code",
   "execution_count": 385,
   "metadata": {
    "collapsed": false
   },
   "outputs": [
    {
     "data": {
      "image/png": "[encoded data removed]",
      "text/plain": [
       "<matplotlib.figure.Figure at 0x1487c978>"
      ]
     },
     "metadata": {},
     "output_type": "display_data"
    },
    {
     "name": "stdout",
     "output_type": "stream",
     "text": [
      "Accuracy: 0.53 (+/- 0.12)\n"
     ]
    },
    {
     "data": {
      "text/html": [
       "<div>\n",
       "<table border=\"1\" class=\"dataframe\">\n",
       "  <thead>\n",
       "    <tr style=\"text-align: right;\">\n",
       "      <th></th>\n",
       "      <th>percent</th>\n",
       "      <th>predict</th>\n",
       "    </tr>\n",
       "  </thead>\n",
       "  <tbody>\n",
       "    <tr>\n",
       "      <th>0</th>\n",
       "      <td>37.40</td>\n",
       "      <td>39.797747</td>\n",
       "    </tr>\n",
       "    <tr>\n",
       "      <th>1</th>\n",
       "      <td>47.42</td>\n",
       "      <td>50.897185</td>\n",
       "    </tr>\n",
       "    <tr>\n",
       "      <th>2</th>\n",
       "      <td>15.17</td>\n",
       "      <td>21.775982</td>\n",
       "    </tr>\n",
       "    <tr>\n",
       "      <th>3</th>\n",
       "      <td>36.97</td>\n",
       "      <td>49.176711</td>\n",
       "    </tr>\n",
       "    <tr>\n",
       "      <th>4</th>\n",
       "      <td>47.14</td>\n",
       "      <td>36.078692</td>\n",
       "    </tr>\n",
       "  </tbody>\n",
       "</table>\n",
       "</div>"
      ],
      "text/plain": [
       "   percent    predict\n",
       "0    37.40  39.797747\n",
       "1    47.42  50.897185\n",
       "2    15.17  21.775982\n",
       "3    36.97  49.176711\n",
       "4    47.14  36.078692"
      ]
     },
     "execution_count": 385,
     "metadata": {},
     "output_type": "execute_result"
    }
   ],
   "source": [
    "lr = linear_model.Lasso(alpha = 0.1)\n",
    "predicted = cross_validation.cross_val_predict(lr, ind_mtx, percent_mtx, cv=5)\n",
    "\n",
    "fig, ax = plt.subplots()\n",
    "ax.scatter(percent_mtx, predicted)\n",
    "ax.plot([percent_mtx.min(), percent_mtx.max()], [percent_mtx.min(), percent_mtx.max()], 'k--', lw=4)\n",
    "ax.set_xlabel('Measured')\n",
    "ax.set_ylabel('Predicted')\n",
    "plt.show()\n",
    "scores = cross_validation.cross_val_score(lr, ind_mtx, percent_mtx, cv=5)\n",
    "print(\"Accuracy: %0.2f (+/- %0.2f)\" % (scores.mean(), scores.std() * 2))\n",
    "pd.DataFrame({'percent': percent_mtx, 'predict': predicted}).head()"
   ]
  },
  {
   "cell_type": "code",
   "execution_count": 386,
   "metadata": {
    "collapsed": false
   },
   "outputs": [
    {
     "data": {
      "image/png": "[encoded data removed]",
      "text/plain": [
       "<matplotlib.figure.Figure at 0x140820f0>"
      ]
     },
     "metadata": {},
     "output_type": "display_data"
    },
    {
     "name": "stdout",
     "output_type": "stream",
     "text": [
      "Accuracy: 0.47 (+/- 0.19)\n"
     ]
    },
    {
     "data": {
      "text/html": [
       "<div>\n",
       "<table border=\"1\" class=\"dataframe\">\n",
       "  <thead>\n",
       "    <tr style=\"text-align: right;\">\n",
       "      <th></th>\n",
       "      <th>predict</th>\n",
       "      <th>rank</th>\n",
       "    </tr>\n",
       "  </thead>\n",
       "  <tbody>\n",
       "    <tr>\n",
       "      <th>0</th>\n",
       "      <td>1.828818</td>\n",
       "      <td>2</td>\n",
       "    </tr>\n",
       "    <tr>\n",
       "      <th>1</th>\n",
       "      <td>1.180756</td>\n",
       "      <td>1</td>\n",
       "    </tr>\n",
       "    <tr>\n",
       "      <th>2</th>\n",
       "      <td>2.399730</td>\n",
       "      <td>3</td>\n",
       "    </tr>\n",
       "    <tr>\n",
       "      <th>3</th>\n",
       "      <td>1.180756</td>\n",
       "      <td>2</td>\n",
       "    </tr>\n",
       "    <tr>\n",
       "      <th>4</th>\n",
       "      <td>2.075699</td>\n",
       "      <td>1</td>\n",
       "    </tr>\n",
       "  </tbody>\n",
       "</table>\n",
       "</div>"
      ],
      "text/plain": [
       "    predict  rank\n",
       "0  1.828818     2\n",
       "1  1.180756     1\n",
       "2  2.399730     3\n",
       "3  1.180756     2\n",
       "4  2.075699     1"
      ]
     },
     "execution_count": 386,
     "metadata": {},
     "output_type": "execute_result"
    }
   ],
   "source": [
    "lr = linear_model.Lasso(alpha=0.1)\n",
    "\n",
    "predicted = cross_validation.cross_val_predict(lr, ind_mtx, rank_mtx, cv=5)\n",
    "\n",
    "fig, ax = plt.subplots()\n",
    "ax.scatter(rank_mtx, predicted)\n",
    "ax.plot([rank_mtx.min(), rank_mtx.max()], [rank_mtx.min(), rank_mtx.max()], 'k--', lw=4)\n",
    "ax.set_xlabel('Measured')\n",
    "ax.set_ylabel('Predicted')\n",
    "plt.show()\n",
    "scores = cross_validation.cross_val_score(lr, ind_mtx, rank_mtx, cv=5)\n",
    "print(\"Accuracy: %0.2f (+/- %0.2f)\" % (scores.mean(), scores.std() * 2))\n",
    "pd.DataFrame({'rank': rank_mtx, 'predict': predicted}).head()"
   ]
  }
 ],
 "metadata": {
  "kernelspec": {
   "display_name": "Python 2",
   "language": "python",
   "name": "python2"
  },
  "language_info": {
   "codemirror_mode": {
    "name": "ipython",
    "version": 2
   },
   "file_extension": ".py",
   "mimetype": "text/x-python",
   "name": "python",
   "nbconvert_exporter": "python",
   "pygments_lexer": "ipython2",
   "version": "2.7.11"
  }
 },
 "nbformat": 4,
 "nbformat_minor": 0
}
