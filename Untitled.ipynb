{
 "cells": [
  {
   "cell_type": "code",
   "execution_count": 1,
   "metadata": {
    "collapsed": true
   },
   "outputs": [],
   "source": [
    "import xlrd\n",
    "import pandas as pd\n",
    "import matplotlib.pyplot as plt\n",
    "import xlwt"
   ]
  },
  {
   "cell_type": "code",
   "execution_count": 4,
   "metadata": {
    "collapsed": true
   },
   "outputs": [],
   "source": [
    "def read_xls(file_name):\n",
    "\txl = pd.ExcelFile(file_name)\n",
    "\txl.sheet_names\n",
    "\tdf1 = xl.parse(\"overpass\")\n",
    "\tdf2 = xl.parse(\"not_overpass\")\n",
    "\treturn df1, df2\n",
    "\n",
    "def to_list(df):\n",
    "\td = dict()\n",
    "\tfor i in range(1, len(df.columns)+1):\n",
    "\t\tfor j in range(0,len(df[i])):\n",
    "\t\t\tif type(df[i][j]) == unicode:\n",
    "\t\t\t\ta = df[i][j].split(' ')\n",
    "\t\t\t\ta_len = len(a)\n",
    "\t\t\t\tif a_len == 3:\n",
    "\t\t\t\t\ta_per = a[a_len-1].split('%')[0]\n",
    "\t\t\t\t\tif a[0] in d:\n",
    "\t\t\t\t\t\td[a[0]][i] = int(a_per)\n",
    "\t\t\t\t\telse:\n",
    "\t\t\t\t\t\td[a[0]] = {i:int(a_per)}\n",
    "\t\t\t\telif a_len > 3:\n",
    "\t\t\t\t\ta_name = ''\n",
    "\t\t\t\t\ta_per = a[a_len-1].split('%')[0]\n",
    "\t\t\t\t\tfor k in range(0,len(a)-1):\n",
    "\t\t\t\t\t\t#if (k > 0) & (k < len(a)-2):\n",
    "\t\t\t\t\t\t\t#a_name += ' '\n",
    "\t\t\t\t\t\ta_name += a[k]\n",
    "\t\t\t\t\tif a_name in d:\n",
    "\t\t\t\t\t\td[a_name][i] = int(a_per)\n",
    "\t\t\t\t\telse:\n",
    "\t\t\t\t\t\td[a_name] = {i:int(a_per)}\n",
    "\treturn d\n",
    "\n",
    "def compare_same_key(d1,d2):\n",
    "\tkey_lst = []\n",
    "\tfor key in d1:\n",
    "\t\tfor key2 in d2:\n",
    "\t\t\tif key == key2:\n",
    "\t\t\t\tprint key\n",
    "\t\t\t\tprint d1[key]\n",
    "\t\t\t\tprint d2[key]\n",
    "\t\t\t\tkey_lst.append(key)\n",
    "\treturn key_lst\n",
    "\n",
    "def fillin_zero(d,key):\n",
    "\tfor i in range(1,101): \n",
    "\t\tif i not in d[key]:\n",
    "\t\t\td[key][i] = int(0)\n",
    "\n",
    "def drawing(key):\n",
    "\tplt.plot(d1[key])\n",
    "\tplt.plot(d2[key])\n",
    "\tplt.show()\n",
    "\n",
    "def dict_to_excelfile(lst,df_name,name):\n",
    "\tdf_name = pd.DataFrame.from_dict(lst)\n",
    "\tpd.DataFrame.to_excel(df_name,name)"
   ]
  },
  {
   "cell_type": "code",
   "execution_count": 3,
   "metadata": {
    "collapsed": false
   },
   "outputs": [
    {
     "ename": "IOError",
     "evalue": "[Errno 2] No such file or directory: '100pic.xls'",
     "output_type": "error",
     "traceback": [
      "\u001b[0;31m---------------------------------------------------------------------------\u001b[0m",
      "\u001b[0;31mIOError\u001b[0m                                   Traceback (most recent call last)",
      "\u001b[0;32m<ipython-input-3-c0d4f2106410>\u001b[0m in \u001b[0;36m<module>\u001b[0;34m()\u001b[0m\n\u001b[0;32m----> 1\u001b[0;31m \u001b[0mdf1\u001b[0m\u001b[1;33m,\u001b[0m \u001b[0mdf2\u001b[0m \u001b[1;33m=\u001b[0m \u001b[0mread_xls\u001b[0m\u001b[1;33m(\u001b[0m\u001b[1;34m'100pic.xls'\u001b[0m\u001b[1;33m)\u001b[0m\u001b[1;33m\u001b[0m\u001b[0m\n\u001b[0m\u001b[1;32m      2\u001b[0m \u001b[0md1\u001b[0m \u001b[1;33m=\u001b[0m \u001b[0mto_list\u001b[0m\u001b[1;33m(\u001b[0m\u001b[0mdf1\u001b[0m\u001b[1;33m)\u001b[0m\u001b[1;33m\u001b[0m\u001b[0m\n\u001b[1;32m      3\u001b[0m \u001b[0md2\u001b[0m \u001b[1;33m=\u001b[0m \u001b[0mto_list\u001b[0m\u001b[1;33m(\u001b[0m\u001b[0mdf2\u001b[0m\u001b[1;33m)\u001b[0m\u001b[1;33m\u001b[0m\u001b[0m\n\u001b[1;32m      4\u001b[0m \u001b[1;33m\u001b[0m\u001b[0m\n\u001b[1;32m      5\u001b[0m \u001b[1;32mfor\u001b[0m \u001b[0mkey\u001b[0m \u001b[1;32min\u001b[0m \u001b[0md1\u001b[0m\u001b[1;33m:\u001b[0m\u001b[1;33m\u001b[0m\u001b[0m\n",
      "\u001b[0;32m<ipython-input-2-d066713b5295>\u001b[0m in \u001b[0;36mread_xls\u001b[0;34m(file_name)\u001b[0m\n\u001b[1;32m      1\u001b[0m \u001b[1;32mdef\u001b[0m \u001b[0mread_xls\u001b[0m\u001b[1;33m(\u001b[0m\u001b[0mfile_name\u001b[0m\u001b[1;33m)\u001b[0m\u001b[1;33m:\u001b[0m\u001b[1;33m\u001b[0m\u001b[0m\n\u001b[0;32m----> 2\u001b[0;31m         \u001b[0mxl\u001b[0m \u001b[1;33m=\u001b[0m \u001b[0mpd\u001b[0m\u001b[1;33m.\u001b[0m\u001b[0mExcelFile\u001b[0m\u001b[1;33m(\u001b[0m\u001b[0mfile_name\u001b[0m\u001b[1;33m)\u001b[0m\u001b[1;33m\u001b[0m\u001b[0m\n\u001b[0m\u001b[1;32m      3\u001b[0m         \u001b[0mxl\u001b[0m\u001b[1;33m.\u001b[0m\u001b[0msheet_names\u001b[0m\u001b[1;33m\u001b[0m\u001b[0m\n\u001b[1;32m      4\u001b[0m         \u001b[0mdf1\u001b[0m \u001b[1;33m=\u001b[0m \u001b[0mxl\u001b[0m\u001b[1;33m.\u001b[0m\u001b[0mparse\u001b[0m\u001b[1;33m(\u001b[0m\u001b[1;34m\"overpass\"\u001b[0m\u001b[1;33m)\u001b[0m\u001b[1;33m\u001b[0m\u001b[0m\n\u001b[1;32m      5\u001b[0m         \u001b[0mdf2\u001b[0m \u001b[1;33m=\u001b[0m \u001b[0mxl\u001b[0m\u001b[1;33m.\u001b[0m\u001b[0mparse\u001b[0m\u001b[1;33m(\u001b[0m\u001b[1;34m\"not_overpass\"\u001b[0m\u001b[1;33m)\u001b[0m\u001b[1;33m\u001b[0m\u001b[0m\n",
      "\u001b[0;32mC:\\Users\\06135\\Anaconda2\\lib\\site-packages\\pandas\\io\\excel.pyc\u001b[0m in \u001b[0;36m__init__\u001b[0;34m(self, io, **kwds)\u001b[0m\n\u001b[1;32m    204\u001b[0m                 \u001b[0mself\u001b[0m\u001b[1;33m.\u001b[0m\u001b[0mbook\u001b[0m \u001b[1;33m=\u001b[0m \u001b[0mxlrd\u001b[0m\u001b[1;33m.\u001b[0m\u001b[0mopen_workbook\u001b[0m\u001b[1;33m(\u001b[0m\u001b[0mfile_contents\u001b[0m\u001b[1;33m=\u001b[0m\u001b[0mdata\u001b[0m\u001b[1;33m)\u001b[0m\u001b[1;33m\u001b[0m\u001b[0m\n\u001b[1;32m    205\u001b[0m             \u001b[1;32melse\u001b[0m\u001b[1;33m:\u001b[0m\u001b[1;33m\u001b[0m\u001b[0m\n\u001b[0;32m--> 206\u001b[0;31m                 \u001b[0mself\u001b[0m\u001b[1;33m.\u001b[0m\u001b[0mbook\u001b[0m \u001b[1;33m=\u001b[0m \u001b[0mxlrd\u001b[0m\u001b[1;33m.\u001b[0m\u001b[0mopen_workbook\u001b[0m\u001b[1;33m(\u001b[0m\u001b[0mio\u001b[0m\u001b[1;33m)\u001b[0m\u001b[1;33m\u001b[0m\u001b[0m\n\u001b[0m\u001b[1;32m    207\u001b[0m         \u001b[1;32melif\u001b[0m \u001b[0mengine\u001b[0m \u001b[1;33m==\u001b[0m \u001b[1;34m'xlrd'\u001b[0m \u001b[1;32mand\u001b[0m \u001b[0misinstance\u001b[0m\u001b[1;33m(\u001b[0m\u001b[0mio\u001b[0m\u001b[1;33m,\u001b[0m \u001b[0mxlrd\u001b[0m\u001b[1;33m.\u001b[0m\u001b[0mBook\u001b[0m\u001b[1;33m)\u001b[0m\u001b[1;33m:\u001b[0m\u001b[1;33m\u001b[0m\u001b[0m\n\u001b[1;32m    208\u001b[0m             \u001b[0mself\u001b[0m\u001b[1;33m.\u001b[0m\u001b[0mbook\u001b[0m \u001b[1;33m=\u001b[0m \u001b[0mio\u001b[0m\u001b[1;33m\u001b[0m\u001b[0m\n",
      "\u001b[0;32mC:\\Users\\06135\\Anaconda2\\lib\\site-packages\\xlrd\\__init__.pyc\u001b[0m in \u001b[0;36mopen_workbook\u001b[0;34m(filename, logfile, verbosity, use_mmap, file_contents, encoding_override, formatting_info, on_demand, ragged_rows)\u001b[0m\n\u001b[1;32m    393\u001b[0m         \u001b[0mpeek\u001b[0m \u001b[1;33m=\u001b[0m \u001b[0mfile_contents\u001b[0m\u001b[1;33m[\u001b[0m\u001b[1;33m:\u001b[0m\u001b[0mpeeksz\u001b[0m\u001b[1;33m]\u001b[0m\u001b[1;33m\u001b[0m\u001b[0m\n\u001b[1;32m    394\u001b[0m     \u001b[1;32melse\u001b[0m\u001b[1;33m:\u001b[0m\u001b[1;33m\u001b[0m\u001b[0m\n\u001b[0;32m--> 395\u001b[0;31m         \u001b[1;32mwith\u001b[0m \u001b[0mopen\u001b[0m\u001b[1;33m(\u001b[0m\u001b[0mfilename\u001b[0m\u001b[1;33m,\u001b[0m \u001b[1;34m\"rb\"\u001b[0m\u001b[1;33m)\u001b[0m \u001b[1;32mas\u001b[0m \u001b[0mf\u001b[0m\u001b[1;33m:\u001b[0m\u001b[1;33m\u001b[0m\u001b[0m\n\u001b[0m\u001b[1;32m    396\u001b[0m             \u001b[0mpeek\u001b[0m \u001b[1;33m=\u001b[0m \u001b[0mf\u001b[0m\u001b[1;33m.\u001b[0m\u001b[0mread\u001b[0m\u001b[1;33m(\u001b[0m\u001b[0mpeeksz\u001b[0m\u001b[1;33m)\u001b[0m\u001b[1;33m\u001b[0m\u001b[0m\n\u001b[1;32m    397\u001b[0m     \u001b[1;32mif\u001b[0m \u001b[0mpeek\u001b[0m \u001b[1;33m==\u001b[0m \u001b[1;34mb\"PK\\x03\\x04\"\u001b[0m\u001b[1;33m:\u001b[0m \u001b[1;31m# a ZIP file\u001b[0m\u001b[1;33m\u001b[0m\u001b[0m\n",
      "\u001b[0;31mIOError\u001b[0m: [Errno 2] No such file or directory: '100pic.xls'"
     ]
    }
   ],
   "source": [
    "df1, df2 = read_xls('100pic.xls')\n",
    "d1 = to_list(df1)\n",
    "d2 = to_list(df2)\n",
    "\n",
    "for key in d1:\n",
    "\tfillin_zero(d1,key)\n",
    "\n",
    "for key in d2:\n",
    "\tfillin_zero(d2,key)\n",
    "\n",
    "dict_to_excelfile(d1, 'overpass_df', 'overpass.xls')\n",
    "dict_to_excelfile(d2, 'nonoverpass_df', 'nonoverpass.xls')\n",
    "\n",
    "overpass_df = pd.DataFrame.from_dict(d1)\n",
    "nonoverpass_df = pd.DataFrame.from_dict(d2)\n",
    "\n",
    "overpass_df['result'] = 1\n",
    "nonoverpass_df['result'] = 0\n",
    "\n",
    "pd.DataFrame.to_excel(overpass_df,'overpass.xls')\n",
    "pd.DataFrame.to_excel(nonoverpass_df,'nonoverpass.xls')"
   ]
  },
  {
   "cell_type": "code",
   "execution_count": 14,
   "metadata": {
    "collapsed": false
   },
   "outputs": [],
   "source": [
    "xl = pd.ExcelFile(\"C:/Users/06135/Downloads/overpass.xls\")\n",
    "xl.sheet_names\n",
    "df1 = xl.parse(\"Sheet1\")\n",
    "\n",
    "xl2 = pd.ExcelFile(\"C:/Users/06135/Downloads/nonoverpass.xls\")\n",
    "xl2.sheet_names\n",
    "df2 = xl2.parse(\"Sheet1\")"
   ]
  },
  {
   "cell_type": "code",
   "execution_count": 16,
   "metadata": {
    "collapsed": false
   },
   "outputs": [
    {
     "data": {
      "text/html": [
       "<div>\n",
       "<table border=\"1\" class=\"dataframe\">\n",
       "  <thead>\n",
       "    <tr style=\"text-align: right;\">\n",
       "      <th></th>\n",
       "      <th>Apartment</th>\n",
       "      <th>Architecture</th>\n",
       "      <th>Area</th>\n",
       "      <th>Asphalt</th>\n",
       "      <th>AutomotiveExterior</th>\n",
       "      <th>Bridge</th>\n",
       "      <th>Building</th>\n",
       "      <th>Car</th>\n",
       "      <th>City</th>\n",
       "      <th>CityCar</th>\n",
       "      <th>...</th>\n",
       "      <th>Traffic</th>\n",
       "      <th>TrafficCongestion</th>\n",
       "      <th>TrafficLight</th>\n",
       "      <th>TrafficSign</th>\n",
       "      <th>Transport</th>\n",
       "      <th>Tree</th>\n",
       "      <th>UrbanArea</th>\n",
       "      <th>UrbanDesign</th>\n",
       "      <th>Vehicle</th>\n",
       "      <th>result</th>\n",
       "    </tr>\n",
       "  </thead>\n",
       "  <tbody>\n",
       "    <tr>\n",
       "      <th>1</th>\n",
       "      <td>0</td>\n",
       "      <td>0</td>\n",
       "      <td>0</td>\n",
       "      <td>80</td>\n",
       "      <td>0</td>\n",
       "      <td>0</td>\n",
       "      <td>0</td>\n",
       "      <td>90</td>\n",
       "      <td>0</td>\n",
       "      <td>0</td>\n",
       "      <td>...</td>\n",
       "      <td>0</td>\n",
       "      <td>0</td>\n",
       "      <td>0</td>\n",
       "      <td>0</td>\n",
       "      <td>84</td>\n",
       "      <td>0</td>\n",
       "      <td>0</td>\n",
       "      <td>0</td>\n",
       "      <td>59</td>\n",
       "      <td>1</td>\n",
       "    </tr>\n",
       "    <tr>\n",
       "      <th>2</th>\n",
       "      <td>0</td>\n",
       "      <td>0</td>\n",
       "      <td>0</td>\n",
       "      <td>76</td>\n",
       "      <td>0</td>\n",
       "      <td>0</td>\n",
       "      <td>0</td>\n",
       "      <td>91</td>\n",
       "      <td>0</td>\n",
       "      <td>0</td>\n",
       "      <td>...</td>\n",
       "      <td>0</td>\n",
       "      <td>0</td>\n",
       "      <td>0</td>\n",
       "      <td>0</td>\n",
       "      <td>85</td>\n",
       "      <td>0</td>\n",
       "      <td>0</td>\n",
       "      <td>0</td>\n",
       "      <td>51</td>\n",
       "      <td>1</td>\n",
       "    </tr>\n",
       "    <tr>\n",
       "      <th>3</th>\n",
       "      <td>0</td>\n",
       "      <td>0</td>\n",
       "      <td>0</td>\n",
       "      <td>67</td>\n",
       "      <td>0</td>\n",
       "      <td>0</td>\n",
       "      <td>0</td>\n",
       "      <td>96</td>\n",
       "      <td>54</td>\n",
       "      <td>0</td>\n",
       "      <td>...</td>\n",
       "      <td>68</td>\n",
       "      <td>0</td>\n",
       "      <td>0</td>\n",
       "      <td>0</td>\n",
       "      <td>94</td>\n",
       "      <td>0</td>\n",
       "      <td>82</td>\n",
       "      <td>0</td>\n",
       "      <td>80</td>\n",
       "      <td>1</td>\n",
       "    </tr>\n",
       "    <tr>\n",
       "      <th>4</th>\n",
       "      <td>0</td>\n",
       "      <td>0</td>\n",
       "      <td>0</td>\n",
       "      <td>83</td>\n",
       "      <td>0</td>\n",
       "      <td>55</td>\n",
       "      <td>0</td>\n",
       "      <td>0</td>\n",
       "      <td>0</td>\n",
       "      <td>0</td>\n",
       "      <td>...</td>\n",
       "      <td>0</td>\n",
       "      <td>0</td>\n",
       "      <td>0</td>\n",
       "      <td>0</td>\n",
       "      <td>0</td>\n",
       "      <td>0</td>\n",
       "      <td>0</td>\n",
       "      <td>0</td>\n",
       "      <td>0</td>\n",
       "      <td>1</td>\n",
       "    </tr>\n",
       "    <tr>\n",
       "      <th>5</th>\n",
       "      <td>0</td>\n",
       "      <td>0</td>\n",
       "      <td>0</td>\n",
       "      <td>75</td>\n",
       "      <td>0</td>\n",
       "      <td>0</td>\n",
       "      <td>58</td>\n",
       "      <td>88</td>\n",
       "      <td>53</td>\n",
       "      <td>0</td>\n",
       "      <td>...</td>\n",
       "      <td>0</td>\n",
       "      <td>0</td>\n",
       "      <td>0</td>\n",
       "      <td>0</td>\n",
       "      <td>88</td>\n",
       "      <td>0</td>\n",
       "      <td>0</td>\n",
       "      <td>0</td>\n",
       "      <td>0</td>\n",
       "      <td>1</td>\n",
       "    </tr>\n",
       "  </tbody>\n",
       "</table>\n",
       "<p>5 rows × 83 columns</p>\n",
       "</div>"
      ],
      "text/plain": [
       "   Apartment  Architecture  Area  Asphalt  AutomotiveExterior  Bridge  \\\n",
       "1          0             0     0       80                   0       0   \n",
       "2          0             0     0       76                   0       0   \n",
       "3          0             0     0       67                   0       0   \n",
       "4          0             0     0       83                   0      55   \n",
       "5          0             0     0       75                   0       0   \n",
       "\n",
       "   Building  Car  City  CityCar   ...    Traffic  TrafficCongestion  \\\n",
       "1         0   90     0        0   ...          0                  0   \n",
       "2         0   91     0        0   ...          0                  0   \n",
       "3         0   96    54        0   ...         68                  0   \n",
       "4         0    0     0        0   ...          0                  0   \n",
       "5        58   88    53        0   ...          0                  0   \n",
       "\n",
       "   TrafficLight  TrafficSign  Transport  Tree  UrbanArea  UrbanDesign  \\\n",
       "1             0            0         84     0          0            0   \n",
       "2             0            0         85     0          0            0   \n",
       "3             0            0         94     0         82            0   \n",
       "4             0            0          0     0          0            0   \n",
       "5             0            0         88     0          0            0   \n",
       "\n",
       "   Vehicle  result  \n",
       "1       59       1  \n",
       "2       51       1  \n",
       "3       80       1  \n",
       "4        0       1  \n",
       "5        0       1  \n",
       "\n",
       "[5 rows x 83 columns]"
      ]
     },
     "execution_count": 16,
     "metadata": {},
     "output_type": "execute_result"
    }
   ],
   "source": [
    "df1.head()"
   ]
  },
  {
   "cell_type": "code",
   "execution_count": 29,
   "metadata": {
    "collapsed": false
   },
   "outputs": [],
   "source": [
    "overpass_matrix = pd.DataFrame.as_matrix(df1)\n",
    "nonoverpass_matrix = pd.DataFrame.as_matrix(df2)"
   ]
  },
  {
   "cell_type": "code",
   "execution_count": 44,
   "metadata": {
    "collapsed": false
   },
   "outputs": [],
   "source": [
    "overcol_num = len(overpass_matrix[0])\n",
    "nonovercol_num = len(nonoverpass_matrix[0])"
   ]
  },
  {
   "cell_type": "code",
   "execution_count": 54,
   "metadata": {
    "collapsed": false
   },
   "outputs": [],
   "source": [
    "overpass_x = overpass_matrix[:,:overcol_num-1]\n",
    "overpass_y = overpass_matrix[:,overcol_num-1]"
   ]
  },
  {
   "cell_type": "code",
   "execution_count": 57,
   "metadata": {
    "collapsed": false
   },
   "outputs": [
    {
     "data": {
      "text/plain": [
       "array([[ 0,  0,  0, ...,  0,  0, 59],\n",
       "       [ 0,  0,  0, ...,  0,  0, 51],\n",
       "       [ 0,  0,  0, ..., 82,  0, 80],\n",
       "       ..., \n",
       "       [ 0,  0,  0, ...,  0,  0, 74],\n",
       "       [ 0,  0,  0, ...,  0,  0,  0],\n",
       "       [ 0,  0,  0, ...,  0,  0, 60]], dtype=int64)"
      ]
     },
     "execution_count": 57,
     "metadata": {},
     "output_type": "execute_result"
    }
   ],
   "source": [
    "overpass_x"
   ]
  },
  {
   "cell_type": "code",
   "execution_count": 58,
   "metadata": {
    "collapsed": true
   },
   "outputs": [],
   "source": [
    "key_lst = []\n",
    "for key in df1:\n",
    "    key_lst.append(key)"
   ]
  },
  {
   "cell_type": "code",
   "execution_count": 63,
   "metadata": {
    "collapsed": false
   },
   "outputs": [],
   "source": [
    "for key in df2:\n",
    "    if key not in key_lst:\n",
    "        key_lst.append(key)"
   ]
  },
  {
   "cell_type": "code",
   "execution_count": 65,
   "metadata": {
    "collapsed": false
   },
   "outputs": [
    {
     "data": {
      "text/plain": [
       "108"
      ]
     },
     "execution_count": 65,
     "metadata": {},
     "output_type": "execute_result"
    }
   ],
   "source": [
    "len(key_lst)"
   ]
  }
 ],
 "metadata": {
  "kernelspec": {
   "display_name": "Python [conda root]",
   "language": "python",
   "name": "conda-root-py"
  },
  "language_info": {
   "codemirror_mode": {
    "name": "ipython",
    "version": 2
   },
   "file_extension": ".py",
   "mimetype": "text/x-python",
   "name": "python",
   "nbconvert_exporter": "python",
   "pygments_lexer": "ipython2",
   "version": "2.7.12"
  }
 },
 "nbformat": 4,
 "nbformat_minor": 1
}
