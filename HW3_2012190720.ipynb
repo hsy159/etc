{
 "cells": [
  {
   "cell_type": "markdown",
   "metadata": {},
   "source": [
    "# Homework3, Neural Network\n",
    "\n",
    "In this section, you will implement a non-linear classifier using the Neural Network.\n",
    "\n",
    "Let's start with a simple code using Neural Network.\n",
    "\n",
    "First, get prepared by importing the numpy library as 'np'.(Or just run the code below)"
   ]
  },
  {
   "cell_type": "code",
   "execution_count": 353,
   "metadata": {
    "collapsed": false
   },
   "outputs": [],
   "source": [
    "import numpy as np\n",
    "import pandas as pd\n",
    "import matplotlib.pyplot as plt\n",
    "import random\n",
    "import matplotlib.pyplot as plt\n",
    "from quandl import get"
   ]
  },
  {
   "cell_type": "markdown",
   "metadata": {},
   "source": [
    "## 1. Learning AND, OR by Single Perceptron\n",
    "\n",
    "We will start with an intuitive Neural Network, which has no hidden layer at all.\n",
    "\n",
    "> First we will learn the two basic linear logistic classification problems, 'AND' and 'OR'.\n",
    "\n",
    "<img src=\"img/hw3/AND.jpg\" alt=\"Drawing\" style=\"width: 400px; float: left;\"/>"
   ]
  },
  {
   "cell_type": "code",
   "execution_count": 354,
   "metadata": {
    "collapsed": true
   },
   "outputs": [],
   "source": [
    "bias = 1\n",
    "\n",
    "X = np.array([\n",
    "        [bias, 0,0],\n",
    "        [bias, 0,1],\n",
    "        [bias, 1,0],\n",
    "        [bias, 1,1]\n",
    "    ])\n",
    "\n",
    "Y_AND = np.array([\n",
    "        [0],\n",
    "        [0],\n",
    "        [0],\n",
    "        [1]\n",
    "    ])\n",
    "\n",
    "Y_OR = np.array([\n",
    "        [0],\n",
    "        [1],\n",
    "        [1],\n",
    "        [1]\n",
    "    ])"
   ]
  },
  {
   "cell_type": "markdown",
   "metadata": {},
   "source": [
    "### Problem1. Weights for a single perceptron\n",
    "\n",
    "The given theta for learning 'AND' and 'OR' are provided below.\n",
    "\n",
    "Run the code and provide your system the given weights."
   ]
  },
  {
   "cell_type": "code",
   "execution_count": 355,
   "metadata": {
    "collapsed": false
   },
   "outputs": [],
   "source": [
    "\"\"\"\n",
    "The given weight is only appliable for sigmoid function.\n",
    "\n",
    "TO DO :\n",
    "\n",
    "Fill in the weights w1, w2, w3 for each theta so that the result gives the right answer.\n",
    "\n",
    "\"\"\"\n",
    "\n",
    "#your code here\n",
    "theta_AND = np.array([\n",
    "        [-30, 20, 20]\n",
    "    ])\n",
    "\n",
    "theta_OR = np.array([\n",
    "        [-10, 20, 20]\n",
    "    ])"
   ]
  },
  {
   "cell_type": "markdown",
   "metadata": {},
   "source": [
    "For an activation function, we are going to use both the softmax function and the sigmoid function.\n",
    "\n",
    "> Codes for both implementations are described below.\n",
    "\n",
    "<img src=\"img/hw3/sigmoid.png\" alt=\"Drawing\" style=\"width: 350px; float: left;\"/>"
   ]
  },
  {
   "cell_type": "markdown",
   "metadata": {},
   "source": [
    "### Problem2. Sigmoid function\n",
    "\n",
    "Fill in the missing part of the sigmoid function with your code.\n",
    "\n",
    "For additional explanation, d=True will activate the differentiation of the sigmoid function,\n",
    "\n",
    "while d=False will return the pure sigmoid function itself."
   ]
  },
  {
   "cell_type": "code",
   "execution_count": 356,
   "metadata": {
    "collapsed": false
   },
   "outputs": [],
   "source": [
    "def sigmoid(g, d=False):\n",
    "        if(d):\n",
    "            gradientSigmoid = 1/(1+np.exp(-g))*(1-1/(1+np.exp(-g)))# your code here. The differentiation of sigmoid by z\n",
    "            return gradientSigmoid\n",
    "        else:\n",
    "            normalSigmoid = 1/(1+np.exp(-g))# your code here. The normal sigmoid\n",
    "            return normalSigmoid"
   ]
  },
  {
   "cell_type": "markdown",
   "metadata": {},
   "source": [
    "From the code below, you can confirm that both 'AND' and 'OR' has been successfully implemented using Sigmoid function."
   ]
  },
  {
   "cell_type": "code",
   "execution_count": 357,
   "metadata": {
    "collapsed": false
   },
   "outputs": [
    {
     "name": "stdout",
     "output_type": "stream",
     "text": [
      "AND\n",
      "[[ 0.  0.  0.  1.]]\n",
      "\n",
      "OR\n",
      "[[ 0.  1.  1.  1.]]\n"
     ]
    }
   ],
   "source": [
    "flag = False # gradients are only needed in the case for back propagation.\n",
    "\n",
    "\"\"\"\n",
    "Check if AND = [0, 0, 0, 1], OR = [0, 1, 1, 1]\n",
    "\"\"\"\n",
    "\n",
    "h_AND_sigmoid = np.round(sigmoid(np.dot(X, theta_AND.T), flag))\n",
    "print \"AND\"\n",
    "print h_AND_sigmoid.T\n",
    "\n",
    "print \"\"\n",
    "\n",
    "h_OR_sigmoid = np.round(sigmoid(np.dot(X, theta_OR.T), flag))\n",
    "print \"OR\"\n",
    "print h_OR_sigmoid.T"
   ]
  },
  {
   "cell_type": "markdown",
   "metadata": {},
   "source": [
    "## 2. Learning XOR by Neural Network\n",
    "\n",
    "\n",
    "Now, let's move on to the non-linear classifying problems.\n",
    "\n",
    "Until now, 'AND' and 'OR' where both linear classifications, so we could implemented\n",
    "\n",
    "both methods by forward propagation by easily combinating theta's without a hidden layer.\n",
    "\n",
    "However, in the case of non-linear functions such as 'XOR', it's not quite easy to come up with an appropriate theta.\n",
    "\n",
    "From now on, we will adopt another layer(which is called the hidden layer) in order to successfully classify this problem.\n",
    "\n",
    "> Our target is that to return 0 if the two inputs are the same, and 1 if the two are differrent.\n",
    "\n",
    "> Fill in the indicated spaces with your own code for the function 'sigmoid' and 'forward_propagation'.\n",
    "\n",
    "> The 'backward_propagation' learning code part is already implemented.\n",
    "\n",
    "> If your algorithm is correct, the code below will run without any trouble and successfully learn the results  of 'XOR'.\n",
    "\n",
    "<img src=\"img/hw3/XOR.jpg\" alt=\"Drawing\" style=\"width: 400px; float: left;\"/>"
   ]
  },
  {
   "cell_type": "markdown",
   "metadata": {},
   "source": [
    "### Problem3. Forward Propagation and Cost Function for Neural Network.\n",
    "\n",
    "Neural Network is consisted with 3 important features.\n",
    "\n",
    "> 1. Forward Propagation for prediction.\n",
    "\n",
    "> 2. Backward Propagation for Learning.\n",
    "\n",
    "> 3. Cost Function for providing a threshold to learning.\n",
    "\n",
    "As implementing Backward Propagation by your own will be very tricky, I have wrote the code down for you.\n",
    "\n",
    "You will need to fill in the rest of the function consisting the class.\n",
    "\n",
    "If all your implementations are correct, you might see that the XOR learning below will operate properly.\n",
    "\n",
    "This is a \"Hello World!\" example in the field of Machine Learning."
   ]
  },
  {
   "cell_type": "code",
   "execution_count": 358,
   "metadata": {
    "collapsed": false
   },
   "outputs": [],
   "source": [
    "\"\"\"\n",
    "This will create a Neural Network with specified inputs and outputs.\n",
    "\n",
    "Input : When building a constructor, you should pass on the size of the input layer, the output layer\n",
    "\n",
    "\"\"\"\n",
    "\n",
    "class NeuralNetwork:\n",
    "    def __init__(self, InputLayer, OutputLayer):\n",
    "        # Define the number of nodes in each layers\n",
    "        self.inputLayer = InputLayer\n",
    "        self.hiddenLayer = InputLayer\n",
    "        self.output = OutputLayer\n",
    "\n",
    "        # create node weight matrices\n",
    "        self.theta0 = 2*np.random.random((self.hiddenLayer, self.inputLayer+1))-1\n",
    "        self.theta1 = 2*np.random.random((self.output, self.hiddenLayer+1))-1\n",
    "        \n",
    "        \n",
    "    def sigmoid(self, g, d=False):\n",
    "        #####################################################################\n",
    "        ####################### Write your code here ########################\n",
    "        #####################################################################\n",
    "        if(d):\n",
    "            gradientSigmoid = 1/(1+np.exp(-g))*(1-1/(1+np.exp(-g)))# your code here. Same code above.\n",
    "            return gradientSigmoid\n",
    "        else:\n",
    "            normalSigmoid = 1/(1+np.exp(-g))# your code here. Same code above.\n",
    "            return normalSigmoid\n",
    "\n",
    "        \n",
    "    def costFunction(self, X, y):\n",
    "        #####################################################################\n",
    "        ####################### Write your code here ########################\n",
    "        #####################################################################\n",
    "        m = len(y) # 'm' represents the number of training examples.    \n",
    "        cost = -(float(1)/m)*np.sum(y*np.log(self.forward_propagation(X))+(1-y)*np.log(1-self.forward_propagation(X))) # write your code here. Code for the cost of 'logistic regression'\n",
    "        return cost\n",
    "    \n",
    "    \n",
    "    def forward_propagation(self, X):\n",
    "        #####################################################################\n",
    "        ####################### Write your code here ########################\n",
    "        #####################################################################\n",
    "        \n",
    "        # Forward Propagate Inputs Through Network\n",
    "        m = len(X)# your code here. 'm' means the total number of rows(training examples) in your input.\n",
    "        \n",
    "        # Before starting your propagation, you need to add bias in your input unit\n",
    "        \n",
    "        self.a1 =  np.insert(X,0,1,axis=1)# your code here. Add bias nodes to the 2 dimensional array representing your input.\n",
    "\n",
    "        # Input Layer -> Hidden Layer\n",
    "        self.z2 = np.dot(self.a1,self.theta0.T) # your code here. The dot product of a1 and theta0\n",
    "        self.a2 = sigmoid(self.z2)# your code here. The sigmoid activated result of z2\n",
    "        \n",
    "        # Before starting next propagation, add bias 1 in your hidden layer unit\n",
    "\n",
    "        self.a2 = np.insert(self.a2,0,1,axis=1)# your code here. Stack the hidden nodes with bias '1'\n",
    "        \n",
    "        # Hidden Layer -> Output Layer\n",
    "        self.z3 = np.dot(self.a2,self.theta1.T)# your code here. The dot product of a2 and theta1\n",
    "        self.ho = sigmoid(self.z3)# your code here. The sigmoid activated result of z3\n",
    "        \n",
    "        # Final output of the neural network\n",
    "        return self.ho\n",
    "\n",
    "    def backward_propagation(self, X, y, alpha):\n",
    "        # for e in range(epoch):\n",
    "        max_iteration = 500\n",
    "        self.err = np.ones(max_iteration)\n",
    "        final_error = 1\n",
    "        iteration = 0\n",
    "        \n",
    "        while self.err[iteration] > 1e-10 :\n",
    "            # Forward propogate\n",
    "            a3 = self.forward_propagation(X)\n",
    "            \n",
    "            # Backward Propagate\n",
    "            delta3 = a3 - y\n",
    "            theta1_grad = np.dot(delta3.T, self.a2)\n",
    "            delta2 = np.dot(delta3, self.theta1[:, 1:]) * self.sigmoid(self.z2, d=True)\n",
    "            theta0_grad = np.dot(delta2.T, self.a1)\n",
    "\n",
    "            change = theta0_grad\n",
    "            self.theta0 -= (alpha-change*0.1) * theta0_grad\n",
    "            change = theta1_grad\n",
    "            self.theta1 -= (alpha-change*0.1) * theta1_grad\n",
    "            \n",
    "            if(iteration + 1 == 500):\n",
    "                return self.err\n",
    "            \n",
    "            final_error = self.costFunction(X, y)\n",
    "            self.err[iteration+1] = final_error\n",
    "            iteration = iteration+1\n",
    "            \n",
    "        return self.err"
   ]
  },
  {
   "cell_type": "markdown",
   "metadata": {},
   "source": [
    "Beneath is the training example for XOR code. The results should be an hypothesis array of [0, 1, 1, 0]\n",
    "\n",
    "<img src=\"img/hw3/XOR_network.jpg\" alt=\"Drawing\" style=\"width: 200px; float: left;\"/>"
   ]
  },
  {
   "cell_type": "code",
   "execution_count": 359,
   "metadata": {
    "collapsed": false
   },
   "outputs": [],
   "source": [
    "# XOR training data\n",
    "X = np.array([[0, 0],\n",
    "              [0, 1],\n",
    "              [1, 0],\n",
    "              [1, 1]])\n",
    "\n",
    "y = np.array([[0,1,1,0]]).T"
   ]
  },
  {
   "cell_type": "markdown",
   "metadata": {},
   "source": [
    "For your own sake, we also implemented a plotting system so you could visually observe the error eventually converging to 0.\n",
    "\n",
    "We also implemented a variety of skills in order to prevent the gradient descent from falling into a local minimum.\n",
    "\n",
    "Check out the code for further notations.\n",
    "\n",
    "> You should close the pop-up screen(showing you the cost graph, visualizing your error respect to iterations)\n",
    "\n",
    "> in order to observe your final result.\n",
    "\n",
    "> The final result should be a numpy array of [0, 1, 1, 0]"
   ]
  },
  {
   "cell_type": "code",
   "execution_count": 360,
   "metadata": {
    "collapsed": false
   },
   "outputs": [
    {
     "name": "stdout",
     "output_type": "stream",
     "text": [
      "Error before training =  0.738381733977\n",
      "Error after training =  0.0162626900072\n",
      "[[ 0.  1.  1.  0.]]\n"
     ]
    }
   ],
   "source": [
    "nn = NeuralNetwork(2, 1)\n",
    "\n",
    "print \"Error before training = \", nn.costFunction(X, y)\n",
    "\n",
    "# learning thetas\n",
    "max_iteration = 500\n",
    "min_err = 1\n",
    "for i in range(10):\n",
    "    nn = NeuralNetwork(2, 1)\n",
    "    \n",
    "    cost = np.zeros(max_iteration)\n",
    "    cost = nn.backward_propagation(X, y, 0.5)         # learning rate = 0.5 , epoch = 1\n",
    "    err = nn.costFunction(X, y)\n",
    "    if (min_err > err):\n",
    "        min_err = err\n",
    "        result = nn.forward_propagation(X)\n",
    "        min_cost = cost\n",
    "\n",
    "print \"Error after training = \", min_err\n",
    "print np.round(result.T)\n",
    "\n",
    "# visualize cost: y-axis, iterations(epochs): x-axis\n",
    "plt.plot(np.arange(0., max_iteration, 1.0), min_cost.T)\n",
    "plt.axis([0, max_iteration, 0, 1])\n",
    "plt.show()"
   ]
  },
  {
   "cell_type": "markdown",
   "metadata": {},
   "source": [
    "# Neural Network in Finance\n",
    "\n",
    "Now we are going to move on to the application of Neural Network, especially in the field of finance.\n",
    "\n",
    "We are going to take 3 simple features in finance(S&P500, Dow Jones IA, PIR) and will predict the NASDAQ index.\n",
    "\n",
    "We will crawl the data we need from Yahoo finance.\n",
    "\n",
    "But, at first, beneath is a brief explanation of the indices above for those you are not familiar with finance.\n",
    "\n",
    "> Reading the material below is purely optional, so you may as well skip and move on to the coding part."
   ]
  },
  {
   "cell_type": "code",
   "execution_count": 361,
   "metadata": {
    "collapsed": false
   },
   "outputs": [],
   "source": [
    "import requests\n",
    "from pattern import web\n",
    "import re"
   ]
  },
  {
   "cell_type": "markdown",
   "metadata": {},
   "source": [
    "## 1. S&P500\n",
    "\n",
    "The S&P500 is a free-float capitalization-weighted index published since 1957 of the prices of 500 large-cap common stocks actively traded in the United States. The stocks included in the S&P500 are those of large publicly held companies that trade on either of the two largest American stock market companies; the NYSE Euronext and the NASDAQ OMX. Actually, the S&P500 is one of the most widely followed indexes of large-cap American stocks. It is considered a bellwether for the American economy, and is included in the Index of Leading Indicators. S&P500 index fluctuations are dependent upon a lot of factors, thus the entire prediction pattern is very complex. In this application, the input data is represented only by historical items of 4 important economical indicators. It is essential to mention that if you want a better predictor, you should feed your neural network with more indicators that are more or less important for the entire interpolation. \n",
    "\n",
    "<img src=\"img/hw3/SP500.png\" alt=\"Drawing\" style=\"width: 500px; float: left;\"/>"
   ]
  },
  {
   "cell_type": "markdown",
   "metadata": {},
   "source": [
    "### Problem4. Crawling Information from Yahoo Finance.\n",
    "\n",
    "As you have previously done in Homework1, you have to scrap the information from Yahoo finance.\n",
    "\n",
    "Those who have done Homework1 on there own will have no trouble in following the rest of the implementation.\n",
    "\n",
    "Questions about specific methods for Crawling information will NOT be guided.\n",
    "\n",
    "<img src=\"img/hw3/Screenshot.png\" alt=\"Drawing\" style=\"float: left;\"/>\n",
    "\n",
    "Above is a screenshot for the Yahoo Finance S&P500 page.\n",
    "\n",
    "> Fill in the function 'scrap_page' below in order to crawl the given URL and retreive the information\n",
    "\n",
    "(Monthly Historical prices for Adjacent Close).\n",
    "\n",
    "The URLs you need are provided below.\n",
    "\n",
    "> S&P500 URL = http://finance.yahoo.com/q/hp?s=%5EGSPC&g=m\n",
    "\n",
    "> Dow Jones Industrial Average URL = http://finance.yahoo.com/q/hp?s=%5EDJI&g=m\n",
    "\n",
    "> NASDAQ Composite URL = http://finance.yahoo.com/q/hp?s=NDAQ&g=m\n",
    "\n",
    "> PIR Composite URL = http://finance.yahoo.com/q/hp?s=PIR&g=m\n",
    "\n",
    "You will notice that the URL is consisted with 'http://finance.yahoo.com/q/hp?s=' + id + '&g=m'\n",
    "\n",
    "Utilize this in order to fill in the 'scrap_page' function."
   ]
  },
  {
   "cell_type": "code",
   "execution_count": 362,
   "metadata": {
    "collapsed": true
   },
   "outputs": [],
   "source": [
    "def scrap_page(request_id):\n",
    "    print \"fetching \" , request_id\n",
    "        \n",
    "    target_url = 'http://finance.yahoo.com/q/hp?s=' + request_id + '&g=m'# your code here. Consist a pattern for the URL with the input.\n",
    "    r = requests.get(target_url)# your code here. Get requests for the given URL.\n",
    "    \n",
    "    return r.text"
   ]
  },
  {
   "cell_type": "code",
   "execution_count": 363,
   "metadata": {
    "collapsed": false
   },
   "outputs": [
    {
     "name": "stdout",
     "output_type": "stream",
     "text": [
      "fetching  %5EGSPC\n"
     ]
    }
   ],
   "source": [
    "SP500_code = '%5EGSPC'\n",
    "SP500_html = scrap_page(SP500_code)"
   ]
  },
  {
   "cell_type": "markdown",
   "metadata": {},
   "source": [
    "Beneath is a str2number function you have already implemented in your previous Homework1.\n",
    "\n",
    "You DON'T need to do anything to the code below."
   ]
  },
  {
   "cell_type": "code",
   "execution_count": 364,
   "metadata": {
    "collapsed": true
   },
   "outputs": [],
   "source": [
    "def str2number(number_str):\n",
    "        if number_str is None:\n",
    "            return None\n",
    "        else:\n",
    "            number_str = re.sub(\"[^0-9]\", \"\", number_str) \n",
    "            # return int(number_str)\n",
    "            if(number_str == \"\") : \n",
    "                number_str = '1';\n",
    "            return int(float(number_str))"
   ]
  },
  {
   "cell_type": "code",
   "execution_count": 365,
   "metadata": {
    "collapsed": false
   },
   "outputs": [
    {
     "data": {
      "text/plain": [
       "u'<!DOCTYPE html PUBLIC \"-//W3C//DTD HTML 4.01//EN\" \"http://www.w3.org/TR/html4/strict.dtd\">\\n<html><head><meta http-equiv=\"Content-Type\" content=\"text/html; charset=utf-8\"><title>^GSPC Historical Prices | S&amp;P 500 Stock - Yahoo! Finance</title><script type=\"text/javascript\" src=\"http://l.yimg.com/a'"
      ]
     },
     "execution_count": 365,
     "metadata": {},
     "output_type": "execute_result"
    }
   ],
   "source": [
    "SP500_html[0:300]"
   ]
  },
  {
   "cell_type": "markdown",
   "metadata": {},
   "source": [
    "### Problem5. Parsing HTML\n",
    "\n",
    "Parse the html code retrieved in order to get only the informations we need.\n",
    "\n",
    "We only need the information for the Adj. Close for each month.\n",
    "\n",
    "Ignore the other data.\n",
    "\n",
    "Write your code so the function beneath plays the exact roll I described above."
   ]
  },
  {
   "cell_type": "code",
   "execution_count": 366,
   "metadata": {
    "collapsed": true
   },
   "outputs": [],
   "source": [
    "from BeautifulSoup import BeautifulSoup"
   ]
  },
  {
   "cell_type": "code",
   "execution_count": 367,
   "metadata": {
    "collapsed": false
   },
   "outputs": [],
   "source": [
    "def parsing(html):\n",
    "    element = web.Element(html)\n",
    "    # tr 을 지워서 테이블 개수를 확인. 만약에 두 개 이상이면 뒤에 배열로 접근.\n",
    "    lst_tmp=[]\n",
    "    soup = BeautifulSoup(html)\n",
    "    table = soup.findAll('table',{'class':'yfnc_datamodoutline1'})[0]\n",
    "    tagList = table.findAll('tr');\n",
    "    rowList = tagList[2:len(tagList)-1]\n",
    "\n",
    "    for i in range(len(rowList)):\n",
    "        if len(rowList[i])==7:\n",
    "            lst_tmp.append(rowList[i])\n",
    "    \n",
    "    r_adj = [row.findAll('td')[len(row)-1] for row in lst_tmp]  \n",
    "    r_adj_clean = [component.text for component in r_adj]\n",
    "    index = []\n",
    "    for i in range(len(r_adj_clean)):\n",
    "        index.append(float(str2number(r_adj_clean[i]))/100)# Your code here. Notice that misusing 'tr' approach will lead to the wrong result.\n",
    "        # Check what is being retrieved in your system constantly.\n",
    "    \n",
    "    lst = index# Construct a list to contain all the prices you need.\n",
    "    return lst"
   ]
  },
  {
   "cell_type": "markdown",
   "metadata": {},
   "source": [
    "The length of the result list should be 67 as it is represented below."
   ]
  },
  {
   "cell_type": "code",
   "execution_count": 368,
   "metadata": {
    "collapsed": false
   },
   "outputs": [
    {
     "data": {
      "text/plain": [
       "67"
      ]
     },
     "execution_count": 368,
     "metadata": {},
     "output_type": "execute_result"
    }
   ],
   "source": [
    "SP500 = parsing(SP500_html)\n",
    "len(SP500) # This should be 67"
   ]
  },
  {
   "cell_type": "markdown",
   "metadata": {},
   "source": [
    "## From the 3 indices below, we will do the same operations as we did to the 'S&P500' index."
   ]
  },
  {
   "cell_type": "markdown",
   "metadata": {},
   "source": [
    "## 2. Dow Jones Industrial Average\n",
    "\n",
    "The Dow Jones Industrial Average (DJIA), also referred to as the Industrial Average, the Dow Jones, the Dow 30, or simply the Dow, is a stock market index, and one of several indices created by Wall Street Journal editor and Dow Jones & Company co-founder Charles Dow. It is an index that shows how 30 large, publicly owned companies based in the United States have traded during a standard trading session in the stock market. Along with the NASDAQ Composite, the S&P500 Index, and the Russell 2000 Index, the Dow is among the most closely watched benchmark indices tracking targeted stock market activity. To calculate the DJIA, the sum of the prices of all 30 stocks is divided by a Divisor, the Dow Divisor. The divisor is adjusted in case of stock splits, spinoffs or similar structural changes, to ensure that such events do not in themselves alter the numerical value of the DJIA.\n",
    "\n",
    "<img src=\"img/hw3/DowJones.jpg\" alt=\"Drawing\" style=\"width: 500px; float: left;\"/>"
   ]
  },
  {
   "cell_type": "code",
   "execution_count": 369,
   "metadata": {
    "collapsed": false
   },
   "outputs": [
    {
     "name": "stdout",
     "output_type": "stream",
     "text": [
      "fetching  %5EDJI\n"
     ]
    }
   ],
   "source": [
    "DowJones_code = '%5EDJI'\n",
    "DowJones_html = scrap_page(DowJones_code)"
   ]
  },
  {
   "cell_type": "code",
   "execution_count": 370,
   "metadata": {
    "collapsed": false
   },
   "outputs": [
    {
     "data": {
      "text/plain": [
       "67"
      ]
     },
     "execution_count": 370,
     "metadata": {},
     "output_type": "execute_result"
    }
   ],
   "source": [
    "DJI = parsing(DowJones_html)\n",
    "len(DJI) # This should be 67"
   ]
  },
  {
   "cell_type": "markdown",
   "metadata": {},
   "source": [
    "## 3. Prime Interest Rate\n",
    "\n",
    "Prime rate, or Prime Lending Rate, is a term applied in many countries to a reference interest rate used by banks. The term originally indicated the rate of interest at which banks lent to favored customers, i.e., those with high credibility, though this is no longer always the case. Some variable interest rates may be expressed as a percentage above or below prime rate. Generally, prime interest rate is a significant determinant in the world of financial marketing. This is because monetary policy is aimed at influencing domestic interest rates, which drive currency rates relative to other currencies with different interest rates. Domestic interest rates also influence overall economic activity, with lower interest rates typically stimulating borrowing, investment, and consumption, while higher interest rates tend to reduce borrowing, and increase saving over consumption. Below is shown Federal Funds Rate History graph. This data will be used in the current application.\n",
    "\n",
    "<img src=\"img/hw3/PIR.png\" alt=\"Drawing\" style=\"width: 500px; float: left;\"/>"
   ]
  },
  {
   "cell_type": "code",
   "execution_count": 371,
   "metadata": {
    "collapsed": false
   },
   "outputs": [
    {
     "name": "stdout",
     "output_type": "stream",
     "text": [
      "fetching  PIR\n"
     ]
    }
   ],
   "source": [
    "PIR_code = 'PIR'\n",
    "PIR_html = scrap_page(PIR_code)"
   ]
  },
  {
   "cell_type": "code",
   "execution_count": 372,
   "metadata": {
    "collapsed": false
   },
   "outputs": [
    {
     "data": {
      "text/plain": [
       "67"
      ]
     },
     "execution_count": 372,
     "metadata": {},
     "output_type": "execute_result"
    }
   ],
   "source": [
    "PIR = parsing(PIR_html)\n",
    "len(PIR) # This should be 67"
   ]
  },
  {
   "cell_type": "markdown",
   "metadata": {},
   "source": [
    "## 4. NASDAQ Composite\n",
    "\n",
    "The NASDAQ Composite is a stock market index of the common stocks and similar securities listed on the NASDAQ stock market, meaning that it has over 3,000 components. It is highly followed in the U.S. as an indicator of the performance of stocks of technology companies and growth companies. Since both U.S. and non-U.S. companies are listed on the NASDAQ stock market, the index is not exclusively a U.S. index.\n",
    "\n",
    "<img src=\"img/hw3/NASDAQ.png\" alt=\"Drawing\" style=\"width: 500px; float: left;\"/>"
   ]
  },
  {
   "cell_type": "code",
   "execution_count": 373,
   "metadata": {
    "collapsed": false
   },
   "outputs": [
    {
     "name": "stdout",
     "output_type": "stream",
     "text": [
      "fetching  NDAQ\n"
     ]
    }
   ],
   "source": [
    "NSDQ_code = 'NDAQ'\n",
    "NSDQ_html = scrap_page(NSDQ_code)\n",
    "NSDQ = parsing(NSDQ_html)"
   ]
  },
  {
   "cell_type": "markdown",
   "metadata": {},
   "source": [
    "## 5. Putting it together\n",
    "\n",
    "### Normalization\n",
    "\n",
    "This code is optional. Try it out after you have finished your code and checked your original results."
   ]
  },
  {
   "cell_type": "code",
   "execution_count": null,
   "metadata": {
    "collapsed": true
   },
   "outputs": [],
   "source": [
    "# SP500 = (SP500 - np.mean(SP500))/np.std(SP500)\n",
    "# DJI = (DJI-np.mean(DJI))/np.std(DJI)\n",
    "# PIR = (PIR-np.mean(PIR))/np.std(PIR)\n",
    "# NSDQ = (NSDQ-np.mean(NSDQ))/np.std(NSDQ)"
   ]
  },
  {
   "cell_type": "markdown",
   "metadata": {},
   "source": [
    "### Problem6. Constructing an Input Matrix\n",
    "\n",
    "First, in order to shuffle your data set to prevent it from getting biased by time, you will need to construct a one large\n",
    "\n",
    "matrix containing all the informations you have previously crawled from 'Yahoo Finance'."
   ]
  },
  {
   "cell_type": "code",
   "execution_count": 374,
   "metadata": {
    "collapsed": false
   },
   "outputs": [],
   "source": [
    "mtrx = np.matrix([SP500,PIR,DJI,NSDQ])# your code here. Matrix for every indices you have retrieved. It should have the size of (67 x 4)\n",
    "\n",
    "# Notice that the last column will be seperated as your target value 'y'.\n",
    "# So make sure that the 'NASDAQ' index comes in the last column of your matrix.\n",
    "# For example, [[S&P500 column], [PIR column], [Dow Jones column], [NASDAQ column]] will be a valid matrix\n",
    "\n",
    "mtrx = np.array(mtrx).T# your code here. Convert the matrix into a numpy 2 dimensional array\n",
    "np.random.shuffle(mtrx) # Shuffle the matrix using 'shuffle' function in 'numpy'"
   ]
  },
  {
   "cell_type": "markdown",
   "metadata": {},
   "source": [
    "### Problem7. Constructing Data sets\n",
    "\n",
    "\n",
    "#### (1) X, y\n",
    " Now on, you will construct data sets X and Y.\n",
    "\n",
    "DO NOT split your data into training and cross validation sets yet."
   ]
  },
  {
   "cell_type": "code",
   "execution_count": 375,
   "metadata": {
    "collapsed": false
   },
   "outputs": [
    {
     "name": "stdout",
     "output_type": "stream",
     "text": [
      "(67L, 3L)\n",
      "(67L, 1L)\n"
     ]
    }
   ],
   "source": [
    "X = mtrx[:,0:3]# your code here.\n",
    "y = mtrx[:,3:4]# your code here.\n",
    "print np.shape(X)\n",
    "print np.shape(y)"
   ]
  },
  {
   "cell_type": "markdown",
   "metadata": {},
   "source": [
    "#### (2-1) train_X\n",
    "\n",
    "Now, spilt your training data, index starting from 13 to the last index 67.\n",
    "\n",
    "The total dimension of the final train_X will be (55L, 3L)\n",
    "\n",
    "Do NOT use the function provied from sklearn."
   ]
  },
  {
   "cell_type": "code",
   "execution_count": 376,
   "metadata": {
    "collapsed": false
   },
   "outputs": [
    {
     "data": {
      "text/plain": [
       "(55L, 3L)"
      ]
     },
     "execution_count": 376,
     "metadata": {},
     "output_type": "execute_result"
    }
   ],
   "source": [
    "train_X = X[:55,:]# your code here.\n",
    "train_X.shape # this should be (55L, 3L)"
   ]
  },
  {
   "cell_type": "markdown",
   "metadata": {
    "collapsed": true
   },
   "source": [
    "#### (2-2) train_Y\n",
    "\n",
    "Once again, split your Y training labels, index starting from 13 to the last index 67.\n",
    "\n",
    "The total dimension of the final train_Y will be (55L, 1L)"
   ]
  },
  {
   "cell_type": "code",
   "execution_count": 377,
   "metadata": {
    "collapsed": false
   },
   "outputs": [
    {
     "data": {
      "text/plain": [
       "(55L, 1L)"
      ]
     },
     "execution_count": 377,
     "metadata": {},
     "output_type": "execute_result"
    }
   ],
   "source": [
    "train_Y = y[:55,:]# your code here.\n",
    "train_Y.shape # this should be (55L, 1L)"
   ]
  },
  {
   "cell_type": "markdown",
   "metadata": {},
   "source": [
    "#### (3-1) test_X\n",
    "\n",
    "Now, take the rest and make it as your test set.\n",
    "\n",
    "This set will be only used for evaluation, and will NOT be used in the process of training.\n",
    "\n",
    "The final dimension of test_X will be (12L, 3L)"
   ]
  },
  {
   "cell_type": "code",
   "execution_count": 378,
   "metadata": {
    "collapsed": false
   },
   "outputs": [
    {
     "data": {
      "text/plain": [
       "(12L, 3L)"
      ]
     },
     "execution_count": 378,
     "metadata": {},
     "output_type": "execute_result"
    }
   ],
   "source": [
    "test_X = X[55:,:]# your code here.\n",
    "test_X.shape # this should be (12L, 3L)"
   ]
  },
  {
   "cell_type": "markdown",
   "metadata": {},
   "source": [
    "#### (3-2) test_Y\n",
    "\n",
    "Do the same for 'y'.\n",
    "\n",
    "The final dimension for test_Y will be (12L, 1L)"
   ]
  },
  {
   "cell_type": "code",
   "execution_count": 379,
   "metadata": {
    "collapsed": false
   },
   "outputs": [
    {
     "data": {
      "text/plain": [
       "(12L, 1L)"
      ]
     },
     "execution_count": 379,
     "metadata": {},
     "output_type": "execute_result"
    }
   ],
   "source": [
    "test_Y = y[55:,:]# your code here.\n",
    "test_Y.shape # this should be (12L, 1L)"
   ]
  },
  {
   "cell_type": "markdown",
   "metadata": {},
   "source": [
    "### Problem8. Using LASSO to predict the NASDAQ index\n",
    "\n",
    "In this section, you will predict the PIR using the other 3 indices, and get the accuracy of the prediction.\n",
    "\n",
    "We will use the 'Lasso Function' to fit the given model.\n",
    "\n",
    "In order to use Lasso, use 'var = Lasso(input)'\n",
    "\n",
    "A following example is given below.  Fill in the variables with the appropriate methods.\n",
    "\n",
    "Remember, the test set SHOULD NOT BE INCLUDED IN THE TRAINING PROCESS!"
   ]
  },
  {
   "cell_type": "code",
   "execution_count": 380,
   "metadata": {
    "collapsed": true
   },
   "outputs": [],
   "source": [
    "from sklearn.linear_model import Lasso\n",
    "\n",
    "clf = Lasso(alpha = 0.1)"
   ]
  },
  {
   "cell_type": "code",
   "execution_count": 381,
   "metadata": {
    "collapsed": false
   },
   "outputs": [
    {
     "data": {
      "text/plain": [
       "[23.140643940477915,\n",
       " 40.224198468283106,\n",
       " 52.910637025410196,\n",
       " 23.13781295753317,\n",
       " 26.985454464212935,\n",
       " 22.44664681101746,\n",
       " 31.672258953070482,\n",
       " 21.307886074127822,\n",
       " 20.20568077436387,\n",
       " 51.097714323544736,\n",
       " 20.34088395695217,\n",
       " 23.771937757871775]"
      ]
     },
     "execution_count": 381,
     "metadata": {},
     "output_type": "execute_result"
    }
   ],
   "source": [
    "clf = Lasso(alpha=0.1)# your code here. Follow the code above.\n",
    "clf.fit(train_X,train_Y)# your code, # your code\n",
    "pred = clf.predict(test_X)\n",
    "pred = pred.tolist()# your code here. Make all your predictions into a list.\n",
    "pred"
   ]
  },
  {
   "cell_type": "code",
   "execution_count": 382,
   "metadata": {
    "collapsed": false
   },
   "outputs": [
    {
     "data": {
      "text/plain": [
       "array([[ 23.55],\n",
       "       [ 35.74],\n",
       "       [ 63.05],\n",
       "       [ 26.92],\n",
       "       [ 24.29],\n",
       "       [ 21.5 ],\n",
       "       [ 30.9 ],\n",
       "       [ 20.57],\n",
       "       [ 22.48],\n",
       "       [ 43.83],\n",
       "       [ 23.75],\n",
       "       [ 23.04]])"
      ]
     },
     "execution_count": 382,
     "metadata": {},
     "output_type": "execute_result"
    }
   ],
   "source": [
    "test_Y # Compare with the prediction you did just above."
   ]
  },
  {
   "cell_type": "markdown",
   "metadata": {},
   "source": [
    "### Problem9. Using Ridge to predict the NASDAQ index\n",
    "\n",
    "In this section, we will do the same steps above, only changing that\n",
    "\n",
    "we will use the 'pipeline model. I already have written down the code \n",
    "\n",
    "In order to use Ridge, use 'var = Lasso(input)'\n",
    "\n",
    "A following example is given below. Fill in the variables with the appropriate methods.\n",
    "\n",
    "Remember, the test set SHOULD NOT BE INCLUDED IN THE TRAINING PROCESS!"
   ]
  },
  {
   "cell_type": "code",
   "execution_count": 383,
   "metadata": {
    "collapsed": false
   },
   "outputs": [
    {
     "data": {
      "text/plain": [
       "array([[ 22.06187726],\n",
       "       [ 36.56883327],\n",
       "       [ 57.21828465],\n",
       "       [ 26.55012577],\n",
       "       [ 25.4552255 ],\n",
       "       [ 22.2347322 ],\n",
       "       [ 29.95990256],\n",
       "       [ 20.17543859],\n",
       "       [ 23.76004938],\n",
       "       [ 46.53722041],\n",
       "       [ 24.26943318],\n",
       "       [ 23.8957762 ]])"
      ]
     },
     "execution_count": 383,
     "metadata": {},
     "output_type": "execute_result"
    }
   ],
   "source": [
    "from sklearn.linear_model import Ridge\n",
    "from sklearn.preprocessing import PolynomialFeatures\n",
    "from sklearn.pipeline import make_pipeline\n",
    "\n",
    "max = 0\n",
    "\n",
    "for degree in range(5):\n",
    "    model = make_pipeline(PolynomialFeatures(degree), Ridge())\n",
    "    model.fit(train_X, train_Y)\n",
    "    if(model.score(test_X,test_Y)) > max:\n",
    "        fin_model = model\n",
    "        max = model.score(test_X,test_Y)\n",
    "        \n",
    "Xf = fin_model.predict(test_X)\n",
    "Xf # Compare the result from the test_Y above."
   ]
  },
  {
   "cell_type": "code",
   "execution_count": 384,
   "metadata": {
    "collapsed": false
   },
   "outputs": [
    {
     "data": {
      "text/plain": [
       "0.97072277082870784"
      ]
     },
     "execution_count": 384,
     "metadata": {},
     "output_type": "execute_result"
    }
   ],
   "source": [
    "fin_model.score(test_X, test_Y) # Observe the results of the score."
   ]
  },
  {
   "cell_type": "markdown",
   "metadata": {},
   "source": [
    "------------------------------------------------"
   ]
  },
  {
   "cell_type": "markdown",
   "metadata": {},
   "source": [
    "# Homework3 , Support Vector Machine \n",
    "In this section, we will use new dataset,\n",
    "\n",
    "__blog corpus__, which was published at 2006.\n",
    "\n",
    "First of all, download the corpus,\n",
    "\n",
    "from this site → (http://u.cs.biu.ac.il/~koppel/BlogCorpus.htm)\n",
    "\n",
    "And then, unzip the file."
   ]
  },
  {
   "cell_type": "code",
   "execution_count": 385,
   "metadata": {
    "collapsed": true
   },
   "outputs": [],
   "source": [
    "import os\n",
    "import os.path\n",
    "import numpy as np\n",
    "import nltk\n",
    "import pandas as pd\n",
    "import re\n",
    "import sklearn\n",
    "from sklearn.cross_validation import train_test_split\n",
    "from sklearn.svm import SVC\n",
    "from glob import glob \n",
    "import time\n",
    "\n",
    "from nltk.corpus import stopwords\n",
    "from nltk.tokenize import wordpunct_tokenize\n",
    "from nltk.stem.lancaster import LancasterStemmer\n",
    "\n",
    "# set your path to the unzipped blog folder.\n",
    "DATA_FILE_PATH_PATTERN = \"C:/data/blogs/*.xml\""
   ]
  },
  {
   "cell_type": "markdown",
   "metadata": {},
   "source": [
    "## Common methods\n",
    "\n",
    "We will use new package, __\"nltk\"__.\n",
    "\n",
    "Using the package, we can process natural language easily.\n",
    "\n",
    "First of all, we must download some _dictionaries_ to use the package's functions."
   ]
  },
  {
   "cell_type": "code",
   "execution_count": 386,
   "metadata": {
    "collapsed": false
   },
   "outputs": [
    {
     "name": "stdout",
     "output_type": "stream",
     "text": [
      "[nltk_data] Downloading package punkt to\n",
      "[nltk_data]     C:\\Users\\HSY\\AppData\\Roaming\\nltk_data...\n",
      "[nltk_data]   Package punkt is already up-to-date!\n",
      "[nltk_data] Downloading package stopwords to\n",
      "[nltk_data]     C:\\Users\\HSY\\AppData\\Roaming\\nltk_data...\n",
      "[nltk_data]   Package stopwords is already up-to-date!\n"
     ]
    },
    {
     "data": {
      "text/plain": [
       "True"
      ]
     },
     "execution_count": 386,
     "metadata": {},
     "output_type": "execute_result"
    }
   ],
   "source": [
    "# dictionaries, to be used in spliting the words and removing the stop words like \"a, the, ...\"\n",
    "nltk.download(\"punkt\")\n",
    "nltk.download(\"stopwords\")"
   ]
  },
  {
   "cell_type": "markdown",
   "metadata": {},
   "source": [
    "And then, we will get the stopwords,\n",
    "\n",
    "and we will make new object, which is from stemmer class.\n",
    "\n",
    "which makes redundancy between two different form of words lower,\n",
    "\n",
    "like beauty and beautiful being merged into \"beaut\"."
   ]
  },
  {
   "cell_type": "code",
   "execution_count": 387,
   "metadata": {
    "collapsed": true
   },
   "outputs": [],
   "source": [
    "# stop word set and the stemmer object,\n",
    "\n",
    "stopword_set = set(stopwords.words('english'))\n",
    "stemmer = LancasterStemmer()"
   ]
  },
  {
   "cell_type": "markdown",
   "metadata": {},
   "source": [
    "### Problem10.\n",
    "\n",
    "Now, we need to load files.\n",
    "\n",
    "Each file names are formatted like \"_user_ _ _id_._gender_._age_._fields_._constellation_.xml\".\n",
    "\n",
    "Fill each blanks, and make expected format shown below.\n",
    "\n",
    "(For the age field, we will mark teenager as 1, otherwise 0)\n",
    "\n",
    "__Notice.__ _Because the data is not valid XML format (e.g. include '&' character), don't use XML parser._"
   ]
  },
  {
   "cell_type": "markdown",
   "metadata": {},
   "source": [
    "김범수 조교님 말씀에 따라 age 정확히 분류하는지 확인"
   ]
  },
  {
   "cell_type": "code",
   "execution_count": 404,
   "metadata": {
    "collapsed": false
   },
   "outputs": [
    {
     "name": "stdout",
     "output_type": "stream",
     "text": [
      "{'constellation': 'Scorpio', 'gender': 'male', 'age': 0, 'user_id': '5114', 'fields': 'indUnk'}\n",
      "{'constellation': 'Aquarius', 'gender': 'male', 'age': 1, 'user_id': '202334', 'fields': 'indUnk'}\n"
     ]
    }
   ],
   "source": [
    "import glob\n",
    "\n",
    "def parse_test(file_path):\n",
    "    a = glob.glob(file_path)\n",
    "\n",
    "    a = a[0].split('\\\\')\n",
    "    a = a[1].split('.')\n",
    "\n",
    "    test=dict()\n",
    "    file_info_dict=dict()\n",
    "    test['user_id'] = a[0]    \n",
    "    test['gender'] = a[1]\n",
    "    if int(a[2]) <20:\n",
    "        test['age']=1\n",
    "    else:\n",
    "        test['age']=0\n",
    "    test['fields'] = a[3]\n",
    "    test['constellation']=a[4]\n",
    "    \n",
    "    file_info_dict = test\n",
    "    return file_info_dict\n",
    "\n",
    "a = \"C:/data/blogs\\\\5114.male.25.indUnk.Scorpio.xml\"\n",
    "b = \"C:/data/blogs\\\\202334.male.17.indUnk.Aquarius.xml\"\n",
    "\n",
    "print parse_test(a)\n",
    "print parse_test(b)\n"
   ]
  },
  {
   "cell_type": "code",
   "execution_count": 400,
   "metadata": {
    "collapsed": false
   },
   "outputs": [],
   "source": [
    "def parse_user_info(file_path):\n",
    "    \n",
    "    ################ your code here #################\n",
    "    \"\"\"\n",
    "    From the file_path,\n",
    "    \n",
    "    extract each records,\n",
    "    \n",
    "    and return dictionary,\n",
    "    \n",
    "    which contains each records,\n",
    "    \n",
    "    user_id, gender, age, fields, constellation\n",
    "    \n",
    "    (WARN: \"age\" column should be labelled with 1, 0,\n",
    "    \n",
    "    which represents the user is teenager or not.)\n",
    "    \"\"\"\n",
    "    ####################################################\n",
    "    import glob\n",
    "    a = glob.glob(file_path)\n",
    "\n",
    "    a = a[0].split('\\\\')\n",
    "    a = a[1].split('.')\n",
    "    test=dict()\n",
    "    file_info_dict=dict()\n",
    "    test['user_id'] = a[0]    \n",
    "    test['gender'] = a[1]\n",
    "    if int(a[2]) <20:\n",
    "        test['age']=1\n",
    "    else:\n",
    "        test['age']=0\n",
    "    test['fields'] = a[3]\n",
    "    test['constellation']=a[4]\n",
    "    file_info_dict = test\n",
    "    return file_info_dict\n",
    "        \n",
    "def parse_file(file_path):\n",
    "    # parse user_info from file_path string\n",
    "    user_info = parse_user_info(file_path)\n",
    "    \n",
    "    f = open(file_path, \"r\")\n",
    "    tmp_str = \"\"\n",
    "    for l in f:\n",
    "        tmp_str += l.strip()\n",
    "    f.close()\n",
    "    \n",
    "    ################ your code here #################\n",
    "    \"\"\"\n",
    "    Get only post section from \"tmp_str\"\n",
    "    \n",
    "    Hint: use re package to parse the string.\n",
    "    \n",
    "    wr_tmp_str contains all of the post data.\n",
    "    \"\"\"\n",
    "    ####################################################\n",
    "    soup = BeautifulSoup(tmp_str)\n",
    "    post_lst = soup.findAll('post')\n",
    "    \n",
    "    test = re.sub(\"<post>\", \"\", str(post_lst))\n",
    "    test = re.sub(\"</post>\",\"\",test)\n",
    "   \n",
    "    wr_tmp_str = test\n",
    "    \n",
    "    # merge post text\n",
    "    \n",
    "    user_info['post'] = wr_tmp_str.decode('utf-8', errors = \"replace\")\n",
    "    \n",
    "    return user_info\n",
    "\n",
    "def load_data(file_path_pattern, ratio=1.):\n",
    "    import glob\n",
    "    file_paths = glob.glob(file_path_pattern)\n",
    "    file_cnt = int(len(file_paths) * ratio)\n",
    "    \n",
    "    data = list()\n",
    "    cnt = 0\n",
    "    for file_path in file_paths[:file_cnt]:\n",
    "        user_data = parse_file(file_path)\n",
    "        data.append(user_data)\n",
    "        \n",
    "        cnt += 1\n",
    "        if cnt % 1000 == 0:\n",
    "            print cnt,'/',file_cnt\n",
    "    \n",
    "    return data"
   ]
  },
  {
   "cell_type": "code",
   "execution_count": 401,
   "metadata": {
    "collapsed": false
   },
   "outputs": [
    {
     "name": "stdout",
     "output_type": "stream",
     "text": [
      "1000 / 1932\n"
     ]
    },
    {
     "data": {
      "text/html": [
       "<div>\n",
       "<table border=\"1\" class=\"dataframe\">\n",
       "  <thead>\n",
       "    <tr style=\"text-align: right;\">\n",
       "      <th></th>\n",
       "      <th>age</th>\n",
       "      <th>constellation</th>\n",
       "      <th>fields</th>\n",
       "      <th>gender</th>\n",
       "      <th>post</th>\n",
       "      <th>user_id</th>\n",
       "    </tr>\n",
       "  </thead>\n",
       "  <tbody>\n",
       "    <tr>\n",
       "      <th>0</th>\n",
       "      <td>0</td>\n",
       "      <td>Leo</td>\n",
       "      <td>indUnk</td>\n",
       "      <td>female</td>\n",
       "      <td>[Well, everyone got up and going this morning....</td>\n",
       "      <td>1000331</td>\n",
       "    </tr>\n",
       "    <tr>\n",
       "      <th>1</th>\n",
       "      <td>1</td>\n",
       "      <td>Libra</td>\n",
       "      <td>Student</td>\n",
       "      <td>female</td>\n",
       "      <td>[Yeah, sorry for not writing for a whole there...</td>\n",
       "      <td>1000866</td>\n",
       "    </tr>\n",
       "    <tr>\n",
       "      <th>2</th>\n",
       "      <td>0</td>\n",
       "      <td>Capricorn</td>\n",
       "      <td>Arts</td>\n",
       "      <td>male</td>\n",
       "      <td>[cupid,please hear my cry, cupid, please let y...</td>\n",
       "      <td>1004904</td>\n",
       "    </tr>\n",
       "    <tr>\n",
       "      <th>3</th>\n",
       "      <td>0</td>\n",
       "      <td>Cancer</td>\n",
       "      <td>Arts</td>\n",
       "      <td>female</td>\n",
       "      <td>[and did i mention that i no longer have to de...</td>\n",
       "      <td>1005076</td>\n",
       "    </tr>\n",
       "    <tr>\n",
       "      <th>4</th>\n",
       "      <td>0</td>\n",
       "      <td>Sagittarius</td>\n",
       "      <td>Engineering</td>\n",
       "      <td>male</td>\n",
       "      <td>[B-Logs: The Business Blogs Paradox    urlLink...</td>\n",
       "      <td>1005545</td>\n",
       "    </tr>\n",
       "    <tr>\n",
       "      <th>5</th>\n",
       "      <td>0</td>\n",
       "      <td>Libra</td>\n",
       "      <td>Religion</td>\n",
       "      <td>male</td>\n",
       "      <td>[1/03 DrKioni.com Awarded ByRegion.net Healers...</td>\n",
       "      <td>1007188</td>\n",
       "    </tr>\n",
       "    <tr>\n",
       "      <th>6</th>\n",
       "      <td>0</td>\n",
       "      <td>Aries</td>\n",
       "      <td>Architecture</td>\n",
       "      <td>female</td>\n",
       "      <td>[Friday    My dear wife was walking on her gra...</td>\n",
       "      <td>100812</td>\n",
       "    </tr>\n",
       "    <tr>\n",
       "      <th>7</th>\n",
       "      <td>1</td>\n",
       "      <td>Pisces</td>\n",
       "      <td>Student</td>\n",
       "      <td>female</td>\n",
       "      <td>[Sorry, but I gotta..I couldn't remember the w...</td>\n",
       "      <td>1008329</td>\n",
       "    </tr>\n",
       "    <tr>\n",
       "      <th>8</th>\n",
       "      <td>0</td>\n",
       "      <td>Cancer</td>\n",
       "      <td>indUnk</td>\n",
       "      <td>male</td>\n",
       "      <td>[Planning the Marathon   I checked Active.com,...</td>\n",
       "      <td>1009572</td>\n",
       "    </tr>\n",
       "    <tr>\n",
       "      <th>9</th>\n",
       "      <td>0</td>\n",
       "      <td>Virgo</td>\n",
       "      <td>Technology</td>\n",
       "      <td>female</td>\n",
       "      <td>[The astute among you will note that this run ...</td>\n",
       "      <td>1011153</td>\n",
       "    </tr>\n",
       "    <tr>\n",
       "      <th>10</th>\n",
       "      <td>0</td>\n",
       "      <td>Libra</td>\n",
       "      <td>indUnk</td>\n",
       "      <td>female</td>\n",
       "      <td>[MSN conversation: 11.17am   Iggbalbollywall  ...</td>\n",
       "      <td>1011289</td>\n",
       "    </tr>\n",
       "    <tr>\n",
       "      <th>11</th>\n",
       "      <td>1</td>\n",
       "      <td>Scorpio</td>\n",
       "      <td>indUnk</td>\n",
       "      <td>female</td>\n",
       "      <td>[Hey!!! Tonight kids, I saw Harry Potter and t...</td>\n",
       "      <td>1011311</td>\n",
       "    </tr>\n",
       "    <tr>\n",
       "      <th>12</th>\n",
       "      <td>1</td>\n",
       "      <td>Virgo</td>\n",
       "      <td>RealEstate</td>\n",
       "      <td>male</td>\n",
       "      <td>[Hey you clowns and kids with Down's. Sorry I ...</td>\n",
       "      <td>1013637</td>\n",
       "    </tr>\n",
       "    <tr>\n",
       "      <th>13</th>\n",
       "      <td>0</td>\n",
       "      <td>Pisces</td>\n",
       "      <td>indUnk</td>\n",
       "      <td>female</td>\n",
       "      <td>[aint no such things as halfway crooks.   this...</td>\n",
       "      <td>1015252</td>\n",
       "    </tr>\n",
       "    <tr>\n",
       "      <th>14</th>\n",
       "      <td>0</td>\n",
       "      <td>Virgo</td>\n",
       "      <td>Technology</td>\n",
       "      <td>male</td>\n",
       "      <td>[well, the retreat was a success, i think. at ...</td>\n",
       "      <td>1015556</td>\n",
       "    </tr>\n",
       "    <tr>\n",
       "      <th>15</th>\n",
       "      <td>0</td>\n",
       "      <td>Sagittarius</td>\n",
       "      <td>Publishing</td>\n",
       "      <td>male</td>\n",
       "      <td>[In his  urlLink February 14, 2003 post  Ray M...</td>\n",
       "      <td>1016560</td>\n",
       "    </tr>\n",
       "    <tr>\n",
       "      <th>16</th>\n",
       "      <td>0</td>\n",
       "      <td>Libra</td>\n",
       "      <td>Publishing</td>\n",
       "      <td>male</td>\n",
       "      <td>[as astute followers of the  urlLink Assistant...</td>\n",
       "      <td>1016738</td>\n",
       "    </tr>\n",
       "    <tr>\n",
       "      <th>17</th>\n",
       "      <td>0</td>\n",
       "      <td>Leo</td>\n",
       "      <td>Communications-Media</td>\n",
       "      <td>female</td>\n",
       "      <td>[You love me... I have you here by my side... ...</td>\n",
       "      <td>1016787</td>\n",
       "    </tr>\n",
       "    <tr>\n",
       "      <th>18</th>\n",
       "      <td>0</td>\n",
       "      <td>Libra</td>\n",
       "      <td>RealEstate</td>\n",
       "      <td>female</td>\n",
       "      <td>[Dear Susan,     You are a fat Wombat... I hat...</td>\n",
       "      <td>1019224</td>\n",
       "    </tr>\n",
       "    <tr>\n",
       "      <th>19</th>\n",
       "      <td>0</td>\n",
       "      <td>Aquarius</td>\n",
       "      <td>indUnk</td>\n",
       "      <td>female</td>\n",
       "      <td>[yay! it changed! :) i think i get it now. you...</td>\n",
       "      <td>1019622</td>\n",
       "    </tr>\n",
       "    <tr>\n",
       "      <th>20</th>\n",
       "      <td>1</td>\n",
       "      <td>Pisces</td>\n",
       "      <td>Student</td>\n",
       "      <td>male</td>\n",
       "      <td>[Yes i survived not eating for 24 hours, I am ...</td>\n",
       "      <td>1019710</td>\n",
       "    </tr>\n",
       "    <tr>\n",
       "      <th>21</th>\n",
       "      <td>0</td>\n",
       "      <td>Scorpio</td>\n",
       "      <td>indUnk</td>\n",
       "      <td>female</td>\n",
       "      <td>[IN THE SPACESHIP, THE SILVER SPACESHIP�  I fo...</td>\n",
       "      <td>1021779</td>\n",
       "    </tr>\n",
       "    <tr>\n",
       "      <th>22</th>\n",
       "      <td>0</td>\n",
       "      <td>Cancer</td>\n",
       "      <td>indUnk</td>\n",
       "      <td>male</td>\n",
       "      <td>[Aaaaaahhhh....... mornings! know that it is s...</td>\n",
       "      <td>1022037</td>\n",
       "    </tr>\n",
       "    <tr>\n",
       "      <th>23</th>\n",
       "      <td>1</td>\n",
       "      <td>Cancer</td>\n",
       "      <td>Student</td>\n",
       "      <td>female</td>\n",
       "      <td>[All right, I officially live in THE nut house...</td>\n",
       "      <td>1022086</td>\n",
       "    </tr>\n",
       "    <tr>\n",
       "      <th>24</th>\n",
       "      <td>1</td>\n",
       "      <td>Libra</td>\n",
       "      <td>indUnk</td>\n",
       "      <td>female</td>\n",
       "      <td>[wait...now dat i think about it...dat GBC thi...</td>\n",
       "      <td>1024234</td>\n",
       "    </tr>\n",
       "    <tr>\n",
       "      <th>25</th>\n",
       "      <td>1</td>\n",
       "      <td>Gemini</td>\n",
       "      <td>Student</td>\n",
       "      <td>female</td>\n",
       "      <td>[Lily's Lullaby- Part SIX  It was cold that ev...</td>\n",
       "      <td>1025783</td>\n",
       "    </tr>\n",
       "    <tr>\n",
       "      <th>26</th>\n",
       "      <td>0</td>\n",
       "      <td>Aries</td>\n",
       "      <td>Education</td>\n",
       "      <td>female</td>\n",
       "      <td>[I've posted a new test on my AIM profile...yo...</td>\n",
       "      <td>1026164</td>\n",
       "    </tr>\n",
       "    <tr>\n",
       "      <th>27</th>\n",
       "      <td>1</td>\n",
       "      <td>Scorpio</td>\n",
       "      <td>Student</td>\n",
       "      <td>female</td>\n",
       "      <td>[Hello hello hello again. It's lovely to speak...</td>\n",
       "      <td>1026443</td>\n",
       "    </tr>\n",
       "    <tr>\n",
       "      <th>28</th>\n",
       "      <td>1</td>\n",
       "      <td>Libra</td>\n",
       "      <td>indUnk</td>\n",
       "      <td>female</td>\n",
       "      <td>[OK here goes nothing, I'm starting over. My o...</td>\n",
       "      <td>1028027</td>\n",
       "    </tr>\n",
       "    <tr>\n",
       "      <th>29</th>\n",
       "      <td>0</td>\n",
       "      <td>Aries</td>\n",
       "      <td>Education</td>\n",
       "      <td>male</td>\n",
       "      <td>[Wednesday of this week, my wife Elizabeth and...</td>\n",
       "      <td>1028257</td>\n",
       "    </tr>\n",
       "    <tr>\n",
       "      <th>...</th>\n",
       "      <td>...</td>\n",
       "      <td>...</td>\n",
       "      <td>...</td>\n",
       "      <td>...</td>\n",
       "      <td>...</td>\n",
       "      <td>...</td>\n",
       "    </tr>\n",
       "    <tr>\n",
       "      <th>1902</th>\n",
       "      <td>0</td>\n",
       "      <td>Scorpio</td>\n",
       "      <td>indUnk</td>\n",
       "      <td>female</td>\n",
       "      <td>[When I think of nursery school, I think of th...</td>\n",
       "      <td>2568090</td>\n",
       "    </tr>\n",
       "    <tr>\n",
       "      <th>1903</th>\n",
       "      <td>1</td>\n",
       "      <td>Virgo</td>\n",
       "      <td>indUnk</td>\n",
       "      <td>female</td>\n",
       "      <td>[well i wrote this long elaborate entry this m...</td>\n",
       "      <td>2569244</td>\n",
       "    </tr>\n",
       "    <tr>\n",
       "      <th>1904</th>\n",
       "      <td>1</td>\n",
       "      <td>Libra</td>\n",
       "      <td>Student</td>\n",
       "      <td>female</td>\n",
       "      <td>[Hey...right now i'm babysitting for my cousin...</td>\n",
       "      <td>2571579</td>\n",
       "    </tr>\n",
       "    <tr>\n",
       "      <th>1905</th>\n",
       "      <td>0</td>\n",
       "      <td>Capricorn</td>\n",
       "      <td>Education</td>\n",
       "      <td>male</td>\n",
       "      <td>[Ang mga baliw may pagamutan......ang mga tang...</td>\n",
       "      <td>2572049</td>\n",
       "    </tr>\n",
       "    <tr>\n",
       "      <th>1906</th>\n",
       "      <td>1</td>\n",
       "      <td>Virgo</td>\n",
       "      <td>Communications-Media</td>\n",
       "      <td>male</td>\n",
       "      <td>[urlLink     Did You heard About The G-mail .....</td>\n",
       "      <td>2572215</td>\n",
       "    </tr>\n",
       "    <tr>\n",
       "      <th>1907</th>\n",
       "      <td>1</td>\n",
       "      <td>Sagittarius</td>\n",
       "      <td>indUnk</td>\n",
       "      <td>female</td>\n",
       "      <td>[my blog duznt work...=S...wen i click to see ...</td>\n",
       "      <td>2572900</td>\n",
       "    </tr>\n",
       "    <tr>\n",
       "      <th>1908</th>\n",
       "      <td>0</td>\n",
       "      <td>Aquarius</td>\n",
       "      <td>Technology</td>\n",
       "      <td>female</td>\n",
       "      <td>[Breakfast...Raisin bran w/ l% fat milk  Lunch...</td>\n",
       "      <td>2574489</td>\n",
       "    </tr>\n",
       "    <tr>\n",
       "      <th>1909</th>\n",
       "      <td>0</td>\n",
       "      <td>Pisces</td>\n",
       "      <td>Non-Profit</td>\n",
       "      <td>female</td>\n",
       "      <td>[tired...the whole day in school was spend in ...</td>\n",
       "      <td>2574746</td>\n",
       "    </tr>\n",
       "    <tr>\n",
       "      <th>1910</th>\n",
       "      <td>0</td>\n",
       "      <td>Taurus</td>\n",
       "      <td>Arts</td>\n",
       "      <td>female</td>\n",
       "      <td>[the gnomes are at it again.  the reckless cre...</td>\n",
       "      <td>2574778</td>\n",
       "    </tr>\n",
       "    <tr>\n",
       "      <th>1911</th>\n",
       "      <td>1</td>\n",
       "      <td>Gemini</td>\n",
       "      <td>Student</td>\n",
       "      <td>male</td>\n",
       "      <td>[It's New Years Eve and I'm full of empty prom...</td>\n",
       "      <td>2575612</td>\n",
       "    </tr>\n",
       "    <tr>\n",
       "      <th>1912</th>\n",
       "      <td>0</td>\n",
       "      <td>Sagittarius</td>\n",
       "      <td>Marketing</td>\n",
       "      <td>female</td>\n",
       "      <td>[So this is my first ever blog and I am pretty...</td>\n",
       "      <td>2575640</td>\n",
       "    </tr>\n",
       "    <tr>\n",
       "      <th>1913</th>\n",
       "      <td>0</td>\n",
       "      <td>Gemini</td>\n",
       "      <td>indUnk</td>\n",
       "      <td>female</td>\n",
       "      <td>[\"An orange on the table, your dress on the ru...</td>\n",
       "      <td>2575852</td>\n",
       "    </tr>\n",
       "    <tr>\n",
       "      <th>1914</th>\n",
       "      <td>0</td>\n",
       "      <td>Virgo</td>\n",
       "      <td>Education</td>\n",
       "      <td>male</td>\n",
       "      <td>[In her latest entry,  urlLink sassy  talks ab...</td>\n",
       "      <td>2576386</td>\n",
       "    </tr>\n",
       "    <tr>\n",
       "      <th>1915</th>\n",
       "      <td>1</td>\n",
       "      <td>Cancer</td>\n",
       "      <td>Student</td>\n",
       "      <td>female</td>\n",
       "      <td>[Here it is.. the last day of 2003.   Where th...</td>\n",
       "      <td>2576645</td>\n",
       "    </tr>\n",
       "    <tr>\n",
       "      <th>1916</th>\n",
       "      <td>0</td>\n",
       "      <td>Scorpio</td>\n",
       "      <td>Internet</td>\n",
       "      <td>female</td>\n",
       "      <td>[I am not impress when I said I want a XDA O2 ...</td>\n",
       "      <td>2576804</td>\n",
       "    </tr>\n",
       "    <tr>\n",
       "      <th>1917</th>\n",
       "      <td>0</td>\n",
       "      <td>Sagittarius</td>\n",
       "      <td>indUnk</td>\n",
       "      <td>female</td>\n",
       "      <td>[i was so bored at work, i imed Steve and wait...</td>\n",
       "      <td>2577859</td>\n",
       "    </tr>\n",
       "    <tr>\n",
       "      <th>1918</th>\n",
       "      <td>1</td>\n",
       "      <td>Capricorn</td>\n",
       "      <td>Student</td>\n",
       "      <td>female</td>\n",
       "      <td>[i had to lyk redo my blog? had one in diaryla...</td>\n",
       "      <td>2578102</td>\n",
       "    </tr>\n",
       "    <tr>\n",
       "      <th>1919</th>\n",
       "      <td>0</td>\n",
       "      <td>Aquarius</td>\n",
       "      <td>indUnk</td>\n",
       "      <td>male</td>\n",
       "      <td>[today the last day of the year and everything...</td>\n",
       "      <td>2579349</td>\n",
       "    </tr>\n",
       "    <tr>\n",
       "      <th>1920</th>\n",
       "      <td>0</td>\n",
       "      <td>Capricorn</td>\n",
       "      <td>Arts</td>\n",
       "      <td>female</td>\n",
       "      <td>[The Official Bon Jovi Site -  urlLink http://...</td>\n",
       "      <td>2579472</td>\n",
       "    </tr>\n",
       "    <tr>\n",
       "      <th>1921</th>\n",
       "      <td>0</td>\n",
       "      <td>Scorpio</td>\n",
       "      <td>Technology</td>\n",
       "      <td>male</td>\n",
       "      <td>[Bheegi Hui Koi - Chameli, Mere Khwabon mein j...</td>\n",
       "      <td>2580350</td>\n",
       "    </tr>\n",
       "    <tr>\n",
       "      <th>1922</th>\n",
       "      <td>1</td>\n",
       "      <td>Taurus</td>\n",
       "      <td>indUnk</td>\n",
       "      <td>female</td>\n",
       "      <td>[Oh, I'm so relieved. And happy. My birthday w...</td>\n",
       "      <td>2580846</td>\n",
       "    </tr>\n",
       "    <tr>\n",
       "      <th>1923</th>\n",
       "      <td>0</td>\n",
       "      <td>Capricorn</td>\n",
       "      <td>indUnk</td>\n",
       "      <td>female</td>\n",
       "      <td>[I wrote these yesterday for work but thought ...</td>\n",
       "      <td>2581156</td>\n",
       "    </tr>\n",
       "    <tr>\n",
       "      <th>1924</th>\n",
       "      <td>0</td>\n",
       "      <td>Pisces</td>\n",
       "      <td>Student</td>\n",
       "      <td>female</td>\n",
       "      <td>[There's  Gary .  he drinks just regular coffe...</td>\n",
       "      <td>2581469</td>\n",
       "    </tr>\n",
       "    <tr>\n",
       "      <th>1925</th>\n",
       "      <td>0</td>\n",
       "      <td>Sagittarius</td>\n",
       "      <td>Non-Profit</td>\n",
       "      <td>female</td>\n",
       "      <td>[and so it begins...  How exciting!  Very firs...</td>\n",
       "      <td>2581616</td>\n",
       "    </tr>\n",
       "    <tr>\n",
       "      <th>1926</th>\n",
       "      <td>0</td>\n",
       "      <td>Sagittarius</td>\n",
       "      <td>indUnk</td>\n",
       "      <td>female</td>\n",
       "      <td>[\"Don't look at me, that's misleading. If you ...</td>\n",
       "      <td>2581876</td>\n",
       "    </tr>\n",
       "    <tr>\n",
       "      <th>1927</th>\n",
       "      <td>0</td>\n",
       "      <td>Taurus</td>\n",
       "      <td>Arts</td>\n",
       "      <td>male</td>\n",
       "      <td>[Until now, I haven't been able to think.  I s...</td>\n",
       "      <td>2582199</td>\n",
       "    </tr>\n",
       "    <tr>\n",
       "      <th>1928</th>\n",
       "      <td>0</td>\n",
       "      <td>Leo</td>\n",
       "      <td>Architecture</td>\n",
       "      <td>female</td>\n",
       "      <td>[well. im trying out a new blog.. so u could c...</td>\n",
       "      <td>2583594</td>\n",
       "    </tr>\n",
       "    <tr>\n",
       "      <th>1929</th>\n",
       "      <td>0</td>\n",
       "      <td>Libra</td>\n",
       "      <td>Communications-Media</td>\n",
       "      <td>female</td>\n",
       "      <td>[urlLink    Don't ask., urlLink    What are we...</td>\n",
       "      <td>258556</td>\n",
       "    </tr>\n",
       "    <tr>\n",
       "      <th>1930</th>\n",
       "      <td>0</td>\n",
       "      <td>Sagittarius</td>\n",
       "      <td>Technology</td>\n",
       "      <td>female</td>\n",
       "      <td>[First day on this new experiment of mine. I'm...</td>\n",
       "      <td>2585594</td>\n",
       "    </tr>\n",
       "    <tr>\n",
       "      <th>1931</th>\n",
       "      <td>1</td>\n",
       "      <td>Libra</td>\n",
       "      <td>indUnk</td>\n",
       "      <td>male</td>\n",
       "      <td>[urlLink    So I like the environment, give me...</td>\n",
       "      <td>2585707</td>\n",
       "    </tr>\n",
       "  </tbody>\n",
       "</table>\n",
       "<p>1932 rows × 6 columns</p>\n",
       "</div>"
      ],
      "text/plain": [
       "      age constellation                fields  gender  \\\n",
       "0       0           Leo                indUnk  female   \n",
       "1       1         Libra               Student  female   \n",
       "2       0     Capricorn                  Arts    male   \n",
       "3       0        Cancer                  Arts  female   \n",
       "4       0   Sagittarius           Engineering    male   \n",
       "5       0         Libra              Religion    male   \n",
       "6       0         Aries          Architecture  female   \n",
       "7       1        Pisces               Student  female   \n",
       "8       0        Cancer                indUnk    male   \n",
       "9       0         Virgo            Technology  female   \n",
       "10      0         Libra                indUnk  female   \n",
       "11      1       Scorpio                indUnk  female   \n",
       "12      1         Virgo            RealEstate    male   \n",
       "13      0        Pisces                indUnk  female   \n",
       "14      0         Virgo            Technology    male   \n",
       "15      0   Sagittarius            Publishing    male   \n",
       "16      0         Libra            Publishing    male   \n",
       "17      0           Leo  Communications-Media  female   \n",
       "18      0         Libra            RealEstate  female   \n",
       "19      0      Aquarius                indUnk  female   \n",
       "20      1        Pisces               Student    male   \n",
       "21      0       Scorpio                indUnk  female   \n",
       "22      0        Cancer                indUnk    male   \n",
       "23      1        Cancer               Student  female   \n",
       "24      1         Libra                indUnk  female   \n",
       "25      1        Gemini               Student  female   \n",
       "26      0         Aries             Education  female   \n",
       "27      1       Scorpio               Student  female   \n",
       "28      1         Libra                indUnk  female   \n",
       "29      0         Aries             Education    male   \n",
       "...   ...           ...                   ...     ...   \n",
       "1902    0       Scorpio                indUnk  female   \n",
       "1903    1         Virgo                indUnk  female   \n",
       "1904    1         Libra               Student  female   \n",
       "1905    0     Capricorn             Education    male   \n",
       "1906    1         Virgo  Communications-Media    male   \n",
       "1907    1   Sagittarius                indUnk  female   \n",
       "1908    0      Aquarius            Technology  female   \n",
       "1909    0        Pisces            Non-Profit  female   \n",
       "1910    0        Taurus                  Arts  female   \n",
       "1911    1        Gemini               Student    male   \n",
       "1912    0   Sagittarius             Marketing  female   \n",
       "1913    0        Gemini                indUnk  female   \n",
       "1914    0         Virgo             Education    male   \n",
       "1915    1        Cancer               Student  female   \n",
       "1916    0       Scorpio              Internet  female   \n",
       "1917    0   Sagittarius                indUnk  female   \n",
       "1918    1     Capricorn               Student  female   \n",
       "1919    0      Aquarius                indUnk    male   \n",
       "1920    0     Capricorn                  Arts  female   \n",
       "1921    0       Scorpio            Technology    male   \n",
       "1922    1        Taurus                indUnk  female   \n",
       "1923    0     Capricorn                indUnk  female   \n",
       "1924    0        Pisces               Student  female   \n",
       "1925    0   Sagittarius            Non-Profit  female   \n",
       "1926    0   Sagittarius                indUnk  female   \n",
       "1927    0        Taurus                  Arts    male   \n",
       "1928    0           Leo          Architecture  female   \n",
       "1929    0         Libra  Communications-Media  female   \n",
       "1930    0   Sagittarius            Technology  female   \n",
       "1931    1         Libra                indUnk    male   \n",
       "\n",
       "                                                   post  user_id  \n",
       "0     [Well, everyone got up and going this morning....  1000331  \n",
       "1     [Yeah, sorry for not writing for a whole there...  1000866  \n",
       "2     [cupid,please hear my cry, cupid, please let y...  1004904  \n",
       "3     [and did i mention that i no longer have to de...  1005076  \n",
       "4     [B-Logs: The Business Blogs Paradox    urlLink...  1005545  \n",
       "5     [1/03 DrKioni.com Awarded ByRegion.net Healers...  1007188  \n",
       "6     [Friday    My dear wife was walking on her gra...   100812  \n",
       "7     [Sorry, but I gotta..I couldn't remember the w...  1008329  \n",
       "8     [Planning the Marathon   I checked Active.com,...  1009572  \n",
       "9     [The astute among you will note that this run ...  1011153  \n",
       "10    [MSN conversation: 11.17am   Iggbalbollywall  ...  1011289  \n",
       "11    [Hey!!! Tonight kids, I saw Harry Potter and t...  1011311  \n",
       "12    [Hey you clowns and kids with Down's. Sorry I ...  1013637  \n",
       "13    [aint no such things as halfway crooks.   this...  1015252  \n",
       "14    [well, the retreat was a success, i think. at ...  1015556  \n",
       "15    [In his  urlLink February 14, 2003 post  Ray M...  1016560  \n",
       "16    [as astute followers of the  urlLink Assistant...  1016738  \n",
       "17    [You love me... I have you here by my side... ...  1016787  \n",
       "18    [Dear Susan,     You are a fat Wombat... I hat...  1019224  \n",
       "19    [yay! it changed! :) i think i get it now. you...  1019622  \n",
       "20    [Yes i survived not eating for 24 hours, I am ...  1019710  \n",
       "21    [IN THE SPACESHIP, THE SILVER SPACESHIP�  I fo...  1021779  \n",
       "22    [Aaaaaahhhh....... mornings! know that it is s...  1022037  \n",
       "23    [All right, I officially live in THE nut house...  1022086  \n",
       "24    [wait...now dat i think about it...dat GBC thi...  1024234  \n",
       "25    [Lily's Lullaby- Part SIX  It was cold that ev...  1025783  \n",
       "26    [I've posted a new test on my AIM profile...yo...  1026164  \n",
       "27    [Hello hello hello again. It's lovely to speak...  1026443  \n",
       "28    [OK here goes nothing, I'm starting over. My o...  1028027  \n",
       "29    [Wednesday of this week, my wife Elizabeth and...  1028257  \n",
       "...                                                 ...      ...  \n",
       "1902  [When I think of nursery school, I think of th...  2568090  \n",
       "1903  [well i wrote this long elaborate entry this m...  2569244  \n",
       "1904  [Hey...right now i'm babysitting for my cousin...  2571579  \n",
       "1905  [Ang mga baliw may pagamutan......ang mga tang...  2572049  \n",
       "1906  [urlLink     Did You heard About The G-mail .....  2572215  \n",
       "1907  [my blog duznt work...=S...wen i click to see ...  2572900  \n",
       "1908  [Breakfast...Raisin bran w/ l% fat milk  Lunch...  2574489  \n",
       "1909  [tired...the whole day in school was spend in ...  2574746  \n",
       "1910  [the gnomes are at it again.  the reckless cre...  2574778  \n",
       "1911  [It's New Years Eve and I'm full of empty prom...  2575612  \n",
       "1912  [So this is my first ever blog and I am pretty...  2575640  \n",
       "1913  [\"An orange on the table, your dress on the ru...  2575852  \n",
       "1914  [In her latest entry,  urlLink sassy  talks ab...  2576386  \n",
       "1915  [Here it is.. the last day of 2003.   Where th...  2576645  \n",
       "1916  [I am not impress when I said I want a XDA O2 ...  2576804  \n",
       "1917  [i was so bored at work, i imed Steve and wait...  2577859  \n",
       "1918  [i had to lyk redo my blog? had one in diaryla...  2578102  \n",
       "1919  [today the last day of the year and everything...  2579349  \n",
       "1920  [The Official Bon Jovi Site -  urlLink http://...  2579472  \n",
       "1921  [Bheegi Hui Koi - Chameli, Mere Khwabon mein j...  2580350  \n",
       "1922  [Oh, I'm so relieved. And happy. My birthday w...  2580846  \n",
       "1923  [I wrote these yesterday for work but thought ...  2581156  \n",
       "1924  [There's  Gary .  he drinks just regular coffe...  2581469  \n",
       "1925  [and so it begins...  How exciting!  Very firs...  2581616  \n",
       "1926  [\"Don't look at me, that's misleading. If you ...  2581876  \n",
       "1927  [Until now, I haven't been able to think.  I s...  2582199  \n",
       "1928  [well. im trying out a new blog.. so u could c...  2583594  \n",
       "1929  [urlLink    Don't ask., urlLink    What are we...   258556  \n",
       "1930  [First day on this new experiment of mine. I'm...  2585594  \n",
       "1931  [urlLink    So I like the environment, give me...  2585707  \n",
       "\n",
       "[1932 rows x 6 columns]"
      ]
     },
     "execution_count": 401,
     "metadata": {},
     "output_type": "execute_result"
    }
   ],
   "source": [
    "# test\n",
    "data = load_data(DATA_FILE_PATH_PATTERN, ratio=0.1)\n",
    "# Even with 16GB RAM, it was not enough to hold whole data,\n",
    "# so please use small data, but more than 10% of whole data.\n",
    "df = pd.DataFrame(data)\n",
    "df"
   ]
  },
  {
   "cell_type": "markdown",
   "metadata": {},
   "source": [
    "### Problem11.\n",
    "\n",
    "Now, we will split the data into three sets,\n",
    "\n",
    "train, cv, and test sets.\n",
    "\n",
    "Our goal is to predict whether the blogger is teenager or not.\n",
    "\n",
    "Please make split_dataset function.\n",
    "\n",
    "which returns (feature_train, feature_cv, feature_test, answer_train, answer_cv, answer_test)."
   ]
  },
  {
   "cell_type": "markdown",
   "metadata": {},
   "source": [
    "### data splitter"
   ]
  },
  {
   "cell_type": "code",
   "execution_count": 405,
   "metadata": {
    "collapsed": false
   },
   "outputs": [],
   "source": [
    "# Create Train, CV, Test\n",
    "def split_dataset(data, ratio=(.6, .2, .2), shuffle=False):\n",
    "    if sum(ratio) != 1.:\n",
    "        print \"Invalid data split ratio\", ratio\n",
    "        return\n",
    "    ################ your code here #################\n",
    "    \"\"\"\n",
    "    Add the condition whether shuffle the data or not.\n",
    "    \n",
    "    And then, split the data into train, validation, test set\n",
    "    \n",
    "    with given ratio.\n",
    "    \n",
    "    y values are from age column,\n",
    "    \n",
    "    and x values are from post column.\n",
    "    \"\"\"\n",
    "    ####################################################\n",
    "    x = data['post']\n",
    "    y = data['age']\n",
    "    \n",
    "    if (shuffle==False):\n",
    "        len_t = int(0.6*len(x))\n",
    "        len_c = int(0.8*len(x))\n",
    "\n",
    "        x_train = x[:len_t]\n",
    "        x_cv = x[len_t:len_c]\n",
    "        x_test = x[len_c:]\n",
    "        y_train = y[:len_t]\n",
    "        y_cv = y[len_t:len_c]\n",
    "        y_test = y[len_c:]\n",
    "    else:\n",
    "        a = range(len(x))\n",
    "        np.random.shuffle(a)\n",
    "        len_t = int(0.6*len(x))\n",
    "        len_c = int(0.8*len(x))\n",
    "        \n",
    "        len_t_s = a[:len_t]\n",
    "        len_c_s = a[len_t:len_c]\n",
    "        len_test_s = a[len_c:]\n",
    "        \n",
    "\n",
    "        x_train = x[len_t_s]\n",
    "        x_cv = x[len_c_s]\n",
    "        x_test = x[len_test_s]\n",
    "        y_train = y[len_t_s]\n",
    "        y_cv = y[len_c_s]\n",
    "        y_test = y[len_test_s]\n",
    "        \n",
    "    \n",
    "    return (x_train, x_cv, x_test, y_train, y_cv, y_test)"
   ]
  },
  {
   "cell_type": "code",
   "execution_count": 406,
   "metadata": {
    "collapsed": false
   },
   "outputs": [
    {
     "name": "stdout",
     "output_type": "stream",
     "text": [
      "Train set:  1159\n",
      "CV set    :  386\n",
      "Test set :  387\n"
     ]
    }
   ],
   "source": [
    "(x_train, x_cv, x_test, y_train, y_cv, y_test) = split_dataset(df)\n",
    "print \"Train set: \" , len(x_train)\n",
    "print \"CV set    : \", len(x_cv)\n",
    "print \"Test set : \", len(x_test)"
   ]
  },
  {
   "cell_type": "markdown",
   "metadata": {},
   "source": [
    "### Problem12.\n",
    "\n",
    "From the previous assignment,\n",
    "\n",
    "we learned what BOW(bag of words) is.\n",
    "\n",
    "Now, we will make BOW from the training set's post data.\n",
    "\n",
    "Please fill the marked blank."
   ]
  },
  {
   "cell_type": "markdown",
   "metadata": {},
   "source": [
    "### BOW"
   ]
  },
  {
   "cell_type": "code",
   "execution_count": 408,
   "metadata": {
    "collapsed": true
   },
   "outputs": [],
   "source": [
    "import operator"
   ]
  },
  {
   "cell_type": "code",
   "execution_count": 409,
   "metadata": {
    "collapsed": true
   },
   "outputs": [],
   "source": [
    "def get_bow_matrix(data, word_index=None, tf_mode=False):\n",
    "    # For Training set (with creating Word index)\n",
    "    if word_index == None:\n",
    "        return __get_bow_matrix_trains(data, tf_mode=tf_mode)\n",
    "    # for CV or Test set\n",
    "    else:\n",
    "        return __get_bow_matrix(data, word_index=word_index, tf_mode=tf_mode)"
   ]
  },
  {
   "cell_type": "code",
   "execution_count": 410,
   "metadata": {
    "collapsed": true
   },
   "outputs": [],
   "source": [
    "def __get_bow_matrix_trains(train_set, tf_mode):\n",
    "    bows = list()\n",
    "    \n",
    "    bows = [\n",
    "        __get_bow_dict(d, tf_mode=tf_mode)\n",
    "        for d in train_set\n",
    "    ]\n",
    "                \n",
    "    # Create word length dictionary\n",
    "    word_len = dict()\n",
    "    for bow in bows:\n",
    "        #bow of each post\n",
    "        for word in bow.keys():\n",
    "            if word not in word_len:\n",
    "                word_len[word] = 1\n",
    "            else:\n",
    "                word_len[word] += 1\n",
    "                \n",
    "    final_word_list = __get_word_list_by_cf(word_len,5000)\n",
    "    \n",
    "    # bow dict -> matrix\n",
    "    if tf_mode:\n",
    "        bow_matrix = np.zeros((len(bows), len(final_word_list)), dtype=np.uint16)\n",
    "    else:\n",
    "        bow_matrix = np.zeros((len(bows), len(final_word_list)), dtype=np.bool)\n",
    "    \n",
    "    for bow_idx in range(len(bows)):\n",
    "        bow = bows[bow_idx]\n",
    "        for w in bow:\n",
    "            if w in final_word_list:\n",
    "                bow_matrix[bow_idx, final_word_list.index(w)] = bow[w]\n",
    "            \n",
    "    return bow_matrix, final_word_list"
   ]
  },
  {
   "cell_type": "code",
   "execution_count": 411,
   "metadata": {
    "collapsed": true
   },
   "outputs": [],
   "source": [
    "# For Training set.\n",
    "def __get_bow_dict(text, word_index=None, tf_mode = False):\n",
    "    bow = dict()\n",
    "\n",
    "    for word in wordpunct_tokenize(text):\n",
    "        # if word is in stopword_set\n",
    "        # only accept fully alphabet\n",
    "        word = word.lower()\n",
    "        if word in stopword_set or not word.isalpha():\n",
    "            continue      \n",
    "            \n",
    "        stem = stemmer.stem(word)\n",
    "        if word_index is not None:\n",
    "            if word not in word_index:\n",
    "                continue\n",
    "                \n",
    "        \"\"\"\n",
    "        Create BOW dict\n",
    "        \"\"\"\n",
    "        # boolean mode (true or false)\n",
    "        if not tf_mode:\n",
    "            bow[stem] = 1\n",
    "        # Term Frequency Mode (bow[stem] = stemmed word occurance)\n",
    "        else:\n",
    "            if stem not in bow:\n",
    "                bow[stem] = 0\n",
    "            bow[stem] = bow[stem] + 1\n",
    "\n",
    "    return bow"
   ]
  },
  {
   "cell_type": "code",
   "execution_count": 412,
   "metadata": {
    "collapsed": true
   },
   "outputs": [],
   "source": [
    "# because the word list is too big, reduce word list, by collection frequency.\n",
    "def __get_word_list_by_cf(word_len_dict, k = 1000):\n",
    "    \n",
    "    \n",
    "    ################ your code here #################\n",
    "    \"\"\"\n",
    "    From the word_len_dict,\n",
    "    \n",
    "    please make frequency top k word list\n",
    "    \n",
    "    and return the list\n",
    "    \"\"\"\n",
    "    ####################################################\n",
    "    \n",
    "#    for key in word_len_dict:\n",
    "    word_tmp_lst=[]\n",
    "    word_tmp_lst = sorted(word_len_dict.iteritems(), key=operator.itemgetter(1), reverse=True)\n",
    "    top_k_word_list = []\n",
    "    for i in range(k):\n",
    "        top_k_word_list.append(str(word_tmp_lst[i][0]))\n",
    "    \n",
    "    return top_k_word_list\n",
    "    "
   ]
  },
  {
   "cell_type": "code",
   "execution_count": 413,
   "metadata": {
    "collapsed": true
   },
   "outputs": [],
   "source": [
    "def __get_bow_matrix(dataset, word_index, tf_mode):\n",
    "    if tf_mode:\n",
    "        matrix = np.zeros((len(dataset), len(word_index)), dtype=np.uint16)\n",
    "    else:\n",
    "        matrix = np.zeros((len(dataset), len(word_index)), dtype=np.bool)\n",
    "    \n",
    "    d_idx = 0\n",
    "    for data in dataset:\n",
    "        bow = __get_bow_dict(data, word_index, tf_mode)\n",
    "        for w in bow.keys():\n",
    "            if w in word_index:\n",
    "                matrix[d_idx, word_index.index(w)] = bow[w]\n",
    "        d_idx += 1\n",
    "    return matrix"
   ]
  },
  {
   "cell_type": "code",
   "execution_count": 414,
   "metadata": {
    "collapsed": false
   },
   "outputs": [
    {
     "name": "stdout",
     "output_type": "stream",
     "text": [
      "Elapsed Time:  8746.84700012\n"
     ]
    }
   ],
   "source": [
    "start_t = time.time()\n",
    "bow_matrix_train, word_index = get_bow_matrix(x_train, tf_mode=False)\n",
    "end_t = time.time()\n",
    "print \"Elapsed Time: \",  (end_t - start_t)"
   ]
  },
  {
   "cell_type": "code",
   "execution_count": 415,
   "metadata": {
    "collapsed": false
   },
   "outputs": [
    {
     "name": "stdout",
     "output_type": "stream",
     "text": [
      "Elapsed Time:  11570.25\n"
     ]
    }
   ],
   "source": [
    "start_t2 = time.time()\n",
    "bow_matrix_cv = get_bow_matrix(x_cv, word_index, tf_mode=False)\n",
    "end_t2 = time.time()\n",
    "print \"Elapsed Time: \",  (end_t2 - start_t2)"
   ]
  },
  {
   "cell_type": "code",
   "execution_count": 416,
   "metadata": {
    "collapsed": false
   },
   "outputs": [
    {
     "name": "stdout",
     "output_type": "stream",
     "text": [
      "Elapsed Time:  8608.67400002\n"
     ]
    }
   ],
   "source": [
    "start_t3 = time.time()\n",
    "bow_matrix_test = get_bow_matrix(x_test, word_index, tf_mode=False)\n",
    "end_t3 = time.time()\n",
    "print \"Elapsed Time: \",  (end_t3 - start_t3)"
   ]
  },
  {
   "cell_type": "markdown",
   "metadata": {},
   "source": [
    "### Problem13.\n",
    "\n",
    "Now, it's time to fit the model,\n",
    "\n",
    "and get the result.\n",
    "\n",
    "Please use your validation set to fit the model,\n",
    "\n",
    "and then predict the value of test set.\n",
    "\n",
    "Use sklearn.metrics.precision_recall_fscore_support method ([description](http://scikit-learn.org/stable/modules/generated/sklearn.metrics.precision_recall_fscore_support.html)),\n",
    "\n",
    "and use fscore as metric."
   ]
  },
  {
   "cell_type": "code",
   "execution_count": 417,
   "metadata": {
    "collapsed": false
   },
   "outputs": [
    {
     "name": "stdout",
     "output_type": "stream",
     "text": [
      "[ 0.87        0.54651163]\n"
     ]
    }
   ],
   "source": [
    "svc_model = SVC()\n",
    "\n",
    "###########################################################\n",
    "########## fit the model by svc model              ########\n",
    "########## and predict the value of validation set ########\n",
    "########## set the parameter,                      ########\n",
    "########## then predict the test set               ########\n",
    "###########################################################\n",
    "svc_model.fit(bow_matrix_train, y_train)\n",
    "pred_cv = svc_model.predict(bow_matrix_cv)\n",
    "prf = sklearn.metrics.precision_recall_fscore_support(y_cv, pred_cv)\n",
    "print prf[2]"
   ]
  },
  {
   "cell_type": "code",
   "execution_count": 418,
   "metadata": {
    "collapsed": false
   },
   "outputs": [
    {
     "name": "stdout",
     "output_type": "stream",
     "text": [
      "[ 0.8042328   0.46376812]\n"
     ]
    }
   ],
   "source": [
    "# print the prediction result of test set\n",
    "pred_test = svc_model.predict(bow_matrix_test)\n",
    "prf_test = sklearn.metrics.precision_recall_fscore_support(y_test, pred_test)\n",
    "print prf_test[2]"
   ]
  }
 ],
 "metadata": {
  "kernelspec": {
   "display_name": "Python 2",
   "language": "python",
   "name": "python2"
  },
  "language_info": {
   "codemirror_mode": {
    "name": "ipython",
    "version": 2
   },
   "file_extension": ".py",
   "mimetype": "text/x-python",
   "name": "python",
   "nbconvert_exporter": "python",
   "pygments_lexer": "ipython2",
   "version": "2.7.11"
  }
 },
 "nbformat": 4,
 "nbformat_minor": 0
}
