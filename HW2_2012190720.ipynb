{
 "cells": [
  {
   "cell_type": "markdown",
   "metadata": {},
   "source": [
    "# Homework2 "
   ]
  },
  {
   "cell_type": "code",
   "execution_count": 1,
   "metadata": {
    "collapsed": true
   },
   "outputs": [],
   "source": [
    "import json\n",
    "import pandas as pd\n",
    "import numpy as np\n",
    "\n",
    "import matplotlib.pyplot as plt\n",
    "%matplotlib inline\n",
    "\n",
    "from sklearn import linear_model\n",
    "from sklearn.linear_model import SGDClassifier\n",
    "from sklearn.naive_bayes import MultinomialNB\n",
    "\n",
    "from sklearn.cross_validation import train_test_split\n",
    "from sklearn.metrics import mean_squared_error\n",
    "from sklearn.feature_extraction.text import CountVectorizer"
   ]
  },
  {
   "cell_type": "markdown",
   "metadata": {},
   "source": [
    "# Introduction : Linear Regression Analysis"
   ]
  },
  {
   "cell_type": "markdown",
   "metadata": {},
   "source": [
    "First, we need to import the Quandl API.\n",
    "\n",
    "Quandl has indexed millions of economics, financial, societal, and country specific datasets.\n",
    "\n",
    "The datas are available through API(Application Porgramming Interface) supported by the Quandl Python package.\n",
    "\n",
    "Before you start, you first need to install the Quandl API on your computer.\n",
    "\n",
    "Open your 'cmd' console and type in the following command.\n",
    "> pip install Quandl\n",
    "\n",
    "If you have successfully installed the Quandl API,\n",
    "\n",
    "you will have no further trouble in implementation as the other importation classes are already installed in your Anaconda package."
   ]
  },
  {
   "cell_type": "code",
   "execution_count": 2,
   "metadata": {
    "collapsed": true
   },
   "outputs": [],
   "source": [
    "import quandl"
   ]
  },
  {
   "cell_type": "markdown",
   "metadata": {},
   "source": [
    "First we are going to test out the Quandl API.\n",
    "\n",
    "If you execute the python code below, you can see that it retrieves stock prices for 50 weeks from now.\n",
    "\n",
    "Go on and try out the code yourself."
   ]
  },
  {
   "cell_type": "code",
   "execution_count": 3,
   "metadata": {
    "collapsed": true
   },
   "outputs": [],
   "source": [
    "def get_finance_data(query, auth_token, rows=50, column=4, sort_order=\"desc\", collapse=\"weekly\"):\n",
    "    data = quandl.get(query, \n",
    "                      rows=rows, \n",
    "                      column=column, \n",
    "                      sort_order=sort_order, \n",
    "                      collapse=collapse, \n",
    "                      authtoken=auth_token)\n",
    "    \n",
    "    return data['Close']"
   ]
  },
  {
   "cell_type": "code",
   "execution_count": 3,
   "metadata": {
    "collapsed": true
   },
   "outputs": [],
   "source": [
    "# Go to Quandl site, Sign up, and get your authorization token.\n",
    "# To get the bunch of data, you must sign up for the page.\n",
    "auth_token = 'BfhrKq7yCHqRy89dE2NV'\n",
    "\n",
    "target_finance = [\n",
    "    ('apple', 'GOOG/NASDAQ_AAPL'),\n",
    "    ('yahoo', 'GOOG/NASDAQ_YHOO'),    \n",
    "]"
   ]
  },
  {
   "cell_type": "code",
   "execution_count": 9,
   "metadata": {
    "collapsed": false
   },
   "outputs": [],
   "source": [
    "finance_data = {\n",
    "    target[0]: get_finance_data(target[1], auth_token)\n",
    "    for target in target_finance\n",
    "}"
   ]
  },
  {
   "cell_type": "markdown",
   "metadata": {},
   "source": [
    "Now, consist a single data frame which is indexed by the feature as the result below."
   ]
  },
  {
   "cell_type": "code",
   "execution_count": 10,
   "metadata": {
    "collapsed": false
   },
   "outputs": [
    {
     "data": {
      "text/html": [
       "<div>\n",
       "<table border=\"1\" class=\"dataframe\">\n",
       "  <thead>\n",
       "    <tr style=\"text-align: right;\">\n",
       "      <th></th>\n",
       "      <th>apple</th>\n",
       "      <th>yahoo</th>\n",
       "    </tr>\n",
       "  </thead>\n",
       "  <tbody>\n",
       "    <tr>\n",
       "      <th>count</th>\n",
       "      <td>50.000000</td>\n",
       "      <td>50.000000</td>\n",
       "    </tr>\n",
       "    <tr>\n",
       "      <th>mean</th>\n",
       "      <td>113.762400</td>\n",
       "      <td>34.954000</td>\n",
       "    </tr>\n",
       "    <tr>\n",
       "      <th>std</th>\n",
       "      <td>11.000685</td>\n",
       "      <td>4.518003</td>\n",
       "    </tr>\n",
       "    <tr>\n",
       "      <th>min</th>\n",
       "      <td>93.990000</td>\n",
       "      <td>27.040000</td>\n",
       "    </tr>\n",
       "    <tr>\n",
       "      <th>25%</th>\n",
       "      <td>105.800000</td>\n",
       "      <td>31.732500</td>\n",
       "    </tr>\n",
       "    <tr>\n",
       "      <th>50%</th>\n",
       "      <td>113.370000</td>\n",
       "      <td>33.835000</td>\n",
       "    </tr>\n",
       "    <tr>\n",
       "      <th>75%</th>\n",
       "      <td>122.785000</td>\n",
       "      <td>37.607500</td>\n",
       "    </tr>\n",
       "    <tr>\n",
       "      <th>max</th>\n",
       "      <td>132.540000</td>\n",
       "      <td>44.750000</td>\n",
       "    </tr>\n",
       "  </tbody>\n",
       "</table>\n",
       "</div>"
      ],
      "text/plain": [
       "            apple      yahoo\n",
       "count   50.000000  50.000000\n",
       "mean   113.762400  34.954000\n",
       "std     11.000685   4.518003\n",
       "min     93.990000  27.040000\n",
       "25%    105.800000  31.732500\n",
       "50%    113.370000  33.835000\n",
       "75%    122.785000  37.607500\n",
       "max    132.540000  44.750000"
      ]
     },
     "execution_count": 10,
     "metadata": {},
     "output_type": "execute_result"
    }
   ],
   "source": [
    "finance_df = pd.DataFrame(finance_data)\n",
    "finance_df.describe()"
   ]
  },
  {
   "cell_type": "code",
   "execution_count": 11,
   "metadata": {
    "collapsed": false
   },
   "outputs": [
    {
     "data": {
      "text/plain": [
       "<matplotlib.axes._subplots.AxesSubplot at 0x7f9949ad1050>"
      ]
     },
     "execution_count": 11,
     "metadata": {},
     "output_type": "execute_result"
    },
    {
     "data": {
      "image/png": "[encoded data removed]",
      "text/plain": [
       "<matplotlib.figure.Figure at 0x7f9949ad10d0>"
      ]
     },
     "metadata": {},
     "output_type": "display_data"
    }
   ],
   "source": [
    "finance_df.plot()"
   ]
  },
  {
   "cell_type": "markdown",
   "metadata": {},
   "source": [
    "You can see that the stock prices naturally have fluctuated throughout time.\n",
    "\n",
    "Therefore, we are going to find another correlationship within the stock prices except the 'time' factor.\n",
    "\n",
    "In this exercise, we are going to find the correlationship between stock prices of simular industries.\n",
    "\n",
    "We'll start by plotting a scatter plot between the Apple stock prices and the Yahoo stock prices.\n",
    "\n",
    "Add labels to both x and y axis."
   ]
  },
  {
   "cell_type": "code",
   "execution_count": 7,
   "metadata": {
    "collapsed": true
   },
   "outputs": [],
   "source": [
    "def plot_2D_lr(x_data, y_data, pred=None, x_label='X', y_label='Y', title=None):\n",
    "    plt.xlabel(x_label)\n",
    "    plt.ylabel(y_label)\n",
    "    plt.scatter(x_data, y_data)\n",
    "    \n",
    "    if pred is not None:\n",
    "        plt.plot(x_data, pred, color='red', linewidth=2)\n",
    "    if title is not None:\n",
    "        plt.title(title)        \n",
    "    \n",
    "    plt.show()"
   ]
  },
  {
   "cell_type": "code",
   "execution_count": 13,
   "metadata": {
    "collapsed": false
   },
   "outputs": [
    {
     "data": {
      "image/png": "[encoded data removed]",
      "text/plain": [
       "<matplotlib.figure.Figure at 0x7f994990c650>"
      ]
     },
     "metadata": {},
     "output_type": "display_data"
    }
   ],
   "source": [
    "plot_2D_lr(finance_df.apple, finance_df.yahoo, x_label='Apple', y_label='Yahoo')"
   ]
  },
  {
   "cell_type": "markdown",
   "metadata": {},
   "source": [
    "Now, fit in a first-degree regression line into the scatter data.\n",
    "If you do, you can find out that the two stock prices during the past 50 weeks have a positive correlation.\n",
    "\n",
    "X = [\n",
    "\n",
    "    [val0_0, val0_1, val_0_2, ....],        : X0 -> Y0\n",
    "    [val0_0, val0_1, val_0_2, ....],        : X1 -> Y1\n",
    "    ...\n",
    "]"
   ]
  },
  {
   "cell_type": "code",
   "execution_count": 14,
   "metadata": {
    "collapsed": false
   },
   "outputs": [
    {
     "data": {
      "text/plain": [
       "LinearRegression(copy_X=True, fit_intercept=True, n_jobs=1, normalize=False)"
      ]
     },
     "execution_count": 14,
     "metadata": {},
     "output_type": "execute_result"
    }
   ],
   "source": [
    "lr = linear_model.LinearRegression()\n",
    "\n",
    "X = [\n",
    "    [val] for val in finance_df.apple\n",
    "]\n",
    "\n",
    "lr.fit(X, finance_df.yahoo)"
   ]
  },
  {
   "cell_type": "code",
   "execution_count": 15,
   "metadata": {
    "collapsed": false
   },
   "outputs": [
    {
     "data": {
      "image/png": "[encoded data removed]",
      "text/plain": [
       "<matplotlib.figure.Figure at 0x7f99497fe190>"
      ]
     },
     "metadata": {},
     "output_type": "display_data"
    }
   ],
   "source": [
    "plot_2D_lr(finance_df.apple, finance_df.yahoo, lr.predict(X), 'Apple', 'Yahoo')"
   ]
  },
  {
   "cell_type": "code",
   "execution_count": 16,
   "metadata": {
    "collapsed": false
   },
   "outputs": [
    {
     "data": {
      "text/plain": [
       "LinearRegression(copy_X=True, fit_intercept=True, n_jobs=1, normalize=False)"
      ]
     },
     "execution_count": 16,
     "metadata": {},
     "output_type": "execute_result"
    }
   ],
   "source": [
    "X = [  [val] for val in finance_df.apple.tolist() ]\n",
    "Y = finance_df.yahoo.tolist()\n",
    "\n",
    "x_train, x_test, y_train, y_test = train_test_split(X, Y, test_size=0.2)\n",
    "\n",
    "lr.fit(x_train, y_train)"
   ]
  },
  {
   "cell_type": "code",
   "execution_count": 17,
   "metadata": {
    "collapsed": false
   },
   "outputs": [
    {
     "data": {
      "image/png": "[encoded data removed]",
      "text/plain": [
       "<matplotlib.figure.Figure at 0x7f99497386d0>"
      ]
     },
     "metadata": {},
     "output_type": "display_data"
    },
    {
     "name": "stdout",
     "output_type": "stream",
     "text": [
      "MSE - train: 5.51970340453\n",
      "MSE - test: 6.00117024443\n"
     ]
    }
   ],
   "source": [
    "pred = lr.predict(x_test)\n",
    "plot_2D_lr(y_test, pred,x_label='Apple (real)', y_label='Apple (predicted)')\n",
    "\n",
    "print \"MSE - train: %s\" % mean_squared_error( lr.predict(x_train), y_train)\n",
    "print \"MSE - test: %s\" % mean_squared_error( lr.predict(x_test), y_test)"
   ]
  },
  {
   "cell_type": "markdown",
   "metadata": {},
   "source": [
    "## Example : Python Programming"
   ]
  },
  {
   "cell_type": "code",
   "execution_count": 18,
   "metadata": {
    "collapsed": true
   },
   "outputs": [],
   "source": [
    "class Finance_Analysis():\n",
    "    def __init__(self, quandl_authkey, target_list):\n",
    "        self.auth_key = quandl_authkey\n",
    "        self.target_list = target_list\n",
    "        \n",
    "    def fetch_data(self, row_size=50):\n",
    "        finance_data = {\n",
    "            target[0]: get_finance_data(target[1], self.auth_key, row_size)\n",
    "            for target in self.target_list\n",
    "        }\n",
    "        \n",
    "        self.data = pd.DataFrame(finance_data)\n",
    "        \n",
    "    def fitting(self, train_index_name, target_index_name, split_ratio=0.2):\n",
    "        X = [ [val] for val in self.data[train_index_name].tolist() ]\n",
    "        Y = self.data[target_index_name].tolist()\n",
    "\n",
    "        # X, Y -> train, test\n",
    "        x_train, x_test, y_train, y_test = train_test_split(X, Y, test_size=split_ratio)\n",
    "        \n",
    "        # Linear Regression Fitting\n",
    "        self.lr = linear_model.LinearRegression()\n",
    "        self.lr.fit(x_train, y_train)\n",
    "    \n",
    "        pred = self.lr.predict(x_test)\n",
    "        plot_2D_lr(x_train, y_train, lr.predict(x_train), train_index_name, target_index_name, title='Learning')\n",
    "        \n",
    "        self.evaluation(y_test, pred)\n",
    "        \n",
    "    def evaluation(self, real_values, pred_values):\n",
    "        plot_2D_lr(real_values, pred_values,x_label='Real', y_label='Predicted', title='Prediction')\n",
    "        print \"MSE - test: %s\" % mean_squared_error( pred_values, real_values)"
   ]
  },
  {
   "cell_type": "code",
   "execution_count": 19,
   "metadata": {
    "collapsed": true
   },
   "outputs": [],
   "source": [
    "finance_analysis = Finance_Analysis( \n",
    "    auth_token, \n",
    "    [\n",
    "        ('apple', 'GOOG/NASDAQ_AAPL'),\n",
    "        ('yahoo', 'GOOG/NASDAQ_YHOO')\n",
    "    ]\n",
    ")\n",
    "\n",
    "finance_analysis.fetch_data(500)"
   ]
  },
  {
   "cell_type": "code",
   "execution_count": 20,
   "metadata": {
    "collapsed": false
   },
   "outputs": [
    {
     "data": {
      "image/png": "[encoded data removed]",
      "text/plain": [
       "<matplotlib.figure.Figure at 0x7f9949743f10>"
      ]
     },
     "metadata": {},
     "output_type": "display_data"
    },
    {
     "data": {
      "image/png": "[encoded data removed]",
      "text/plain": [
       "<matplotlib.figure.Figure at 0x7f99494e3550>"
      ]
     },
     "metadata": {},
     "output_type": "display_data"
    },
    {
     "name": "stdout",
     "output_type": "stream",
     "text": [
      "MSE - test: 66.7953881061\n"
     ]
    }
   ],
   "source": [
    "finance_analysis.fitting('apple', 'yahoo', 0.2)"
   ]
  },
  {
   "cell_type": "markdown",
   "metadata": {},
   "source": [
    "## Problem1\n",
    "\n",
    "From the previous example, we predicted y's price from the x's price.\n",
    "That is, the model learned one dimension feature.\n",
    "\n",
    "However, as we created Iinear regression model,  one feature is not enough for predicting the price.\n",
    "\n",
    "What else we can do to improve the accuracy of the prediction?\n",
    "Describe below."
   ]
  },
  {
   "cell_type": "code",
   "execution_count": null,
   "metadata": {
    "collapsed": true
   },
   "outputs": [],
   "source": [
    "# Feature이 한 개면 예측을 하기가 힘들뿐만 아니라 예측의 정확도도 높지 않습니다.\n",
    "# 여러 feature들을 사용하는 multi-dimension feature을 이용하면 예측의 정확도를 높일 수 있습니다.\n",
    "# 단 주의해야 할 점은 너무 많은 변수를 사용하면 overfitting 문제가 발생할 수 있습니다.\n",
    "# 또 다른 방법으로는 polynomial을 이용하는 방법이 있습니다.\n",
    "\n",
    "# If we use one feature to make model, accuracy of the model will be low.\n",
    "# If we use several features,we can make higher accuracy model.(called multi-dimension feature model)\n",
    "# But if we use too many features, the overfitting problem can be caused.\n",
    "# And there is another solution using polymocial features."
   ]
  },
  {
   "cell_type": "markdown",
   "metadata": {},
   "source": [
    "-----------------------------------------\n",
    "# Linear Regression Case : House Price Prediction\n",
    "### (Multi-Dimension Feature)\n",
    "\n",
    "Now, we are going to make new model to predict the House Price with various features.\n",
    "\n",
    "This time, we'll use Boston's Price information."
   ]
  },
  {
   "cell_type": "code",
   "execution_count": 4,
   "metadata": {
    "collapsed": true
   },
   "outputs": [],
   "source": [
    "from sklearn import datasets\n",
    "boston = datasets.load_boston()"
   ]
  },
  {
   "cell_type": "markdown",
   "metadata": {},
   "source": [
    "The data have already been created, with various features in it,\n",
    "\n",
    "and you can see the features, below this block.\n",
    "\n",
    "| Feature | Description |\n",
    "|-----------------|-------------------------|\n",
    "|CRIM|     per capita crime rate by town|\n",
    "|ZN       |proportion of residential land zoned for lots over 25,000 sq.ft.|\n",
    "|INDUS|    proportion of non-retail business acres per town|\n",
    "|CHAS  |   Charles River dummy variable (= 1 if tract bounds river; 0 otherwise)|\n",
    "|NOX    |  nitric oxides concentration (parts per 10 million)|\n",
    "|RM    |   average number of rooms per dwelling|\n",
    "|AGE   |   proportion of owner-occupied units built prior to 1940|\n",
    "|DIS    |  weighted distances to five Boston employment centres|\n",
    "|RAD   |   index of accessibility to radial highways|\n",
    "|TAX   |   full-value property-tax rate per one thousand dollor |\n",
    "|PTRATIO|  pupil-teacher ratio by town |\n",
    "|B      |  1000(Bk - 0.63)^2 where Bk is the proportion of blacks by town|\n",
    "|LSTAT  |  % lower status of the population|"
   ]
  },
  {
   "cell_type": "code",
   "execution_count": 5,
   "metadata": {
    "collapsed": false
   },
   "outputs": [
    {
     "name": "stdout",
     "output_type": "stream",
     "text": [
      "Features\n",
      "['CRIM' 'ZN' 'INDUS' 'CHAS' 'NOX' 'RM' 'AGE' 'DIS' 'RAD' 'TAX' 'PTRATIO'\n",
      " 'B' 'LSTAT']\n",
      "\n",
      "Features: \n",
      "[  6.32000000e-03   1.80000000e+01   2.31000000e+00   0.00000000e+00\n",
      "   5.38000000e-01   6.57500000e+00   6.52000000e+01   4.09000000e+00\n",
      "   1.00000000e+00   2.96000000e+02   1.53000000e+01   3.96900000e+02\n",
      "   4.98000000e+00]\n",
      "Target: \n",
      "24.0\n"
     ]
    }
   ],
   "source": [
    "# Create Data\n",
    "X = boston.data\n",
    "Y = boston.target\n",
    "\n",
    "print \"Features\\n\", boston.feature_names\n",
    "print \n",
    "print \"Features: \\n\", X[0]\n",
    "print \"Target: \\n\", Y[0]"
   ]
  },
  {
   "cell_type": "markdown",
   "metadata": {},
   "source": [
    "13 features (['CRIM' 'ZN' 'INDUS' 'CHAS' 'NOX' 'RM' 'AGE' 'DIS' 'RAD' 'TAX' 'PTRATIO' 'B' 'LSTAT']) consists of each samples.\n",
    "\n",
    "The first sample is \n",
    "```\n",
    "[  6.32000000e-03   1.80000000e+01   2.31000000e+00   0.00000000e+00\n",
    "   5.38000000e-01   6.57500000e+00   6.52000000e+01   4.09000000e+00\n",
    "   1.00000000e+00   2.96000000e+02   1.53000000e+01   3.96900000e+02\n",
    "   4.98000000e+00]\n",
    "```\n",
    ", \n",
    "\n",
    "and the target value, House Price is `24.0.`"
   ]
  },
  {
   "cell_type": "markdown",
   "metadata": {},
   "source": [
    "--------------------------\n",
    "\n",
    "# Problem2 \n",
    "\n",
    "Before starting the linear regression model learning,\n",
    "\n",
    "we'll divide given data with the ratio of 8:2,\n",
    "\n",
    "which in order will be used as a training and a testing dataset.\n"
   ]
  },
  {
   "cell_type": "code",
   "execution_count": 6,
   "metadata": {
    "collapsed": false
   },
   "outputs": [
    {
     "data": {
      "text/plain": [
       "'\\nx_train\\nx_test\\ny_train\\ny_test\\n'"
      ]
     },
     "execution_count": 6,
     "metadata": {},
     "output_type": "execute_result"
    }
   ],
   "source": [
    "# Write your code\n",
    "# Don't use 'train_test_split' function in this problem\n",
    "num = range(1,len(X))\n",
    "np.random.shuffle(num)\n",
    "\n",
    "tr_len = int(0.8 * len(X))\n",
    "num_tr = num[:tr_len]\n",
    "num_test = num[tr_len:]\n",
    "\n",
    "x_train, x_test = X[num_tr], X[num_test]\n",
    "y_train, y_test = Y[num_tr], Y[num_test]\n",
    "\"\"\"\n",
    "x_train\n",
    "x_test\n",
    "y_train\n",
    "y_test\n",
    "\"\"\""
   ]
  },
  {
   "cell_type": "markdown",
   "metadata": {},
   "source": [
    "# Problem3\n",
    "\n",
    "Plot the house price distribution per each features,\n",
    "\n",
    "and see what correlation exists between the price and each features. (Describe it.)"
   ]
  },
  {
   "cell_type": "code",
   "execution_count": 7,
   "metadata": {
    "collapsed": false,
    "scrolled": false
   },
   "outputs": [
    {
     "data": {
      "image/png": "[encoded data removed]",
      "text/plain": [
       "<matplotlib.figure.Figure at 0xa85eb38>"
      ]
     },
     "metadata": {},
     "output_type": "display_data"
    },
    {
     "data": {
      "image/png": "[encoded data removed]",
      "text/plain": [
       "<matplotlib.figure.Figure at 0xabfe198>"
      ]
     },
     "metadata": {},
     "output_type": "display_data"
    },
    {
     "data": {
      "image/png": "[encoded data removed]",
      "text/plain": [
       "<matplotlib.figure.Figure at 0xae7d240>"
      ]
     },
     "metadata": {},
     "output_type": "display_data"
    },
    {
     "data": {
      "image/png": "[encoded data removed]",
      "text/plain": [
       "<matplotlib.figure.Figure at 0xb181ef0>"
      ]
     },
     "metadata": {},
     "output_type": "display_data"
    },
    {
     "data": {
      "image/png": "[encoded data removed]",
      "text/plain": [
       "<matplotlib.figure.Figure at 0xb257128>"
      ]
     },
     "metadata": {},
     "output_type": "display_data"
    },
    {
     "data": {
      "image/png": "[encoded data removed]",
      "text/plain": [
       "<matplotlib.figure.Figure at 0xb5cf208>"
      ]
     },
     "metadata": {},
     "output_type": "display_data"
    },
    {
     "data": {
      "image/png": "[encoded data removed]",
      "text/plain": [
       "<matplotlib.figure.Figure at 0xb2df978>"
      ]
     },
     "metadata": {},
     "output_type": "display_data"
    },
    {
     "data": {
      "image/png": "[encoded data removed]",
      "text/plain": [
       "<matplotlib.figure.Figure at 0xaf75fd0>"
      ]
     },
     "metadata": {},
     "output_type": "display_data"
    },
    {
     "data": {
      "image/png": "[encoded data removed]",
      "text/plain": [
       "<matplotlib.figure.Figure at 0xb2f3a90>"
      ]
     },
     "metadata": {},
     "output_type": "display_data"
    },
    {
     "data": {
      "image/png": "[encoded data removed]",
      "text/plain": [
       "<matplotlib.figure.Figure at 0xb278278>"
      ]
     },
     "metadata": {},
     "output_type": "display_data"
    },
    {
     "data": {
      "image/png": "[encoded data removed]",
      "text/plain": [
       "<matplotlib.figure.Figure at 0xa8359b0>"
      ]
     },
     "metadata": {},
     "output_type": "display_data"
    },
    {
     "data": {
      "image/png": "[encoded data removed]",
      "text/plain": [
       "<matplotlib.figure.Figure at 0xaf68c50>"
      ]
     },
     "metadata": {},
     "output_type": "display_data"
    },
    {
     "data": {
      "image/png": "[encoded data removed]",
      "text/plain": [
       "<matplotlib.figure.Figure at 0xb9bbd30>"
      ]
     },
     "metadata": {},
     "output_type": "display_data"
    }
   ],
   "source": [
    "# Write your code\n",
    "X_df = pd.DataFrame(X)\n",
    "X_df.columns = boston.feature_names\n",
    "def plot_2D_lr(x_data, y_data, pred=None, x_label='X', y_label='Y', title=None):\n",
    "    plt.xlabel(x_label)\n",
    "    plt.ylabel(y_label)\n",
    "    plt.scatter(x_data, y_data)\n",
    "    \n",
    "    if pred is not None:\n",
    "        plt.plot(x_data, pred, color='red', linewidth=2)\n",
    "    if title is not None:\n",
    "        plt.title(title)        \n",
    "    \n",
    "    plt.show()\n",
    "\n",
    "plot_2D_lr(X_df['CRIM'],Y, x_label='CRIM', y_label='price')\n",
    "plot_2D_lr(X_df['ZN'], Y, x_label='ZN', y_label='price')\n",
    "plot_2D_lr(X_df['INDUS'], Y, x_label='INDUS', y_label='price')\n",
    "plot_2D_lr(X_df['CHAS'], Y, x_label='CHAS', y_label='price')\n",
    "plot_2D_lr(X_df['NOX'], Y, x_label='NOX', y_label='price')\n",
    "plot_2D_lr(X_df['RM'], Y, x_label='RM', y_label='price')\n",
    "plot_2D_lr(X_df['AGE'], Y, x_label='AGE', y_label='price')\n",
    "plot_2D_lr(X_df['DIS'], Y, x_label='DIS', y_label='price')\n",
    "plot_2D_lr(X_df['RAD'], Y, x_label='RAD', y_label='price')\n",
    "plot_2D_lr(X_df['TAX'], Y, x_label='TAX', y_label='price')\n",
    "plot_2D_lr(X_df['PTRATIO'],Y, x_label='PTRATIO', y_label='price')\n",
    "plot_2D_lr(X_df['B'], Y, x_label='B', y_label='price')\n",
    "plot_2D_lr(X_df['LSTAT'],Y, x_label='LSTAT', y_label='price')"
   ]
  },
  {
   "cell_type": "code",
   "execution_count": 8,
   "metadata": {
    "collapsed": false
   },
   "outputs": [
    {
     "data": {
      "text/plain": [
       "LinearRegression(copy_X=True, fit_intercept=True, n_jobs=1, normalize=False)"
      ]
     },
     "execution_count": 8,
     "metadata": {},
     "output_type": "execute_result"
    }
   ],
   "source": [
    "regr = linear_model.LinearRegression()\n",
    "regr.fit(x_train, y_train)"
   ]
  },
  {
   "cell_type": "code",
   "execution_count": 9,
   "metadata": {
    "collapsed": true
   },
   "outputs": [],
   "source": [
    "predicted = regr.predict(x_test)"
   ]
  },
  {
   "cell_type": "markdown",
   "metadata": {},
   "source": [
    "# Problem4\n",
    "\n",
    "Plot the result of price prediction.\n",
    "\n",
    "> X-axis : Real value \n",
    ">\n",
    "> Y-axis : Prediction value"
   ]
  },
  {
   "cell_type": "code",
   "execution_count": 13,
   "metadata": {
    "collapsed": false
   },
   "outputs": [
    {
     "data": {
      "image/png": "[encoded data removed]",
      "text/plain": [
       "<matplotlib.figure.Figure at 0x7ff3ebbb62d0>"
      ]
     },
     "metadata": {},
     "output_type": "display_data"
    },
    {
     "name": "stdout",
     "output_type": "stream",
     "text": [
      "MSE - train: 23.2690330912\n",
      "MSE - test: 16.5769479084\n"
     ]
    }
   ],
   "source": [
    "fig, ax = plt.subplots()\n",
    "ax.plot([60, 60], [60 predicted.max()], 'k--', lw=4)\n",
    "ax.scatter(y_test, predicted)\n",
    "ax.set_xlabel('real price')\n",
    "ax.set_ylabel('predicted price')\n",
    "plt.show()\n",
    "\n",
    "print \"MSE - train: %s\" % mean_squared_error( regr.predict(x_train), y_train)\n",
    "print \"MSE - test: %s\" % mean_squared_error(predicted, y_test)"
   ]
  },
  {
   "cell_type": "markdown",
   "metadata": {},
   "source": [
    "------------------------------\n",
    "# Classification Case : Restaurant Rating Prediction (NLP based)\n",
    "### (feature generation)"
   ]
  },
  {
   "cell_type": "markdown",
   "metadata": {},
   "source": [
    "From the previous example, we used Boston House Price data set, which already had features created.\n",
    "\n",
    "Now, we are going to create features which will be used for making new model.\n",
    "\n",
    "--------------------------------\n",
    "In this example, we are going to predict the rating of a restaurant based on the users' __REVIEW__.\n",
    "\n",
    "Review was written with the natural language. (numerical)\n",
    "\n",
    "Therefore, we need to do some preprocessing step in order to make data for  and learning.\n",
    "\n",
    "Most basically, we use BOW(Bag of word) as a feature, and some simple example is written below."
   ]
  },
  {
   "cell_type": "markdown",
   "metadata": {},
   "source": [
    "### Bag of Word (BOW)"
   ]
  },
  {
   "cell_type": "code",
   "execution_count": 7,
   "metadata": {
    "collapsed": false
   },
   "outputs": [
    {
     "name": "stdout",
     "output_type": "stream",
     "text": [
      "# Original text is \n",
      "This is the first sentence.\n",
      "Creating BOW step by step.\n",
      "This is the last sentence.\n",
      "<class 'sklearn.feature_extraction.text.CountVectorizer'>\n",
      "# Word Vector\n",
      "  (0, 3)\t1\n",
      "  (0, 4)\t1\n",
      "  (0, 6)\t1\n",
      "  (0, 8)\t1\n",
      "  (0, 9)\t1\n",
      "  (1, 0)\t1\n",
      "  (1, 1)\t1\n",
      "  (1, 2)\t1\n",
      "  (1, 7)\t2\n",
      "  (2, 4)\t1\n",
      "  (2, 5)\t1\n",
      "  (2, 6)\t1\n",
      "  (2, 8)\t1\n",
      "  (2, 9)\t1\n"
     ]
    },
    {
     "data": {
      "text/html": [
       "<div>\n",
       "<table border=\"1\" class=\"dataframe\">\n",
       "  <thead>\n",
       "    <tr style=\"text-align: right;\">\n",
       "      <th></th>\n",
       "      <th>bow</th>\n",
       "      <th>by</th>\n",
       "      <th>creating</th>\n",
       "      <th>first</th>\n",
       "      <th>is</th>\n",
       "      <th>last</th>\n",
       "      <th>sentence</th>\n",
       "      <th>step</th>\n",
       "      <th>the</th>\n",
       "      <th>this</th>\n",
       "    </tr>\n",
       "  </thead>\n",
       "  <tbody>\n",
       "    <tr>\n",
       "      <th>0</th>\n",
       "      <td>0</td>\n",
       "      <td>0</td>\n",
       "      <td>0</td>\n",
       "      <td>1</td>\n",
       "      <td>1</td>\n",
       "      <td>0</td>\n",
       "      <td>1</td>\n",
       "      <td>0</td>\n",
       "      <td>1</td>\n",
       "      <td>1</td>\n",
       "    </tr>\n",
       "    <tr>\n",
       "      <th>1</th>\n",
       "      <td>1</td>\n",
       "      <td>1</td>\n",
       "      <td>1</td>\n",
       "      <td>0</td>\n",
       "      <td>0</td>\n",
       "      <td>0</td>\n",
       "      <td>0</td>\n",
       "      <td>2</td>\n",
       "      <td>0</td>\n",
       "      <td>0</td>\n",
       "    </tr>\n",
       "    <tr>\n",
       "      <th>2</th>\n",
       "      <td>0</td>\n",
       "      <td>0</td>\n",
       "      <td>0</td>\n",
       "      <td>0</td>\n",
       "      <td>1</td>\n",
       "      <td>1</td>\n",
       "      <td>1</td>\n",
       "      <td>0</td>\n",
       "      <td>1</td>\n",
       "      <td>1</td>\n",
       "    </tr>\n",
       "  </tbody>\n",
       "</table>\n",
       "</div>"
      ],
      "text/plain": [
       "   bow  by  creating  first  is  last  sentence  step  the  this\n",
       "0    0   0         0      1   1     0         1     0    1     1\n",
       "1    1   1         1      0   0     0         0     2    0     0\n",
       "2    0   0         0      0   1     1         1     0    1     1"
      ]
     },
     "execution_count": 7,
     "metadata": {},
     "output_type": "execute_result"
    }
   ],
   "source": [
    "example_doc = [\n",
    "    'This is the first sentence.',\n",
    "    'Creating BOW step by step.',\n",
    "    'This is the last sentence.'\n",
    "]\n",
    "\n",
    "print '# Original text is \\n', '\\n'.join(example_doc)\n",
    "\n",
    "vectorizer = CountVectorizer(min_df=0)\n",
    "\n",
    "vectorizer.fit(example_doc)\n",
    "x = vectorizer.transform(example_doc)\n",
    "print '# Word Vector\\n', x\n",
    "\n",
    "bow = x.toarray()\n",
    "\n",
    "bow_df = pd.DataFrame(bow, columns=vectorizer.get_feature_names())\n",
    "bow_df"
   ]
  },
  {
   "cell_type": "markdown",
   "metadata": {},
   "source": [
    "-----------------------------------------------------------------"
   ]
  },
  {
   "cell_type": "code",
   "execution_count": 10,
   "metadata": {
    "collapsed": true
   },
   "outputs": [],
   "source": [
    "def load_json(data_path, limit=-1):\n",
    "    data = list()\n",
    "    \n",
    "    f = open(data_path)\n",
    "    for line in f:\n",
    "        j = json.loads(line)\n",
    "        data.append(j)\n",
    "        \n",
    "        if limit != -1 and len(data) > limit:\n",
    "            break;\n",
    "        \n",
    "    return data"
   ]
  },
  {
   "cell_type": "markdown",
   "metadata": {},
   "source": [
    "# Problem5\n",
    "\n",
    "Let's load the uploaded data. [Donwload data](https://drive.google.com/file/d/0B560K5tENbB1SWdwbW82Ynhxck0/view?usp=sharing)\n",
    "\n",
    "_When you get whole data, you need memory about up to 7G. Thus, you need to adjust the size of the data loaded, based on your PC's performance!_"
   ]
  },
  {
   "cell_type": "code",
   "execution_count": 11,
   "metadata": {
    "collapsed": false
   },
   "outputs": [],
   "source": [
    "data_path = \"C:/data/sample.dat\"\n",
    "data = load_json(data_path, 100)\n",
    "\n",
    "data = pd.DataFrame(data)"
   ]
  },
  {
   "cell_type": "code",
   "execution_count": 12,
   "metadata": {
    "collapsed": false
   },
   "outputs": [
    {
     "data": {
      "text/html": [
       "<div>\n",
       "<table border=\"1\" class=\"dataframe\">\n",
       "  <thead>\n",
       "    <tr style=\"text-align: right;\">\n",
       "      <th></th>\n",
       "      <th>attributes</th>\n",
       "      <th>business_id</th>\n",
       "      <th>categories</th>\n",
       "      <th>city</th>\n",
       "      <th>full_address</th>\n",
       "      <th>hours</th>\n",
       "      <th>latitude</th>\n",
       "      <th>longitude</th>\n",
       "      <th>name</th>\n",
       "      <th>neighborhoods</th>\n",
       "      <th>open</th>\n",
       "      <th>reviews</th>\n",
       "      <th>stars</th>\n",
       "      <th>state</th>\n",
       "      <th>type</th>\n",
       "    </tr>\n",
       "  </thead>\n",
       "  <tbody>\n",
       "    <tr>\n",
       "      <th>0</th>\n",
       "      <td>{u'Wheelchair Accessible': True, u'Take-out': ...</td>\n",
       "      <td>s5yzZITWU_RcJzWOgjFecw</td>\n",
       "      <td>[Restaurants, Italian]</td>\n",
       "      <td>Las Vegas</td>\n",
       "      <td>1955 E Tropicana Ave\\nEastside\\nLas Vegas, NV ...</td>\n",
       "      <td>{u'Monday': {u'close': u'22:00', u'open': u'15...</td>\n",
       "      <td>36.100414</td>\n",
       "      <td>-115.126583</td>\n",
       "      <td>Sergio's Italian Gardens</td>\n",
       "      <td>[Eastside, Southeast]</td>\n",
       "      <td>True</td>\n",
       "      <td>[{u'votes': {u'funny': 0, u'useful': 0, u'cool...</td>\n",
       "      <td>4.0</td>\n",
       "      <td>NV</td>\n",
       "      <td>business</td>\n",
       "    </tr>\n",
       "    <tr>\n",
       "      <th>1</th>\n",
       "      <td>{u'Price Range': 2, u'Alcohol': u'full_bar', u...</td>\n",
       "      <td>0_J4y0aEmtuzgdsH2OfWQw</td>\n",
       "      <td>[Bars, Nightlife, Lounges]</td>\n",
       "      <td>Las Vegas</td>\n",
       "      <td>517 Fremont St\\nSte A\\nDowntown\\nLas Vegas, NV...</td>\n",
       "      <td>{u'Tuesday': {u'close': u'03:00', u'open': u'2...</td>\n",
       "      <td>36.168666</td>\n",
       "      <td>-115.140099</td>\n",
       "      <td>Don't Tell Mama</td>\n",
       "      <td>[Downtown]</td>\n",
       "      <td>True</td>\n",
       "      <td>[{u'votes': {u'funny': 0, u'useful': 1, u'cool...</td>\n",
       "      <td>4.0</td>\n",
       "      <td>NV</td>\n",
       "      <td>business</td>\n",
       "    </tr>\n",
       "    <tr>\n",
       "      <th>2</th>\n",
       "      <td>{u'Alcohol': u'full_bar', u'Noise Level': u'lo...</td>\n",
       "      <td>W0eocyGliMbg8NScqERaiA</td>\n",
       "      <td>[Champagne Bars, Bars, Nightlife, Lounges]</td>\n",
       "      <td>Scottsdale</td>\n",
       "      <td>Scottsdale Quarter\\n15257 N Scottsdale Rd\\nSco...</td>\n",
       "      <td>{u'Tuesday': {u'close': u'22:00', u'open': u'1...</td>\n",
       "      <td>33.607183</td>\n",
       "      <td>-111.940325</td>\n",
       "      <td>Narcisse Champagne and Tea Lounge</td>\n",
       "      <td>[]</td>\n",
       "      <td>False</td>\n",
       "      <td>[{u'votes': {u'funny': 0, u'useful': 0, u'cool...</td>\n",
       "      <td>3.5</td>\n",
       "      <td>AZ</td>\n",
       "      <td>business</td>\n",
       "    </tr>\n",
       "    <tr>\n",
       "      <th>3</th>\n",
       "      <td>{u'Wheelchair Accessible': True, u'Take-out': ...</td>\n",
       "      <td>R1kKjAO5kZO6d0gQGqrvGA</td>\n",
       "      <td>[Burgers, Restaurants]</td>\n",
       "      <td>Tempe</td>\n",
       "      <td>815 E Baseline Rd\\nSte B115\\nTempe, AZ 85283</td>\n",
       "      <td>{u'Monday': {u'close': u'22:00', u'open': u'10...</td>\n",
       "      <td>33.377907</td>\n",
       "      <td>-111.929481</td>\n",
       "      <td>Smashburger</td>\n",
       "      <td>[]</td>\n",
       "      <td>True</td>\n",
       "      <td>[{u'votes': {u'funny': 1, u'useful': 1, u'cool...</td>\n",
       "      <td>3.5</td>\n",
       "      <td>AZ</td>\n",
       "      <td>business</td>\n",
       "    </tr>\n",
       "    <tr>\n",
       "      <th>4</th>\n",
       "      <td>{u'Alcohol': u'full_bar', u'Open 24 Hours': Fa...</td>\n",
       "      <td>bwu0cUZfksuu-uzTPrrl2A</td>\n",
       "      <td>[Bars, American (Traditional), Nightlife, Rest...</td>\n",
       "      <td>Pittsburgh</td>\n",
       "      <td>3525 Liberty Ave\\nLawrenceville\\nPittsburgh, P...</td>\n",
       "      <td>{u'Monday': {u'close': u'23:00', u'open': u'16...</td>\n",
       "      <td>40.462206</td>\n",
       "      <td>-79.964425</td>\n",
       "      <td>Church Brew Works</td>\n",
       "      <td>[Lawrenceville]</td>\n",
       "      <td>True</td>\n",
       "      <td>[{u'votes': {u'funny': 0, u'useful': 1, u'cool...</td>\n",
       "      <td>3.5</td>\n",
       "      <td>PA</td>\n",
       "      <td>business</td>\n",
       "    </tr>\n",
       "  </tbody>\n",
       "</table>\n",
       "</div>"
      ],
      "text/plain": [
       "                                          attributes             business_id  \\\n",
       "0  {u'Wheelchair Accessible': True, u'Take-out': ...  s5yzZITWU_RcJzWOgjFecw   \n",
       "1  {u'Price Range': 2, u'Alcohol': u'full_bar', u...  0_J4y0aEmtuzgdsH2OfWQw   \n",
       "2  {u'Alcohol': u'full_bar', u'Noise Level': u'lo...  W0eocyGliMbg8NScqERaiA   \n",
       "3  {u'Wheelchair Accessible': True, u'Take-out': ...  R1kKjAO5kZO6d0gQGqrvGA   \n",
       "4  {u'Alcohol': u'full_bar', u'Open 24 Hours': Fa...  bwu0cUZfksuu-uzTPrrl2A   \n",
       "\n",
       "                                          categories        city  \\\n",
       "0                             [Restaurants, Italian]   Las Vegas   \n",
       "1                         [Bars, Nightlife, Lounges]   Las Vegas   \n",
       "2         [Champagne Bars, Bars, Nightlife, Lounges]  Scottsdale   \n",
       "3                             [Burgers, Restaurants]       Tempe   \n",
       "4  [Bars, American (Traditional), Nightlife, Rest...  Pittsburgh   \n",
       "\n",
       "                                        full_address  \\\n",
       "0  1955 E Tropicana Ave\\nEastside\\nLas Vegas, NV ...   \n",
       "1  517 Fremont St\\nSte A\\nDowntown\\nLas Vegas, NV...   \n",
       "2  Scottsdale Quarter\\n15257 N Scottsdale Rd\\nSco...   \n",
       "3       815 E Baseline Rd\\nSte B115\\nTempe, AZ 85283   \n",
       "4  3525 Liberty Ave\\nLawrenceville\\nPittsburgh, P...   \n",
       "\n",
       "                                               hours   latitude   longitude  \\\n",
       "0  {u'Monday': {u'close': u'22:00', u'open': u'15...  36.100414 -115.126583   \n",
       "1  {u'Tuesday': {u'close': u'03:00', u'open': u'2...  36.168666 -115.140099   \n",
       "2  {u'Tuesday': {u'close': u'22:00', u'open': u'1...  33.607183 -111.940325   \n",
       "3  {u'Monday': {u'close': u'22:00', u'open': u'10...  33.377907 -111.929481   \n",
       "4  {u'Monday': {u'close': u'23:00', u'open': u'16...  40.462206  -79.964425   \n",
       "\n",
       "                                name          neighborhoods   open  \\\n",
       "0           Sergio's Italian Gardens  [Eastside, Southeast]   True   \n",
       "1                    Don't Tell Mama             [Downtown]   True   \n",
       "2  Narcisse Champagne and Tea Lounge                     []  False   \n",
       "3                        Smashburger                     []   True   \n",
       "4                  Church Brew Works        [Lawrenceville]   True   \n",
       "\n",
       "                                             reviews  stars state      type  \n",
       "0  [{u'votes': {u'funny': 0, u'useful': 0, u'cool...    4.0    NV  business  \n",
       "1  [{u'votes': {u'funny': 0, u'useful': 1, u'cool...    4.0    NV  business  \n",
       "2  [{u'votes': {u'funny': 0, u'useful': 0, u'cool...    3.5    AZ  business  \n",
       "3  [{u'votes': {u'funny': 1, u'useful': 1, u'cool...    3.5    AZ  business  \n",
       "4  [{u'votes': {u'funny': 0, u'useful': 1, u'cool...    3.5    PA  business  "
      ]
     },
     "execution_count": 12,
     "metadata": {},
     "output_type": "execute_result"
    }
   ],
   "source": [
    "data.head()"
   ]
  },
  {
   "cell_type": "markdown",
   "metadata": {},
   "source": [
    "# Problem6\n",
    "\n",
    "Make BOW for each restaurants.\n",
    "\n",
    "Each rows in the data structure consists of the information of one restaurant,\n",
    "\n",
    "'reviews' column has a list of reviews in it.\n",
    "\n",
    "By simply merging the reviews(key : 'reviews), make BOW of a restaurant."
   ]
  },
  {
   "cell_type": "code",
   "execution_count": 13,
   "metadata": {
    "collapsed": true
   },
   "outputs": [],
   "source": [
    "\"\"\"\n",
    "@Function\n",
    "make_review_bow\n",
    "\n",
    "@Inputs\n",
    "__\n",
    "data : data frame\n",
    "    Yelp review data frame\n",
    "\n",
    "@Returns\n",
    "___\n",
    "vectorizer \n",
    "    :<class 'sklearn.feature_extraction.text.CountVectorizer'> \n",
    "    \n",
    "bow \n",
    "    : <class 'scipy.sparse.csr.csr_matrix'>\n",
    "\"\"\"\n",
    "\n",
    "def make_review_bow(data):    \n",
    "    vectorizer = CountVectorizer(min_df=0)\n",
    "    \n",
    "    # Write your code\n",
    "    lst = []\n",
    "    lst_mer=[]\n",
    "    doc = data['reviews']\n",
    "    \n",
    "    for i in range(len(data)) :\n",
    "        for j in range(len(data.reviews[i])):\n",
    "            lst.append(doc[i][j]['text'])\n",
    "        lst_mer.append(str(lst))\n",
    "        \n",
    "        lst =[]\n",
    "\n",
    "    vectorizer.fit(lst_mer)\n",
    "    x = vectorizer.transform(lst_mer)\n",
    "    \n",
    "    bow = x.toarray()\n",
    "    \n",
    "    return vectorizer, bow"
   ]
  },
  {
   "cell_type": "code",
   "execution_count": 14,
   "metadata": {
    "collapsed": true
   },
   "outputs": [],
   "source": [
    "vectorizer, X = make_review_bow(data)\n",
    "Y = data.stars"
   ]
  },
  {
   "cell_type": "code",
   "execution_count": 15,
   "metadata": {
    "collapsed": true
   },
   "outputs": [],
   "source": [
    "x_train, x_test, y_train, y_test = train_test_split(X,Y, test_size=0.2)"
   ]
  },
  {
   "cell_type": "markdown",
   "metadata": {},
   "source": [
    "In the data, data type of 'rating' is float.\n",
    "\n",
    "However, in sklearn classifier, label of the class should be str or int. \n",
    "\n",
    "Make new data set with new rating values, which has previous rating values multiplied by 10, and has integer type."
   ]
  },
  {
   "cell_type": "code",
   "execution_count": 16,
   "metadata": {
    "collapsed": true
   },
   "outputs": [],
   "source": [
    "# label should be 'Int' or 'String'\n",
    "Y = (Y * 10).astype('int64')"
   ]
  },
  {
   "cell_type": "code",
   "execution_count": 17,
   "metadata": {
    "collapsed": true
   },
   "outputs": [],
   "source": [
    "x_train, x_test, y_train, y_test = train_test_split(X,Y, test_size=0.2)"
   ]
  },
  {
   "cell_type": "code",
   "execution_count": 18,
   "metadata": {
    "collapsed": false
   },
   "outputs": [
    {
     "data": {
      "text/plain": [
       "SGDClassifier(alpha=0.0001, average=False, class_weight=None, epsilon=0.1,\n",
       "       eta0=0.0, fit_intercept=True, l1_ratio=0.15,\n",
       "       learning_rate='optimal', loss='hinge', n_iter=5, n_jobs=1,\n",
       "       penalty='l2', power_t=0.5, random_state=None, shuffle=True,\n",
       "       verbose=0, warm_start=False)"
      ]
     },
     "execution_count": 18,
     "metadata": {},
     "output_type": "execute_result"
    }
   ],
   "source": [
    "sgd = SGDClassifier()\n",
    "sgd.fit(x_train, y_train)"
   ]
  },
  {
   "cell_type": "markdown",
   "metadata": {},
   "source": [
    "In the case of Regression, we evaluated the performance from the difference of prediction and the real value.\n",
    "\n",
    "However, Classification evaluates the model using __whether the predicted value is same as the real value or not__,\n",
    "\n",
    "and needs another metric for evaluating."
   ]
  },
  {
   "cell_type": "code",
   "execution_count": 66,
   "metadata": {
    "collapsed": false
   },
   "outputs": [
    {
     "name": "stdout",
     "output_type": "stream",
     "text": [
      "Model Accuracy: 42.857143\n"
     ]
    }
   ],
   "source": [
    "print \"Model Accuracy: %f\" % (100 * sgd.score(x_test, y_test))"
   ]
  },
  {
   "cell_type": "markdown",
   "metadata": {},
   "source": [
    "### Multinomial Naive Bayes (other classifier algorithms)\n",
    "\n",
    "[Linear Models](http://scikit-learn.org/stable/modules/classes.html#module-sklearn.linear_model)"
   ]
  },
  {
   "cell_type": "code",
   "execution_count": 19,
   "metadata": {
    "collapsed": false
   },
   "outputs": [
    {
     "data": {
      "text/plain": [
       "MultinomialNB(alpha=1.0, class_prior=None, fit_prior=True)"
      ]
     },
     "execution_count": 19,
     "metadata": {},
     "output_type": "execute_result"
    }
   ],
   "source": [
    "nb = MultinomialNB()\n",
    "nb.fit(x_train, y_train)"
   ]
  },
  {
   "cell_type": "code",
   "execution_count": 68,
   "metadata": {
    "collapsed": false
   },
   "outputs": [
    {
     "name": "stdout",
     "output_type": "stream",
     "text": [
      "Model Accuracy: 42.857143\n"
     ]
    }
   ],
   "source": [
    "print \"Model Accuracy: %f\" % (100 * nb.score(x_test, y_test))"
   ]
  },
  {
   "cell_type": "markdown",
   "metadata": {},
   "source": [
    "There are parameters of SGD.\n",
    "\n",
    "__Parameters__\n",
    "```\n",
    "alpha=0.0001, average=False, class_weight=None, epsilon=0.1,\n",
    "eta0=0.0, fit_intercept=True, l1_ratio=0.15,\n",
    "learning_rate='optimal', loss='hinge', n_iter=5, n_jobs=1,\n",
    "penalty='l2', power_t=0.5, random_state=None, shuffle=True,\n",
    "verbose=0, warm_start=False\n",
    "```\n",
    "\n",
    "To get the best (but general) model, we should choose the parameters.\n",
    "\n",
    "Below is the performance accoding to 'Iteration value'"
   ]
  },
  {
   "cell_type": "code",
   "execution_count": 84,
   "metadata": {
    "collapsed": false
   },
   "outputs": [
    {
     "name": "stdout",
     "output_type": "stream",
     "text": [
      "# iter_num  5\n",
      "\tModel Accuracy: 38.095238\n",
      "# iter_num  15\n",
      "\tModel Accuracy: 28.571429\n",
      "# iter_num  25\n",
      "\tModel Accuracy: 28.571429\n",
      "# iter_num  35\n",
      "\tModel Accuracy: 28.571429\n",
      "# iter_num  45\n",
      "\tModel Accuracy: 28.571429\n",
      "# iter_num  55\n",
      "\tModel Accuracy: 33.333333\n",
      "# iter_num  65\n",
      "\tModel Accuracy: 33.333333\n",
      "# iter_num  75\n",
      "\tModel Accuracy: 33.333333\n",
      "# iter_num  85\n",
      "\tModel Accuracy: 33.333333\n",
      "# iter_num  95\n",
      "\tModel Accuracy: 38.095238\n",
      "# iter_num  105\n",
      "\tModel Accuracy: 33.333333\n",
      "# iter_num  115\n",
      "\tModel Accuracy: 33.333333\n",
      "# iter_num  125\n",
      "\tModel Accuracy: 33.333333\n",
      "# iter_num  135\n",
      "\tModel Accuracy: 33.333333\n",
      "# iter_num  145\n",
      "\tModel Accuracy: 33.333333\n",
      "# iter_num  155\n",
      "\tModel Accuracy: 33.333333\n",
      "# iter_num  165\n",
      "\tModel Accuracy: 33.333333\n",
      "# iter_num  175\n",
      "\tModel Accuracy: 33.333333\n",
      "# iter_num  185\n",
      "\tModel Accuracy: 33.333333\n",
      "# iter_num  195\n",
      "\tModel Accuracy: 33.333333\n"
     ]
    }
   ],
   "source": [
    "result = dict()\n",
    "for iter_num in range(5, 200, 10):\n",
    "        print \"# iter_num \", iter_num\n",
    "        sgd = SGDClassifier(n_iter=iter_num)\n",
    "        sgd.fit(x_train, y_train)\n",
    "        \n",
    "        acc = 100 * sgd.score(x_test, y_test)\n",
    "        print \"\\tModel Accuracy: %f\" % acc\n",
    "        \n",
    "        result[iter_num] = acc"
   ]
  },
  {
   "cell_type": "markdown",
   "metadata": {},
   "source": [
    "# Problem8\n",
    "1. plot the graph of the result with the changing iteration_num.\n",
    "2. However, the accuracy metric above has lethal error in its hypothesis.\n",
    " Describe what's the error, and what can be the solution to solve the error?"
   ]
  },
  {
   "cell_type": "code",
   "execution_count": 88,
   "metadata": {
    "collapsed": true
   },
   "outputs": [],
   "source": [
    "import collections"
   ]
  },
  {
   "cell_type": "code",
   "execution_count": 85,
   "metadata": {
    "collapsed": false
   },
   "outputs": [
    {
     "data": {
      "image/png": "[encoded data removed]",
      "text/plain": [
       "<matplotlib.figure.Figure at 0xad0e7f0>"
      ]
     },
     "metadata": {},
     "output_type": "display_data"
    }
   ],
   "source": [
    "# Problem 8\n",
    "\n",
    "\n",
    "result_od = collections.OrderedDict(sorted(result.items()))\n",
    "\n",
    "for title, data_dict in result_od.iteritems():\n",
    "    re_iter_num = result_od.keys()\n",
    "    re_acc = result_od.values()\n",
    "\n",
    "plt.axis([0,200,0,100])\n",
    "plt.xlabel('iter_num')\n",
    "plt.ylabel('Model_Accuracy')\n",
    "plt.plot(re_iter_num,re_acc)\n",
    "plt.show()\n"
   ]
  },
  {
   "cell_type": "code",
   "execution_count": null,
   "metadata": {
    "collapsed": true
   },
   "outputs": [],
   "source": [
    "#problem 8-2\n",
    "\n",
    "# Classifier는 딱 정확히 맞는 것만 맞다고 체크하기 때문에 유사하더라도 답과 다르면 틀리게 체크해서 오류율이 높다.\n",
    "# 그리고 reviews의 text feature 하나만 갖고 classification model을 만드는 것은 정확도에 문제가 있다.(high bias문제)\n",
    "# 몇 가지 features를 추가해서 multi-valued features를 사용하면 정확도가 늘을 것이다.\n",
    "\n",
    "# SGD classifier checks only exactly correct one. It says error although the prediction data is closely to real data.\n",
    "# Also, making model with only reviews text feature can cause low accuracy. (high bias problem)\n",
    "# Adding more features to making model can increase accuracy of the model.(multi-valued features)"
   ]
  },
  {
   "cell_type": "markdown",
   "metadata": {},
   "source": [
    "------------------------------------\n",
    "# Problem9\n",
    "\n",
    "Make more complex model by using additional features.\n",
    "\n",
    "ex. \n",
    "     [ bow, categories, user additional rating(useful, cool, funny), ....]\n",
    "\n",
    "-----------------------------------------------------\n",
    "\n",
    "\n",
    "# Problem10\n",
    "\n",
    "Select the general model by cross validation.\n",
    "\n",
    "You can choose the model by selecting features or paramters\n"
   ]
  },
  {
   "cell_type": "markdown",
   "metadata": {},
   "source": [
    "problem 9\n",
    "I made a model with using all features in reviews data(votes, city, categories, and so on..)"
   ]
  },
  {
   "cell_type": "code",
   "execution_count": 20,
   "metadata": {
    "collapsed": false
   },
   "outputs": [],
   "source": [
    "\n",
    "def make_bow(data):    \n",
    "    vectorizer_2 = CountVectorizer(min_df=0)\n",
    "    \n",
    "    # Write your code\n",
    "    lst = []\n",
    "    lst_mer=[]\n",
    "    doc = data['reviews']\n",
    "    \n",
    "    for i in range(len(data)) :\n",
    "        for j in range(len(data.reviews[i])):\n",
    "            lst.append(doc[i][j])\n",
    "        lst_mer.append(str(lst))\n",
    "        \n",
    "        lst =[]\n",
    "\n",
    "    vectorizer_2.fit(lst_mer)\n",
    "    x = vectorizer_2.transform(lst_mer)\n",
    "    \n",
    "    bow_2 = x.toarray()\n",
    "    \n",
    "    return vectorizer_2, bow_2"
   ]
  },
  {
   "cell_type": "code",
   "execution_count": 21,
   "metadata": {
    "collapsed": true
   },
   "outputs": [],
   "source": [
    "vectorizer_2, X_prob9 = make_bow(data)\n",
    "Y_prob9 = data.stars"
   ]
  },
  {
   "cell_type": "code",
   "execution_count": 22,
   "metadata": {
    "collapsed": false
   },
   "outputs": [
    {
     "data": {
      "text/plain": [
       "SGDClassifier(alpha=0.0001, average=False, class_weight=None, epsilon=0.1,\n",
       "       eta0=0.0, fit_intercept=True, l1_ratio=0.15,\n",
       "       learning_rate='optimal', loss='hinge', n_iter=5, n_jobs=1,\n",
       "       penalty='l2', power_t=0.5, random_state=None, shuffle=True,\n",
       "       verbose=0, warm_start=False)"
      ]
     },
     "execution_count": 22,
     "metadata": {},
     "output_type": "execute_result"
    }
   ],
   "source": [
    "Y_prob9 = (Y_prob9 * 10).astype('int64')\n",
    "x_train_2, x_test_2, y_train_2, y_test_2 = train_test_split(X_prob9,Y_prob9, test_size=0.2)\n",
    "sgd = SGDClassifier()\n",
    "sgd.fit(x_train_2, y_train_2)"
   ]
  },
  {
   "cell_type": "code",
   "execution_count": 74,
   "metadata": {
    "collapsed": false
   },
   "outputs": [
    {
     "name": "stdout",
     "output_type": "stream",
     "text": [
      "Model Accuracy: 0.000000\n",
      "Model Accuracy: 38.095238\n",
      "# iter_num  5\n",
      "\tModel Accuracy: 14.285714\n",
      "# iter_num  15\n",
      "\tModel Accuracy: 42.857143\n",
      "# iter_num  25\n",
      "\tModel Accuracy: 47.619048\n",
      "# iter_num  35\n",
      "\tModel Accuracy: 42.857143\n",
      "# iter_num  45\n",
      "\tModel Accuracy: 57.142857\n",
      "# iter_num  55\n",
      "\tModel Accuracy: 52.380952\n",
      "# iter_num  65\n",
      "\tModel Accuracy: 42.857143\n",
      "# iter_num  75\n",
      "\tModel Accuracy: 47.619048\n",
      "# iter_num  85\n",
      "\tModel Accuracy: 52.380952\n",
      "# iter_num  95\n",
      "\tModel Accuracy: 47.619048\n",
      "# iter_num  105\n",
      "\tModel Accuracy: 52.380952\n",
      "# iter_num  115\n",
      "\tModel Accuracy: 38.095238\n",
      "# iter_num  125\n",
      "\tModel Accuracy: 52.380952\n",
      "# iter_num  135\n",
      "\tModel Accuracy: 47.619048\n",
      "# iter_num  145\n",
      "\tModel Accuracy: 47.619048\n",
      "# iter_num  155\n",
      "\tModel Accuracy: 52.380952\n",
      "# iter_num  165\n",
      "\tModel Accuracy: 47.619048\n",
      "# iter_num  175\n",
      "\tModel Accuracy: 52.380952\n",
      "# iter_num  185\n",
      "\tModel Accuracy: 47.619048\n",
      "# iter_num  195\n",
      "\tModel Accuracy: 52.380952\n"
     ]
    }
   ],
   "source": [
    "print \"Model Accuracy: %f\" % (100 * sgd.score(x_test_2, y_test_2))\n",
    "\n",
    "nb = MultinomialNB()\n",
    "nb.fit(x_train_2, y_train_2)\n",
    "print \"Model Accuracy: %f\" % (100 * nb.score(x_test_2, y_test_2))\n",
    "\n",
    "result_2 = dict()\n",
    "for iter_num_2 in range(5, 200, 10):\n",
    "        print \"# iter_num \", iter_num_2\n",
    "        sgd = SGDClassifier(n_iter=iter_num_2)\n",
    "        sgd.fit(x_train_2, y_train_2)\n",
    "        \n",
    "        acc = 100 * sgd.score(x_test_2, y_test_2)\n",
    "        print \"\\tModel Accuracy: %f\" % acc\n",
    "        \n",
    "        result_2[iter_num_2] = acc"
   ]
  },
  {
   "cell_type": "code",
   "execution_count": 86,
   "metadata": {
    "collapsed": false,
    "scrolled": true
   },
   "outputs": [
    {
     "data": {
      "image/png": "[encoded data removed]",
      "text/plain": [
       "<matplotlib.figure.Figure at 0x1901aac8>"
      ]
     },
     "metadata": {},
     "output_type": "display_data"
    }
   ],
   "source": [
    "result_2_od = collections.OrderedDict(sorted(result_2.items()))\n",
    "\n",
    "for title, data_dict in result_2_od.iteritems():\n",
    "    re_2_iter_num = result_2_od.keys()\n",
    "    re_2_acc = result_2_od.values()\n",
    "\n",
    "plt.axis([0,200,0,100])\n",
    "plt.xlabel('iter_num')\n",
    "plt.ylabel('Model_Accuracy')\n",
    "plt.plot(re_2_iter_num,re_2_acc,color = \"red\") # review의 모든 feature들을 변수로 한 모델\n",
    "plt.plot(re_iter_num,re_acc, color=\"blue\") # review의 text feature만을 변수로 한 모델\n",
    "plt.show()\n",
    "\n",
    "# 변수를 여러개로 했더니 모델의 정확도가 훨씬 증가한 것을 볼 수 있습니다."
   ]
  },
  {
   "cell_type": "markdown",
   "metadata": {},
   "source": [
    "Problem 10"
   ]
  },
  {
   "cell_type": "code",
   "execution_count": 52,
   "metadata": {
    "collapsed": false
   },
   "outputs": [
    {
     "name": "stdout",
     "output_type": "stream",
     "text": [
      "<type 'numpy.ndarray'>\n"
     ]
    }
   ],
   "source": [
    "\n",
    "lst_train=[]\n",
    "lst_test=[]\n",
    "kf = KFold(101, n_folds=5)\n",
    "for train, test in kf:\n",
    "#        print(\"%s %s\" % (train, test))\n",
    "        lst_train.append(train)\n",
    "        lst_test.append(test)        \n",
    "      "
   ]
  },
  {
   "cell_type": "code",
   "execution_count": 69,
   "metadata": {
    "collapsed": false
   },
   "outputs": [],
   "source": [
    "x_cv1_train,x_cv1_test = X_prob9[lst_train[0]],X_prob9[lst_test[0]]\n",
    "y_cv1_train,y_cv1_test = Y_prob9[lst_train[0]],Y_prob9[lst_test[0]]\n",
    "\n",
    "x_cv2_train,x_cv2_test = X_prob9[lst_train[1]],X_prob9[lst_test[1]]\n",
    "y_cv2_train,y_cv2_test = Y_prob9[lst_train[1]],Y_prob9[lst_test[1]]\n",
    "\n",
    "x_cv3_train,x_cv3_test = X_prob9[lst_train[2]],X_prob9[lst_test[2]]\n",
    "y_cv3_train,y_cv3_test = Y_prob9[lst_train[2]],Y_prob9[lst_test[2]]\n",
    "\n",
    "x_cv4_train,x_cv4_test = X_prob9[lst_train[3]],X_prob9[lst_test[3]]\n",
    "y_cv4_train,y_cv4_test = Y_prob9[lst_train[3]],Y_prob9[lst_test[3]]\n",
    "\n",
    "x_cv5_train,x_cv5_test = X_prob9[lst_train[4]],X_prob9[lst_test[4]]\n",
    "y_cv5_train,y_cv5_test = Y_prob9[lst_train[4]],Y_prob9[lst_test[4]]"
   ]
  },
  {
   "cell_type": "code",
   "execution_count": 86,
   "metadata": {
    "collapsed": false
   },
   "outputs": [
    {
     "name": "stdout",
     "output_type": "stream",
     "text": [
      "# iter_num  5\n",
      "\tModel Accuracy: 33.333333\n",
      "# iter_num  15\n",
      "\tModel Accuracy: 23.809524\n",
      "# iter_num  25\n",
      "\tModel Accuracy: 33.333333\n",
      "# iter_num  35\n",
      "\tModel Accuracy: 38.095238\n",
      "# iter_num  45\n",
      "\tModel Accuracy: 38.095238\n",
      "# iter_num  55\n",
      "\tModel Accuracy: 38.095238\n",
      "# iter_num  65\n",
      "\tModel Accuracy: 28.571429\n",
      "# iter_num  75\n",
      "\tModel Accuracy: 38.095238\n",
      "# iter_num  85\n",
      "\tModel Accuracy: 33.333333\n",
      "# iter_num  95\n",
      "\tModel Accuracy: 33.333333\n"
     ]
    }
   ],
   "source": [
    "sgd = SGDClassifier()\n",
    "sgd.fit(x_cv1_train, y_cv1_train)\n",
    "nb = MultinomialNB()\n",
    "nb.fit(x_cv1_train, y_cv1_train)\n",
    "\n",
    "result_cv1 = dict()\n",
    "for iter_num_cv1 in range(5, 100, 10):\n",
    "        print \"# iter_num \", iter_num_cv1\n",
    "        sgd = SGDClassifier(n_iter=iter_num_cv1)\n",
    "        sgd.fit(x_cv1_train, y_cv1_train)\n",
    "        \n",
    "        acc = 100 * sgd.score(x_cv1_test, y_cv1_test)\n",
    "        print \"\\tModel Accuracy: %f\" % acc\n",
    "        \n",
    "        result_cv1[iter_num_cv1] = acc"
   ]
  },
  {
   "cell_type": "code",
   "execution_count": 89,
   "metadata": {
    "collapsed": false
   },
   "outputs": [],
   "source": [
    "result_cv1_od = collections.OrderedDict(sorted(result_cv1.items()))\n",
    "for title, data_dict in result_cv1_od.iteritems():\n",
    "    re_cv1_iter_num = result_cv1_od.keys()\n",
    "    re_cv1_acc = result_cv1_od.values()"
   ]
  },
  {
   "cell_type": "code",
   "execution_count": 90,
   "metadata": {
    "collapsed": false
   },
   "outputs": [
    {
     "name": "stdout",
     "output_type": "stream",
     "text": [
      "# iter_num  5\n",
      "\tModel Accuracy: 20.000000\n",
      "# iter_num  15\n",
      "\tModel Accuracy: 30.000000\n",
      "# iter_num  25\n",
      "\tModel Accuracy: 35.000000\n",
      "# iter_num  35\n",
      "\tModel Accuracy: 40.000000\n",
      "# iter_num  45\n",
      "\tModel Accuracy: 45.000000\n",
      "# iter_num  55\n",
      "\tModel Accuracy: 40.000000\n",
      "# iter_num  65\n",
      "\tModel Accuracy: 35.000000\n",
      "# iter_num  75\n",
      "\tModel Accuracy: 40.000000\n",
      "# iter_num  85\n",
      "\tModel Accuracy: 40.000000\n",
      "# iter_num  95\n",
      "\tModel Accuracy: 40.000000\n"
     ]
    }
   ],
   "source": [
    "sgd.fit(x_cv2_train, y_cv2_train)\n",
    "nb = MultinomialNB()\n",
    "nb.fit(x_cv2_train, y_cv2_train)\n",
    "\n",
    "result_cv2 = dict()\n",
    "for iter_num_cv2 in range(5, 100, 10):\n",
    "        print \"# iter_num \", iter_num_cv2\n",
    "        sgd = SGDClassifier(n_iter=iter_num_cv2)\n",
    "        sgd.fit(x_cv2_train, y_cv2_train)\n",
    "        \n",
    "        acc = 100 * sgd.score(x_cv2_test, y_cv2_test)\n",
    "        print \"\\tModel Accuracy: %f\" % acc\n",
    "        \n",
    "        result_cv2[iter_num_cv2] = acc"
   ]
  },
  {
   "cell_type": "code",
   "execution_count": 91,
   "metadata": {
    "collapsed": true
   },
   "outputs": [],
   "source": [
    "result_cv2_od = collections.OrderedDict(sorted(result_cv2.items()))\n",
    "for title, data_dict in result_cv2_od.iteritems():\n",
    "    re_cv2_iter_num = result_cv2_od.keys()\n",
    "    re_cv2_acc = result_cv2_od.values()"
   ]
  },
  {
   "cell_type": "code",
   "execution_count": 92,
   "metadata": {
    "collapsed": false
   },
   "outputs": [
    {
     "name": "stdout",
     "output_type": "stream",
     "text": [
      "# iter_num  5\n",
      "\tModel Accuracy: 25.000000\n",
      "# iter_num  15\n",
      "\tModel Accuracy: 35.000000\n",
      "# iter_num  25\n",
      "\tModel Accuracy: 30.000000\n",
      "# iter_num  35\n",
      "\tModel Accuracy: 40.000000\n",
      "# iter_num  45\n",
      "\tModel Accuracy: 35.000000\n",
      "# iter_num  55\n",
      "\tModel Accuracy: 25.000000\n",
      "# iter_num  65\n",
      "\tModel Accuracy: 25.000000\n",
      "# iter_num  75\n",
      "\tModel Accuracy: 30.000000\n",
      "# iter_num  85\n",
      "\tModel Accuracy: 35.000000\n",
      "# iter_num  95\n",
      "\tModel Accuracy: 25.000000\n"
     ]
    }
   ],
   "source": [
    "sgd.fit(x_cv3_train, y_cv3_train)\n",
    "nb = MultinomialNB()\n",
    "nb.fit(x_cv3_train, y_cv3_train)\n",
    "\n",
    "result_cv3 = dict()\n",
    "for iter_num_cv3 in range(5, 100, 10):\n",
    "        print \"# iter_num \", iter_num_cv3\n",
    "        sgd = SGDClassifier(n_iter=iter_num_cv3)\n",
    "        sgd.fit(x_cv3_train, y_cv3_train)\n",
    "        \n",
    "        acc = 100 * sgd.score(x_cv3_test, y_cv3_test)\n",
    "        print \"\\tModel Accuracy: %f\" % acc\n",
    "        \n",
    "        result_cv3[iter_num_cv3] = acc"
   ]
  },
  {
   "cell_type": "code",
   "execution_count": 93,
   "metadata": {
    "collapsed": true
   },
   "outputs": [],
   "source": [
    "result_cv3_od = collections.OrderedDict(sorted(result_cv3.items()))\n",
    "for title, data_dict in result_cv3_od.iteritems():\n",
    "    re_cv3_iter_num = result_cv3_od.keys()\n",
    "    re_cv3_acc = result_cv3_od.values()"
   ]
  },
  {
   "cell_type": "code",
   "execution_count": 94,
   "metadata": {
    "collapsed": false
   },
   "outputs": [
    {
     "name": "stdout",
     "output_type": "stream",
     "text": [
      "# iter_num  5\n",
      "\tModel Accuracy: 45.000000\n",
      "# iter_num  15\n",
      "\tModel Accuracy: 55.000000\n",
      "# iter_num  25\n",
      "\tModel Accuracy: 60.000000\n",
      "# iter_num  35\n",
      "\tModel Accuracy: 20.000000\n",
      "# iter_num  45\n",
      "\tModel Accuracy: 50.000000\n",
      "# iter_num  55\n",
      "\tModel Accuracy: 50.000000\n",
      "# iter_num  65\n",
      "\tModel Accuracy: 50.000000\n",
      "# iter_num  75\n",
      "\tModel Accuracy: 60.000000\n",
      "# iter_num  85\n",
      "\tModel Accuracy: 55.000000\n",
      "# iter_num  95\n",
      "\tModel Accuracy: 65.000000\n"
     ]
    }
   ],
   "source": [
    "sgd.fit(x_cv4_train, y_cv4_train)\n",
    "nb = MultinomialNB()\n",
    "nb.fit(x_cv4_train, y_cv4_train)\n",
    "\n",
    "result_cv4 = dict()\n",
    "for iter_num_cv4 in range(5, 100, 10):\n",
    "        print \"# iter_num \", iter_num_cv4\n",
    "        sgd = SGDClassifier(n_iter=iter_num_cv4)\n",
    "        sgd.fit(x_cv4_train, y_cv4_train)\n",
    "        \n",
    "        acc = 100 * sgd.score(x_cv4_test, y_cv4_test)\n",
    "        print \"\\tModel Accuracy: %f\" % acc\n",
    "        \n",
    "        result_cv4[iter_num_cv4] = acc"
   ]
  },
  {
   "cell_type": "code",
   "execution_count": 95,
   "metadata": {
    "collapsed": true
   },
   "outputs": [],
   "source": [
    "result_cv4_od = collections.OrderedDict(sorted(result_cv4.items()))\n",
    "for title, data_dict in result_cv4_od.iteritems():\n",
    "    re_cv4_iter_num = result_cv4_od.keys()\n",
    "    re_cv4_acc = result_cv4_od.values()"
   ]
  },
  {
   "cell_type": "code",
   "execution_count": 96,
   "metadata": {
    "collapsed": false
   },
   "outputs": [
    {
     "name": "stdout",
     "output_type": "stream",
     "text": [
      "# iter_num  5\n",
      "\tModel Accuracy: 10.000000\n",
      "# iter_num  15\n",
      "\tModel Accuracy: 20.000000\n",
      "# iter_num  25\n",
      "\tModel Accuracy: 60.000000\n",
      "# iter_num  35\n",
      "\tModel Accuracy: 45.000000\n",
      "# iter_num  45\n",
      "\tModel Accuracy: 50.000000\n",
      "# iter_num  55\n",
      "\tModel Accuracy: 30.000000\n",
      "# iter_num  65\n",
      "\tModel Accuracy: 55.000000\n",
      "# iter_num  75\n",
      "\tModel Accuracy: 50.000000\n",
      "# iter_num  85\n",
      "\tModel Accuracy: 45.000000\n",
      "# iter_num  95\n",
      "\tModel Accuracy: 45.000000\n"
     ]
    }
   ],
   "source": [
    "sgd.fit(x_cv5_train, y_cv5_train)\n",
    "nb = MultinomialNB()\n",
    "nb.fit(x_cv5_train, y_cv5_train)\n",
    "\n",
    "result_cv5 = dict()\n",
    "for iter_num_cv5 in range(5, 100, 10):\n",
    "        print \"# iter_num \", iter_num_cv5\n",
    "        sgd = SGDClassifier(n_iter=iter_num_cv5)\n",
    "        sgd.fit(x_cv5_train, y_cv5_train)\n",
    "        \n",
    "        acc = 100 * sgd.score(x_cv5_test, y_cv5_test)\n",
    "        print \"\\tModel Accuracy: %f\" % acc\n",
    "        \n",
    "        result_cv5[iter_num_cv5] = acc"
   ]
  },
  {
   "cell_type": "code",
   "execution_count": 97,
   "metadata": {
    "collapsed": true
   },
   "outputs": [],
   "source": [
    "result_cv5_od = collections.OrderedDict(sorted(result_cv5.items()))\n",
    "for title, data_dict in result_cv5_od.iteritems():\n",
    "    re_cv5_iter_num = result_cv5_od.keys()\n",
    "    re_cv5_acc = result_cv5_od.values()"
   ]
  },
  {
   "cell_type": "code",
   "execution_count": 99,
   "metadata": {
    "collapsed": false
   },
   "outputs": [
    {
     "data": {
      "image/png": "[encoded data removed]",
      "text/plain": [
       "<matplotlib.figure.Figure at 0xbf78630>"
      ]
     },
     "metadata": {},
     "output_type": "display_data"
    }
   ],
   "source": [
    "plt.axis([0,100,0,100])\n",
    "plt.xlabel('iter_num')\n",
    "plt.ylabel('Model_Accuracy')\n",
    "plt.plot(re_cv1_iter_num,re_cv1_acc, color = \"red\") # cv1\n",
    "plt.plot(re_cv2_iter_num,re_cv2_acc, color=\"blue\") # cv2\n",
    "plt.plot(re_cv3_iter_num,re_cv3_acc, color = \"green\") # cv3\n",
    "plt.plot(re_cv4_iter_num,re_cv4_acc, color=\"cyan\") # cv4\n",
    "plt.plot(re_cv5_iter_num,re_cv5_acc, color=\"black\") # cv5\n",
    "plt.show()"
   ]
  },
  {
   "cell_type": "markdown",
   "metadata": {},
   "source": [
    "CV4 is best model."
   ]
  }
 ],
 "metadata": {
  "kernelspec": {
   "display_name": "Python 2",
   "language": "python",
   "name": "python2"
  },
  "language_info": {
   "codemirror_mode": {
    "name": "ipython",
    "version": 2
   },
   "file_extension": ".py",
   "mimetype": "text/x-python",
   "name": "python",
   "nbconvert_exporter": "python",
   "pygments_lexer": "ipython2",
   "version": "2.7.11"
  }
 },
 "nbformat": 4,
 "nbformat_minor": 0
}
